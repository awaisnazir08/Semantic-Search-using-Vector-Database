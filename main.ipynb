{
 "cells": [
  {
   "cell_type": "code",
   "execution_count": 12,
   "metadata": {},
   "outputs": [],
   "source": [
    "import torch\n",
    "import clip\n",
    "import numpy as np\n",
    "import matplotlib.pyplot as plt\n",
    "from PIL import Image\n",
    "from io import BytesIO\n",
    "import requests\n",
    "import json"
   ]
  },
  {
   "cell_type": "code",
   "execution_count": 3,
   "metadata": {},
   "outputs": [],
   "source": [
    "device = 'cuda' if torch.cuda.is_available() else 'cpu'\n",
    "\n",
    "model, preprocess = clip.load(\"ViT-B/32\", device=device)"
   ]
  },
  {
   "cell_type": "code",
   "execution_count": 9,
   "metadata": {},
   "outputs": [],
   "source": [
    "sample_data_path = 'D:\\Datasets\\Amazon\\\\toys.json'"
   ]
  },
  {
   "cell_type": "code",
   "execution_count": 10,
   "metadata": {},
   "outputs": [],
   "source": [
    "def generate_text_embeddings(text):\n",
    "    text_features = clip.tokenize([text]).to(device)\n",
    "    with torch.no_grad():\n",
    "        text_embeddings = model.encode_text(text_features).cpu().numpy()[0]\n",
    "        return text_embeddings\n",
    "\n",
    "def generate_image_embeddings(image_url):\n",
    "    response = requests.get(image_url)\n",
    "    img = Image.open(BytesIO(response.content))\n",
    "    img_preprocessed = preprocess(img).unsqueeze(0).to(device)\n",
    "    with torch.no_grad():\n",
    "        image_embeddings = model.encode_image(img_preprocessed).float()\n",
    "    # print(image_embeddings.shape)\n",
    "    return image_embeddings[0].cpu()\n",
    "    \n",
    "    # plt.imshow(img)\n",
    "    # plt.show()\n"
   ]
  },
  {
   "cell_type": "code",
   "execution_count": 11,
   "metadata": {},
   "outputs": [
    {
     "name": "stdout",
     "output_type": "stream",
     "text": [
      "tensor([-2.0563e-01,  4.0824e-01,  2.0260e-01, -4.3573e-03, -4.0304e-01,\n",
      "        -8.3711e-02, -5.7597e-01,  3.1957e-01, -1.1863e-01,  4.6780e-01,\n",
      "        -3.8482e-01, -1.7122e-01,  8.2032e-01,  1.9972e-01,  2.6823e-01,\n",
      "         3.2082e-01, -4.3587e-01,  1.8565e-01, -2.1796e-01, -5.6221e-01,\n",
      "         5.3300e-01, -2.3596e-01, -2.3956e-01, -5.4815e-01,  2.0323e-02,\n",
      "         1.5443e-01,  1.2266e-01, -6.7059e-01, -2.9442e-02,  7.6580e-02,\n",
      "         4.8397e-01,  1.6224e-01,  3.5593e-01, -3.9257e-02, -6.8447e-01,\n",
      "        -5.4905e-02, -2.1744e-01, -7.5837e-02, -7.2281e-02, -5.7532e-01,\n",
      "         1.3108e-01,  4.4093e-01,  1.3092e-01,  4.2254e-01,  6.2010e-02,\n",
      "        -9.7659e-01, -5.3904e-03,  7.2697e-01,  5.5399e-01, -3.1402e-01,\n",
      "         8.2728e-01,  3.5789e-01, -3.0952e-01,  6.2525e-01, -2.9065e-01,\n",
      "         1.2372e-01, -2.8664e-01,  1.3221e-01,  2.4481e-01,  5.4969e-01,\n",
      "        -1.3926e-01, -3.9141e-01, -1.0374e-01,  6.7250e-02, -3.9294e-02,\n",
      "        -4.8345e-01,  1.1323e-01,  1.4907e-01, -5.6833e-02,  1.5284e-02,\n",
      "        -8.0441e-01, -8.1769e-02, -1.4871e-01,  8.2864e-01, -2.3100e-01,\n",
      "        -2.0402e-01,  1.4377e-01,  5.6526e-02,  2.1395e-01,  2.4147e-02,\n",
      "        -6.2322e-01,  8.3095e-02,  4.4856e-02, -1.9063e-01,  2.0262e-01,\n",
      "        -1.5873e-02,  1.2801e+00, -2.6481e-01, -4.3355e-01,  4.9378e-01,\n",
      "        -1.0482e-01,  2.5123e-01, -4.4781e+00, -2.8149e-01,  1.4647e-01,\n",
      "         1.3620e-01, -6.9636e-01,  1.8690e-01,  2.6123e-01,  2.9735e-01,\n",
      "         1.0881e-01, -6.8556e-01,  5.6448e-01,  2.8533e-02,  2.9108e-01,\n",
      "        -4.5336e-01, -8.6433e-01, -5.1062e-01,  6.1692e-01,  4.0060e-02,\n",
      "         1.6232e-01,  9.8016e-01, -2.2927e-01, -2.3593e-02, -2.3675e-01,\n",
      "        -5.7256e-01, -6.0529e-01,  2.2979e-02, -1.2517e-01,  3.7467e-02,\n",
      "         5.3094e-01,  1.9485e-01, -4.1848e-01, -4.1185e-01,  1.3938e-01,\n",
      "         5.5218e-01, -2.9719e-01,  4.1088e-01, -6.5508e-01, -3.5766e-01,\n",
      "        -4.5268e-01, -1.2188e-01, -5.2982e-01,  6.0598e-01,  7.4727e-03,\n",
      "        -1.6919e-01,  2.9448e-01, -2.1995e-01,  2.7176e-01,  3.2660e-01,\n",
      "        -4.2609e-01, -4.8159e-02,  3.5088e-01,  9.9756e-02,  7.4938e-02,\n",
      "         2.5110e-01,  3.0984e-02,  1.7509e-01,  5.4554e-01, -1.3415e-01,\n",
      "        -3.6544e-01, -2.4002e-01,  9.4943e-01, -3.0380e-01, -1.8051e-01,\n",
      "        -2.9715e-01,  7.6717e-02,  1.2026e-01, -8.2812e-02,  4.4865e-02,\n",
      "        -3.2136e-01, -4.7743e-02,  5.0913e-01, -2.8719e-01,  5.2066e-02,\n",
      "         4.6373e-01, -2.0917e-01, -1.2284e-01,  2.0625e-01, -5.1658e-02,\n",
      "        -9.2730e-02, -1.6930e-01, -1.0171e-01, -7.9274e-03,  5.5594e-02,\n",
      "        -2.1802e-01,  3.7153e-01, -2.7289e-01,  3.6286e-02, -2.0039e-02,\n",
      "         1.6061e-01,  1.3418e-01,  3.5195e-01,  3.3553e-01,  3.0985e-02,\n",
      "         5.3996e-01, -8.5342e-02, -2.1168e-01, -3.2414e-02,  2.0233e-01,\n",
      "         2.8915e-01,  6.1108e-01,  5.2152e-02, -3.4608e-01,  1.0409e+00,\n",
      "        -1.6278e-01,  3.3509e-01, -2.2107e-01,  4.8940e-01, -1.9758e-01,\n",
      "        -1.7631e-01, -2.8315e-01,  3.3771e-01,  3.1032e-02,  1.8113e-01,\n",
      "         5.1295e-02, -1.4346e-01, -4.7538e-02,  2.8048e-02, -2.5609e-02,\n",
      "        -6.1150e-01, -5.3058e-01, -6.2041e-02,  2.4843e-02, -5.0337e-01,\n",
      "         2.2403e-01, -1.4538e-01, -8.1665e-02,  6.9184e-01,  4.4703e-01,\n",
      "        -2.7553e-01, -9.3828e-01,  2.1862e-01, -2.8864e-01,  2.6727e-01,\n",
      "        -1.8339e-01, -1.8974e-02,  4.6685e-01,  2.0644e-01, -1.4456e-01,\n",
      "         2.8002e-01, -2.7048e-01, -2.9241e-01,  4.9466e-01,  3.8586e-01,\n",
      "        -4.2165e-01,  1.6763e-01, -1.2894e-01, -4.3839e-01, -2.0893e-01,\n",
      "         3.7965e-02, -5.0282e-02, -5.0962e-01, -5.6266e-02, -8.8997e-02,\n",
      "         1.1076e+00, -6.4377e-02,  8.0724e-01,  4.3824e-02, -5.6828e-02,\n",
      "         3.4319e-01, -8.2233e-02, -4.6341e-01, -2.9198e-01,  2.8601e-01,\n",
      "         1.2780e-01,  7.3234e-02, -2.2685e-01, -8.9589e-01, -3.7663e-01,\n",
      "         3.0286e-01,  2.1138e-01, -9.5502e-02, -6.0426e-01,  3.4470e-01,\n",
      "         1.1497e-01, -1.9682e-01,  7.7955e-03,  1.0844e-01, -8.6377e-02,\n",
      "        -1.6547e-01,  1.3019e-01,  3.2449e-01, -1.6277e-01, -2.5993e-01,\n",
      "         9.2562e-02,  5.7989e-01, -7.4654e-02, -6.4335e-01,  2.3081e-01,\n",
      "        -2.0237e-01, -7.4149e-02,  4.4410e-01,  3.4414e-01, -3.0622e-01,\n",
      "        -2.5113e-01,  4.9165e-01,  3.5260e-01,  2.3735e-01, -3.7229e-01,\n",
      "         4.8159e-01, -3.0743e-01,  5.5095e-02,  4.2886e-01,  4.0725e-01,\n",
      "        -1.1338e-01,  4.7153e-01, -5.1533e-02, -5.9909e-02,  5.8632e-02,\n",
      "         1.7780e-01,  4.7487e-01,  2.8072e-01, -2.1430e-01, -4.5267e-01,\n",
      "        -2.8682e-02,  2.1339e-01,  6.1777e-01,  4.8180e-01, -1.0955e-01,\n",
      "         4.2551e-01, -9.8205e-02,  6.0554e-01, -6.9490e-01, -2.2415e-01,\n",
      "        -6.1338e-03,  8.5567e-01, -2.0581e-01,  5.3731e-01,  6.6597e-01,\n",
      "        -2.3606e-01,  1.5082e+00,  1.1341e-01,  5.1437e-01,  1.8671e-01,\n",
      "         1.2126e-02,  7.9943e-04, -3.9745e-01,  1.8303e-02, -6.4928e-01,\n",
      "         1.8584e-01,  3.5316e-01, -5.6355e-01, -2.9719e-01,  1.7654e-01,\n",
      "        -8.0440e-01, -1.3208e-01, -6.5656e-02,  2.3213e-01, -6.0805e-01,\n",
      "        -1.8183e-01,  5.9900e-01,  3.7936e-01,  3.8672e-01,  7.8396e-02,\n",
      "        -3.8059e-01,  3.0153e-01,  3.6717e-01, -5.9680e-01, -6.5278e-01,\n",
      "         1.1040e-01,  2.8305e-01, -9.1300e-03, -1.1104e-01,  6.5343e-01,\n",
      "         2.4573e-01,  2.5089e-02,  8.4706e-01,  3.2043e-01,  4.3711e-01,\n",
      "         5.6591e-01,  9.4155e-02, -2.8306e-01, -1.5202e-01, -6.9059e-01,\n",
      "        -3.1285e-02, -1.8483e-01, -1.3468e+00,  3.1912e-01,  6.1220e-01,\n",
      "         6.0405e-02, -2.1676e-01, -8.1866e-02,  6.9999e-02, -5.4656e-01,\n",
      "        -3.7994e-01,  8.7669e-01, -2.6707e-01,  2.9054e-01, -8.5774e-02,\n",
      "         5.2059e-01,  5.6280e-02, -3.9731e-01,  1.4683e-01, -1.2761e-01,\n",
      "         1.2693e-01,  5.1756e-01,  2.5430e-01,  1.3201e-01, -2.5095e-01,\n",
      "        -1.0041e-01,  7.4106e-02, -2.8179e-01,  1.0028e-01,  4.2469e-01,\n",
      "        -2.8459e-02, -1.8890e-01, -4.3138e-01,  5.4850e-01, -2.3114e-01,\n",
      "        -3.0198e-01, -3.5659e-02,  4.1404e-01, -5.0201e-01,  4.4801e-01,\n",
      "         2.8407e-02,  1.6815e-01,  1.1464e-01, -2.3968e-01,  1.2571e-01,\n",
      "         7.4070e-02, -1.4959e-01,  2.3957e-01, -1.4550e-01, -1.3556e-01,\n",
      "         2.9922e-01,  2.9523e-01, -2.8686e-01,  2.1765e-01, -4.6680e-01,\n",
      "         1.4694e-01, -2.4234e-01,  3.9471e-01, -1.9303e-02,  7.7732e-02,\n",
      "         2.2830e-01, -1.6071e-01, -6.6707e-01, -2.8147e+00, -3.1421e-01,\n",
      "         1.3446e-01, -3.7203e-02, -2.1904e-01,  3.7883e-01,  6.1366e-02,\n",
      "         8.1918e-02, -5.5022e-01, -1.9629e-01, -3.0371e-01,  2.7247e-01,\n",
      "         9.3377e-02,  1.3991e-01,  5.2005e-02,  5.3108e-01,  2.3329e-01,\n",
      "         2.7471e-01, -3.6708e-01,  9.3913e-02, -2.0733e-01,  3.3222e-01,\n",
      "         4.3089e-01,  5.0438e-01,  2.3824e-01, -2.1109e-01, -2.0521e-01,\n",
      "         5.7007e-02, -3.7448e-01,  3.5602e-01, -1.9902e-01, -3.4790e-01,\n",
      "        -1.9226e-01, -5.1420e-02,  4.6790e-01, -8.4713e-03, -2.1002e-02,\n",
      "        -4.0236e-01,  3.7999e-01,  2.1567e-01,  1.1223e-01, -1.7641e-01,\n",
      "         7.3508e-01,  2.1450e-01,  4.6543e-01,  1.7611e-01,  2.2422e-01,\n",
      "         5.8012e-02,  3.9295e-02,  3.5351e-01, -6.5631e-02,  3.8793e-01,\n",
      "        -1.1317e-01, -7.8934e-01,  1.1674e-01, -3.3960e-01,  5.4634e-01,\n",
      "         5.5001e-01, -1.3891e-01,  1.9908e-01, -2.0534e-01,  1.4150e-01,\n",
      "        -6.0320e-01, -2.3019e-02,  1.5512e-01, -8.4036e-02,  3.3277e-02,\n",
      "        -4.1448e-01,  5.3811e-01, -1.4864e-01,  3.5438e-01,  6.4683e-02,\n",
      "        -1.0682e-01, -3.1956e-01,  4.1327e-02, -8.8516e-02, -3.7894e-01,\n",
      "        -1.7847e-01,  4.2374e-01,  2.9188e-01, -5.1240e-01, -3.5711e-01,\n",
      "         1.6757e-01,  9.3797e-02])\n"
     ]
    }
   ],
   "source": [
    "e = generate_image_embeddings('https://m.media-amazon.com/images/I/612JNfob9nL._AC_UY218_.jpg')\n",
    "print(e)"
   ]
  },
  {
   "cell_type": "code",
   "execution_count": 15,
   "metadata": {},
   "outputs": [
    {
     "name": "stdout",
     "output_type": "stream",
     "text": [
      "{'Position': '1', 'Title': 'LEGO Creator 3 in 1 Mighty Dinosaur Toy, Transforms from T. rex to Triceratops to Pterodactyl Dinosaur Figures, Great Gift for 7-12 Year Old Boys & Girls, 31058', 'Product link': 'https://www.amazon.com/LEGO-Dinosaurs-31058-Pterodactyl-Triceratops/dp/B01KJEOCDW/ref=sr_1_1?dib=eyJ2IjoiMSJ9.8Dfu7I24xpBvk8VDMqbyYZuxLTtZv_kTQ3Fslup8EKTJiB8Mwrx1MDz7LK7hOhRln-JEsbH8Mqi8G7y4UehcOeQ7t8cTMK-vgX4iwnhIeNrxE_iqtRyuIiFSnOLXXKYS4i0P4aCMlI5jzWkmcLx_xL3UBqYtuglKP-E9bfH3i5xcW6pTbo6IX71M48aDR2jm22UjLA9Yg_681QM0an9q6AQcqKk_Fz0zTWBTGGlGZwQY0l6HvXgeXW4KLs_eJc6ni27VAhr_UadZyKm0d8phnTVYK7aKTDAFvfrH_iN20po.QarhQoTvaudqQ_VNxka6GpOnsw3cvSRFzQoDB22HiFg&dib_tag=se&keywords=toys&qid=1718983097&sr=8-1', 'Image': 'https://m.media-amazon.com/images/I/8153mG+qVgL._AC_UL320_.jpg', 'Price': '', 'Reviews': '42,528', 'Rating': '4.8 out of 5 stars', 'Sponsored': ''}\n",
      "{'Position': '2', 'Title': 'Play Purse for Little Girls, 35PCS Toddler Purse with Pretend Makeup for Toddlers, Princess Toys Includes Handbag, Phone, Wallet, Camera, Keys, Kids Purse Birthday Gift for Girls Age 3 4 5 6+', 'Product link': 'https://www.amazon.com/Oisacirg-Toddler-Toddlers-Princess-Birthday/dp/B0CC5HY7FW/ref=sr_1_2?dib=eyJ2IjoiMSJ9.8Dfu7I24xpBvk8VDMqbyYZuxLTtZv_kTQ3Fslup8EKTJiB8Mwrx1MDz7LK7hOhRln-JEsbH8Mqi8G7y4UehcOeQ7t8cTMK-vgX4iwnhIeNrxE_iqtRyuIiFSnOLXXKYS4i0P4aCMlI5jzWkmcLx_xL3UBqYtuglKP-E9bfH3i5xcW6pTbo6IX71M48aDR2jm22UjLA9Yg_681QM0an9q6AQcqKk_Fz0zTWBTGGlGZwQY0l6HvXgeXW4KLs_eJc6ni27VAhr_UadZyKm0d8phnTVYK7aKTDAFvfrH_iN20po.QarhQoTvaudqQ_VNxka6GpOnsw3cvSRFzQoDB22HiFg&dib_tag=se&keywords=toys&qid=1718983097&sr=8-2', 'Image': 'https://m.media-amazon.com/images/I/81sv3I05wCL._AC_UL320_.jpg', 'Price': '$17.99', 'Reviews': '277', 'Rating': '4.7 out of 5 stars', 'Sponsored': ''}\n",
      "{'Position': '3', 'Title': 'JOYIN 25 in 1 Green Military Big Truck Toys, Army Men Tanks Set with Soldier Men, Mini Battle Car Toy in Carrier Truck with Lights and Sounds, Gifts for Toddler Kids Boys Ages 3+', 'Product link': 'https://www.amazon.com/Military-Soldier-Battle-Carrier-Toddler/dp/B092YSK3SK/ref=sr_1_3?dib=eyJ2IjoiMSJ9.8Dfu7I24xpBvk8VDMqbyYZuxLTtZv_kTQ3Fslup8EKTJiB8Mwrx1MDz7LK7hOhRln-JEsbH8Mqi8G7y4UehcOeQ7t8cTMK-vgX4iwnhIeNrxE_iqtRyuIiFSnOLXXKYS4i0P4aCMlI5jzWkmcLx_xL3UBqYtuglKP-E9bfH3i5xcW6pTbo6IX71M48aDR2jm22UjLA9Yg_681QM0an9q6AQcqKk_Fz0zTWBTGGlGZwQY0l6HvXgeXW4KLs_eJc6ni27VAhr_UadZyKm0d8phnTVYK7aKTDAFvfrH_iN20po.QarhQoTvaudqQ_VNxka6GpOnsw3cvSRFzQoDB22HiFg&dib_tag=se&keywords=toys&qid=1718983097&sr=8-3', 'Image': 'https://m.media-amazon.com/images/I/81qPwtru3KL._AC_UL320_.jpg', 'Price': '$29.98', 'Reviews': '3,119', 'Rating': '4.6 out of 5 stars', 'Sponsored': ''}\n",
      "{'Position': '4', 'Title': 'Transformers Toys Heroic Optimus Prime Action Figure - Timeless Large-Scale Figure, Changes into Toy Truck - Toys for Kids 6 and Up, 11-inch (Amazon Exclusive)', 'Product link': 'https://www.amazon.com/Transformers-Heroic-Optimus-Action-Figure/dp/B077YYP739/ref=sr_1_4?dib=eyJ2IjoiMSJ9.8Dfu7I24xpBvk8VDMqbyYZuxLTtZv_kTQ3Fslup8EKTJiB8Mwrx1MDz7LK7hOhRln-JEsbH8Mqi8G7y4UehcOeQ7t8cTMK-vgX4iwnhIeNrxE_iqtRyuIiFSnOLXXKYS4i0P4aCMlI5jzWkmcLx_xL3UBqYtuglKP-E9bfH3i5xcW6pTbo6IX71M48aDR2jm22UjLA9Yg_681QM0an9q6AQcqKk_Fz0zTWBTGGlGZwQY0l6HvXgeXW4KLs_eJc6ni27VAhr_UadZyKm0d8phnTVYK7aKTDAFvfrH_iN20po.QarhQoTvaudqQ_VNxka6GpOnsw3cvSRFzQoDB22HiFg&dib_tag=se&keywords=toys&qid=1718983097&sr=8-4', 'Image': 'https://m.media-amazon.com/images/I/71uRENNFM4L._AC_UL320_.jpg', 'Price': '$24.99', 'Reviews': '8,313', 'Rating': '4.6 out of 5 stars', 'Sponsored': ''}\n",
      "{'Position': '5', 'Title': 'Cash Register Playset for Kids - 48PCS Pretend Play Money, Calculator, Scanner, Credit Card and Play Food for Boys and Girls Ages 3+ (668-125)', 'Product link': 'https://www.amazon.com/Cash-Register-Playset-Kids-Calculator/dp/B0C2MLX56Y/ref=sr_1_5?dib=eyJ2IjoiMSJ9.8Dfu7I24xpBvk8VDMqbyYZuxLTtZv_kTQ3Fslup8EKTJiB8Mwrx1MDz7LK7hOhRln-JEsbH8Mqi8G7y4UehcOeQ7t8cTMK-vgX4iwnhIeNrxE_iqtRyuIiFSnOLXXKYS4i0P4aCMlI5jzWkmcLx_xL3UBqYtuglKP-E9bfH3i5xcW6pTbo6IX71M48aDR2jm22UjLA9Yg_681QM0an9q6AQcqKk_Fz0zTWBTGGlGZwQY0l6HvXgeXW4KLs_eJc6ni27VAhr_UadZyKm0d8phnTVYK7aKTDAFvfrH_iN20po.QarhQoTvaudqQ_VNxka6GpOnsw3cvSRFzQoDB22HiFg&dib_tag=se&keywords=toys&qid=1718983097&sr=8-5', 'Image': 'https://m.media-amazon.com/images/I/71LCFCmP-SL._AC_UL320_.jpg', 'Price': '$26.99', 'Reviews': '307', 'Rating': '3.6 out of 5 stars', 'Sponsored': ''}\n",
      "{'Position': '6', 'Title': 'Interactive Toy Digital Pet with 15 Animals Inside, Virtual Electronic Pets React to Touch, Kids Toys for Girls and Boys', 'Product link': 'https://www.amazon.com/Bitzee-Interactive-Digital-Animals-Electronic/dp/B0BW1B31SR/ref=sr_1_6?dib=eyJ2IjoiMSJ9.8Dfu7I24xpBvk8VDMqbyYZuxLTtZv_kTQ3Fslup8EKTJiB8Mwrx1MDz7LK7hOhRln-JEsbH8Mqi8G7y4UehcOeQ7t8cTMK-vgX4iwnhIeNrxE_iqtRyuIiFSnOLXXKYS4i0P4aCMlI5jzWkmcLx_xL3UBqYtuglKP-E9bfH3i5xcW6pTbo6IX71M48aDR2jm22UjLA9Yg_681QM0an9q6AQcqKk_Fz0zTWBTGGlGZwQY0l6HvXgeXW4KLs_eJc6ni27VAhr_UadZyKm0d8phnTVYK7aKTDAFvfrH_iN20po.QarhQoTvaudqQ_VNxka6GpOnsw3cvSRFzQoDB22HiFg&dib_tag=se&keywords=toys&qid=1718983097&sr=8-6', 'Image': 'https://m.media-amazon.com/images/I/814LArzLeqL._AC_UL320_.jpg', 'Price': '', 'Reviews': '2,934', 'Rating': '4.5 out of 5 stars', 'Sponsored': ''}\n",
      "{'Position': '7', 'Title': 'Kids Smart Phone for Girls, Christmas Birthday Gifts for Girls Age 3-10 Kids Toys Cell Phone, 2.8\" Touchscreen Toddler Learning Play Toy Phone with Dual Camera, Game, Music Player, 8G SD Card (Purple)', 'Product link': 'https://www.amazon.com/Christmas-Birthday-Touchscreen-Toddler-Learning/dp/B0CMTLGC9W/ref=sr_1_7?dib=eyJ2IjoiMSJ9.8Dfu7I24xpBvk8VDMqbyYZuxLTtZv_kTQ3Fslup8EKTJiB8Mwrx1MDz7LK7hOhRln-JEsbH8Mqi8G7y4UehcOeQ7t8cTMK-vgX4iwnhIeNrxE_iqtRyuIiFSnOLXXKYS4i0P4aCMlI5jzWkmcLx_xL3UBqYtuglKP-E9bfH3i5xcW6pTbo6IX71M48aDR2jm22UjLA9Yg_681QM0an9q6AQcqKk_Fz0zTWBTGGlGZwQY0l6HvXgeXW4KLs_eJc6ni27VAhr_UadZyKm0d8phnTVYK7aKTDAFvfrH_iN20po.QarhQoTvaudqQ_VNxka6GpOnsw3cvSRFzQoDB22HiFg&dib_tag=se&keywords=toys&qid=1718983097&sr=8-7', 'Image': 'https://m.media-amazon.com/images/I/71dwraR96OL._AC_UL320_.jpg', 'Price': '$35.90', 'Reviews': '960', 'Rating': '4.2 out of 5 stars', 'Sponsored': ''}\n",
      "{'Position': '8', 'Title': '80Pcs Party Favors for Kids 4-8, Kawaii Squishies Mochi Squishy Toy Bulk Fidget Sensory Toys Birthday Gifts for Boys Girls Goodie Bag Christmas Stocking Stuffers Treasure Box Classroom Prizes', 'Product link': 'https://www.amazon.com/Squishies-Birthday-Christmas-Stocking-Classroom/dp/B0CGHC2BSR/ref=sr_1_8?dib=eyJ2IjoiMSJ9.8Dfu7I24xpBvk8VDMqbyYZuxLTtZv_kTQ3Fslup8EKTJiB8Mwrx1MDz7LK7hOhRln-JEsbH8Mqi8G7y4UehcOeQ7t8cTMK-vgX4iwnhIeNrxE_iqtRyuIiFSnOLXXKYS4i0P4aCMlI5jzWkmcLx_xL3UBqYtuglKP-E9bfH3i5xcW6pTbo6IX71M48aDR2jm22UjLA9Yg_681QM0an9q6AQcqKk_Fz0zTWBTGGlGZwQY0l6HvXgeXW4KLs_eJc6ni27VAhr_UadZyKm0d8phnTVYK7aKTDAFvfrH_iN20po.QarhQoTvaudqQ_VNxka6GpOnsw3cvSRFzQoDB22HiFg&dib_tag=se&keywords=toys&qid=1718983097&sr=8-8', 'Image': 'https://m.media-amazon.com/images/I/710DRVpOmPL._AC_UL320_.jpg', 'Price': '$18.99', 'Reviews': '617', 'Rating': '4.5 out of 5 stars', 'Sponsored': ''}\n",
      "{'Position': '9', 'Title': 'JOYIN Color Sorting Play Food Set - Learning Toys for Boys & Girls, Cutting Food Toy, Kitchen Accessories for Kids, Toddler Sorting /Fine Motor Skills Toy, Daycare/Preschool Educational Toys', 'Product link': 'https://www.amazon.com/JOYIN-Color-Sorting-Play-Food/dp/B0C8B9Y2WM/ref=sr_1_9?dib=eyJ2IjoiMSJ9.8Dfu7I24xpBvk8VDMqbyYZuxLTtZv_kTQ3Fslup8EKTJiB8Mwrx1MDz7LK7hOhRln-JEsbH8Mqi8G7y4UehcOeQ7t8cTMK-vgX4iwnhIeNrxE_iqtRyuIiFSnOLXXKYS4i0P4aCMlI5jzWkmcLx_xL3UBqYtuglKP-E9bfH3i5xcW6pTbo6IX71M48aDR2jm22UjLA9Yg_681QM0an9q6AQcqKk_Fz0zTWBTGGlGZwQY0l6HvXgeXW4KLs_eJc6ni27VAhr_UadZyKm0d8phnTVYK7aKTDAFvfrH_iN20po.QarhQoTvaudqQ_VNxka6GpOnsw3cvSRFzQoDB22HiFg&dib_tag=se&keywords=toys&qid=1718983097&sr=8-9', 'Image': 'https://m.media-amazon.com/images/I/91Qy4yx6ViL._AC_UL320_.jpg', 'Price': '$21.99', 'Reviews': '496', 'Rating': '4.8 out of 5 stars', 'Sponsored': ''}\n",
      "{'Position': '10', 'Title': 'Dancing Talking Cactus Baby Mimicking Toys with LED 120 English Songs, Singing Musical Toy, Tummy Time Toy Mimic Repeats What You Say (Audio Recording & Retelling)', 'Product link': 'https://www.amazon.com/Keculf-Dancing-Talking-Singing-Mimicking/dp/B09QS3DXHW/ref=sr_1_10?dib=eyJ2IjoiMSJ9.8Dfu7I24xpBvk8VDMqbyYZuxLTtZv_kTQ3Fslup8EKTJiB8Mwrx1MDz7LK7hOhRln-JEsbH8Mqi8G7y4UehcOeQ7t8cTMK-vgX4iwnhIeNrxE_iqtRyuIiFSnOLXXKYS4i0P4aCMlI5jzWkmcLx_xL3UBqYtuglKP-E9bfH3i5xcW6pTbo6IX71M48aDR2jm22UjLA9Yg_681QM0an9q6AQcqKk_Fz0zTWBTGGlGZwQY0l6HvXgeXW4KLs_eJc6ni27VAhr_UadZyKm0d8phnTVYK7aKTDAFvfrH_iN20po.QarhQoTvaudqQ_VNxka6GpOnsw3cvSRFzQoDB22HiFg&dib_tag=se&keywords=toys&qid=1718983097&sr=8-10', 'Image': 'https://m.media-amazon.com/images/I/612YBB9Pr5L._AC_UL320_.jpg', 'Price': '$16.99', 'Reviews': '2,129', 'Rating': '4.3 out of 5 stars', 'Sponsored': ''}\n",
      "{'Position': '11', 'Title': 'Sloosh Bubble Lawn Mower Toddler Toys - Kids Toys Bubble Machine Summer Outdoor Toys Games, Bubble Mower Push Toy Outside Toys for Toddlers Preschool Kid Boys Girls Birthday Gifts (Pink)', 'Product link': 'https://www.amazon.com/Sloosh-Bubble-Lawn-Mower-Toddler/dp/B0BZXLZSJ8/ref=sr_1_11?dib=eyJ2IjoiMSJ9.8Dfu7I24xpBvk8VDMqbyYZuxLTtZv_kTQ3Fslup8EKTJiB8Mwrx1MDz7LK7hOhRln-JEsbH8Mqi8G7y4UehcOeQ7t8cTMK-vgX4iwnhIeNrxE_iqtRyuIiFSnOLXXKYS4i0P4aCMlI5jzWkmcLx_xL3UBqYtuglKP-E9bfH3i5xcW6pTbo6IX71M48aDR2jm22UjLA9Yg_681QM0an9q6AQcqKk_Fz0zTWBTGGlGZwQY0l6HvXgeXW4KLs_eJc6ni27VAhr_UadZyKm0d8phnTVYK7aKTDAFvfrH_iN20po.QarhQoTvaudqQ_VNxka6GpOnsw3cvSRFzQoDB22HiFg&dib_tag=se&keywords=toys&qid=1718983097&sr=8-11', 'Image': 'https://m.media-amazon.com/images/I/918CPDa+FpL._AC_UL320_.jpg', 'Price': '$25.99', 'Reviews': '769', 'Rating': '4.4 out of 5 stars', 'Sponsored': ''}\n",
      "{'Position': '12', 'Title': 'Growsland Splash Pad for Toddlers, Outdoor Sprinkler for Kids, 67\" Summer Water Toys Inflatable Wading Baby Pool Fun Gifts for 3 4 5 6 7 8 9 Years Old Boy Girl Backyard Garden Lawn Outdoor Games', 'Product link': 'https://www.amazon.com/Growsland-Sprinkler-Toddlers-Inflatable-Garden-Lawn/dp/B091DK67M6/ref=sr_1_12?dib=eyJ2IjoiMSJ9.8Dfu7I24xpBvk8VDMqbyYZuxLTtZv_kTQ3Fslup8EKTJiB8Mwrx1MDz7LK7hOhRln-JEsbH8Mqi8G7y4UehcOeQ7t8cTMK-vgX4iwnhIeNrxE_iqtRyuIiFSnOLXXKYS4i0P4aCMlI5jzWkmcLx_xL3UBqYtuglKP-E9bfH3i5xcW6pTbo6IX71M48aDR2jm22UjLA9Yg_681QM0an9q6AQcqKk_Fz0zTWBTGGlGZwQY0l6HvXgeXW4KLs_eJc6ni27VAhr_UadZyKm0d8phnTVYK7aKTDAFvfrH_iN20po.QarhQoTvaudqQ_VNxka6GpOnsw3cvSRFzQoDB22HiFg&dib_tag=se&keywords=toys&qid=1718983097&sr=8-12', 'Image': 'https://m.media-amazon.com/images/I/81e8m4gWIGL._AC_UL320_.jpg', 'Price': '$26.99', 'Reviews': '1,674', 'Rating': '4.4 out of 5 stars', 'Sponsored': ''}\n",
      "{'Position': '13', 'Title': 'ORRENTE Remote Control Car, RC Cars Toys for Ages 5-7, 2.4GHz 4WD Fast RC Car Kids Toys for Ages 8-13, Double Sided 360Â° Rotating Monster Truck Toys for Girls RC Truck Toy Cars for Boys', 'Product link': 'https://www.amazon.com/ORRENTE-Remote-Control-Rotating-Monster/dp/B0CXD1NRWQ/ref=sr_1_13?dib=eyJ2IjoiMSJ9.8Dfu7I24xpBvk8VDMqbyYZuxLTtZv_kTQ3Fslup8EKTJiB8Mwrx1MDz7LK7hOhRln-JEsbH8Mqi8G7y4UehcOeQ7t8cTMK-vgX4iwnhIeNrxE_iqtRyuIiFSnOLXXKYS4i0P4aCMlI5jzWkmcLx_xL3UBqYtuglKP-E9bfH3i5xcW6pTbo6IX71M48aDR2jm22UjLA9Yg_681QM0an9q6AQcqKk_Fz0zTWBTGGlGZwQY0l6HvXgeXW4KLs_eJc6ni27VAhr_UadZyKm0d8phnTVYK7aKTDAFvfrH_iN20po.QarhQoTvaudqQ_VNxka6GpOnsw3cvSRFzQoDB22HiFg&dib_tag=se&keywords=toys&qid=1718983097&sr=8-13', 'Image': 'https://m.media-amazon.com/images/I/111mHoVK0kL._SS200_.png', 'Price': '$30.99', 'Reviews': '627', 'Rating': '4.8 out of 5 stars', 'Sponsored': ''}\n",
      "{'Position': '14', 'Title': 'Fidget Toys, 120 Pack Fidgets Set Stocking Stuffers for Kids Party Favors Autism Sensory Toy Bulk Adults Kids Boys Girls Teens Stress Autistic ADHD Anxiety Carnival Treasure Classroom Prizes', 'Product link': 'https://www.amazon.com/MOZACI-Fidget-Toys-Set-Classroom/dp/B0C855J5NL/ref=sr_1_14?dib=eyJ2IjoiMSJ9.8Dfu7I24xpBvk8VDMqbyYZuxLTtZv_kTQ3Fslup8EKTJiB8Mwrx1MDz7LK7hOhRln-JEsbH8Mqi8G7y4UehcOeQ7t8cTMK-vgX4iwnhIeNrxE_iqtRyuIiFSnOLXXKYS4i0P4aCMlI5jzWkmcLx_xL3UBqYtuglKP-E9bfH3i5xcW6pTbo6IX71M48aDR2jm22UjLA9Yg_681QM0an9q6AQcqKk_Fz0zTWBTGGlGZwQY0l6HvXgeXW4KLs_eJc6ni27VAhr_UadZyKm0d8phnTVYK7aKTDAFvfrH_iN20po.QarhQoTvaudqQ_VNxka6GpOnsw3cvSRFzQoDB22HiFg&dib_tag=se&keywords=toys&qid=1718983097&sr=8-14', 'Image': 'https://m.media-amazon.com/images/I/81YkX5mZC3L._AC_UL320_.jpg', 'Price': '$14.99', 'Reviews': '702', 'Rating': '4.6 out of 5 stars', 'Sponsored': ''}\n",
      "{'Position': '15', 'Title': '120 Pack Fidget Toys Set,Pop Sensory Party Favors Gifts for Kids Adults Boy Girl ADHD Autism Stress Relief Stocking Stuffers Autistic Bulk Goodie Bag Pinata Filler Treasure Box Classroom Prizes School', 'Product link': 'https://www.amazon.com/Stocking-Stuffers-Autistic-Treasure-Classroom/dp/B0CP22LZZ1/ref=sr_1_15?dib=eyJ2IjoiMSJ9.8Dfu7I24xpBvk8VDMqbyYZuxLTtZv_kTQ3Fslup8EKTJiB8Mwrx1MDz7LK7hOhRln-JEsbH8Mqi8G7y4UehcOeQ7t8cTMK-vgX4iwnhIeNrxE_iqtRyuIiFSnOLXXKYS4i0P4aCMlI5jzWkmcLx_xL3UBqYtuglKP-E9bfH3i5xcW6pTbo6IX71M48aDR2jm22UjLA9Yg_681QM0an9q6AQcqKk_Fz0zTWBTGGlGZwQY0l6HvXgeXW4KLs_eJc6ni27VAhr_UadZyKm0d8phnTVYK7aKTDAFvfrH_iN20po.QarhQoTvaudqQ_VNxka6GpOnsw3cvSRFzQoDB22HiFg&dib_tag=se&keywords=toys&qid=1718983097&sr=8-15', 'Image': 'https://m.media-amazon.com/images/I/91EHR8A2EsL._AC_UL320_.jpg', 'Price': '$19.99', 'Reviews': '267', 'Rating': '4.6 out of 5 stars', 'Sponsored': ''}\n",
      "{'Position': '16', 'Title': 'Bubble Machine Gun, Purple Bubble Gun with Lights/Bubble Solution, 69 Holes Bubbles Machine for Adults Kids, Summer Toy Gift for Outdoor Indoor Birthday Wedding Party - Purple Bubble Makers', 'Product link': 'https://www.amazon.com/Machine-Solution-Bubbles-Outdoor-Birthday/dp/B09YTM2MX2/ref=sr_1_16?dib=eyJ2IjoiMSJ9.8Dfu7I24xpBvk8VDMqbyYZuxLTtZv_kTQ3Fslup8EKTJiB8Mwrx1MDz7LK7hOhRln-JEsbH8Mqi8G7y4UehcOeQ7t8cTMK-vgX4iwnhIeNrxE_iqtRyuIiFSnOLXXKYS4i0P4aCMlI5jzWkmcLx_xL3UBqYtuglKP-E9bfH3i5xcW6pTbo6IX71M48aDR2jm22UjLA9Yg_681QM0an9q6AQcqKk_Fz0zTWBTGGlGZwQY0l6HvXgeXW4KLs_eJc6ni27VAhr_UadZyKm0d8phnTVYK7aKTDAFvfrH_iN20po.QarhQoTvaudqQ_VNxka6GpOnsw3cvSRFzQoDB22HiFg&dib_tag=se&keywords=toys&qid=1718983097&sr=8-16', 'Image': 'https://m.media-amazon.com/images/I/61TA4ymsklL._AC_UL320_.jpg', 'Price': '$24.99', 'Reviews': '3,989', 'Rating': '4.3 out of 5 stars', 'Sponsored': ''}\n",
      "{'Position': '17', 'Title': 'CozyBomBâ„¢ Magnetic Fishing Pool Toys Game for Kids - Water Table Bathtub Kiddie Party Toy with Pole Rod Net Plastic Floating Fish Toddler Color Ocean Sea Animals Gifts Age 3 4 5 6 Year Old', 'Product link': 'https://www.amazon.com/CozyBomB-Magnetic-Fishing-Bathtub-Floating/dp/B07B6NP36Q/ref=sr_1_17?dib=eyJ2IjoiMSJ9.8Dfu7I24xpBvk8VDMqbyYZuxLTtZv_kTQ3Fslup8EKTJiB8Mwrx1MDz7LK7hOhRln-JEsbH8Mqi8G7y4UehcOeQ7t8cTMK-vgX4iwnhIeNrxE_iqtRyuIiFSnOLXXKYS4i0P4aCMlI5jzWkmcLx_xL3UBqYtuglKP-E9bfH3i5xcW6pTbo6IX71M48aDR2jm22UjLA9Yg_681QM0an9q6AQcqKk_Fz0zTWBTGGlGZwQY0l6HvXgeXW4KLs_eJc6ni27VAhr_UadZyKm0d8phnTVYK7aKTDAFvfrH_iN20po.QarhQoTvaudqQ_VNxka6GpOnsw3cvSRFzQoDB22HiFg&dib_tag=se&keywords=toys&qid=1718983097&sr=8-17', 'Image': 'https://m.media-amazon.com/images/I/814a5GskuwL._AC_UL320_.jpg', 'Price': '$17.98', 'Reviews': '29,688', 'Rating': '4.3 out of 5 stars', 'Sponsored': ''}\n",
      "{'Position': '18', 'Title': 'Butter Slime Kit Two-Toned 11 Packed Fidget Toy, Educational Slime Toys, Birthday Gifts Prize Party Favors for Girl Boys Kids 6 7 8 9 10 11 12', 'Product link': 'https://www.amazon.com/Ktowepua-Butter-Two-Toned-Educational-Birthday/dp/B0BR6GM1JZ/ref=sr_1_18?dib=eyJ2IjoiMSJ9.8Dfu7I24xpBvk8VDMqbyYZuxLTtZv_kTQ3Fslup8EKTJiB8Mwrx1MDz7LK7hOhRln-JEsbH8Mqi8G7y4UehcOeQ7t8cTMK-vgX4iwnhIeNrxE_iqtRyuIiFSnOLXXKYS4i0P4aCMlI5jzWkmcLx_xL3UBqYtuglKP-E9bfH3i5xcW6pTbo6IX71M48aDR2jm22UjLA9Yg_681QM0an9q6AQcqKk_Fz0zTWBTGGlGZwQY0l6HvXgeXW4KLs_eJc6ni27VAhr_UadZyKm0d8phnTVYK7aKTDAFvfrH_iN20po.QarhQoTvaudqQ_VNxka6GpOnsw3cvSRFzQoDB22HiFg&dib_tag=se&keywords=toys&qid=1718983097&sr=8-18', 'Image': 'https://m.media-amazon.com/images/I/81uP6uGNb3L._AC_UL320_.jpg', 'Price': '$12.99', 'Reviews': '390', 'Rating': '4.3 out of 5 stars', 'Sponsored': ''}\n",
      "{'Position': '19', 'Title': '1000+ PCS Party Favors for Kids, Fidget Toys Pack, Birthday Gift,Christmas Stocking Stuffers,Christmas Gift,Treasure Box, Goodie Bag Stuffers, Carnival Prizes,Pinata Filler Sensory Toy for Classroom', 'Product link': 'https://www.amazon.com/Birthday-Stocking-Christmas-Assortment-Classroom/dp/B0BD1DQF6W/ref=sr_1_19?dib=eyJ2IjoiMSJ9.8Dfu7I24xpBvk8VDMqbyYZuxLTtZv_kTQ3Fslup8EKTJiB8Mwrx1MDz7LK7hOhRln-JEsbH8Mqi8G7y4UehcOeQ7t8cTMK-vgX4iwnhIeNrxE_iqtRyuIiFSnOLXXKYS4i0P4aCMlI5jzWkmcLx_xL3UBqYtuglKP-E9bfH3i5xcW6pTbo6IX71M48aDR2jm22UjLA9Yg_681QM0an9q6AQcqKk_Fz0zTWBTGGlGZwQY0l6HvXgeXW4KLs_eJc6ni27VAhr_UadZyKm0d8phnTVYK7aKTDAFvfrH_iN20po.QarhQoTvaudqQ_VNxka6GpOnsw3cvSRFzQoDB22HiFg&dib_tag=se&keywords=toys&qid=1718983097&sr=8-19', 'Image': 'https://m.media-amazon.com/images/I/91HWuMAwRTL._AC_UL320_.jpg', 'Price': '$34.89', 'Reviews': '309', 'Rating': '3.7 out of 5 stars', 'Sponsored': ''}\n",
      "{'Position': '20', 'Title': '3D Printed Dragon in Egg, Dragon Eggs with Dragon Inside for Boys Kids Home Decor,Executive Articulated Crystal Dragon Fidget Desk Toys (Green)', 'Product link': 'https://www.amazon.com/3D-Printed-Dragon-Executive-Articulated/dp/B0CYZSWW9S/ref=sr_1_20?dib=eyJ2IjoiMSJ9.8Dfu7I24xpBvk8VDMqbyYZuxLTtZv_kTQ3Fslup8EKTJiB8Mwrx1MDz7LK7hOhRln-JEsbH8Mqi8G7y4UehcOeQ7t8cTMK-vgX4iwnhIeNrxE_iqtRyuIiFSnOLXXKYS4i0P4aCMlI5jzWkmcLx_xL3UBqYtuglKP-E9bfH3i5xcW6pTbo6IX71M48aDR2jm22UjLA9Yg_681QM0an9q6AQcqKk_Fz0zTWBTGGlGZwQY0l6HvXgeXW4KLs_eJc6ni27VAhr_UadZyKm0d8phnTVYK7aKTDAFvfrH_iN20po.QarhQoTvaudqQ_VNxka6GpOnsw3cvSRFzQoDB22HiFg&dib_tag=se&keywords=toys&qid=1718983097&sr=8-20', 'Image': 'https://m.media-amazon.com/images/I/71OJJAl93yL._AC_UL320_.jpg', 'Price': '$13.29', 'Reviews': '28', 'Rating': '4.6 out of 5 stars', 'Sponsored': ''}\n"
     ]
    }
   ],
   "source": [
    "with open(sample_data_path) as file:\n",
    "    products = json.load(file)\n",
    "    for product in products:\n",
    "        print(product)"
   ]
  },
  {
   "cell_type": "code",
   "execution_count": null,
   "metadata": {},
   "outputs": [],
   "source": []
  }
 ],
 "metadata": {
  "kernelspec": {
   "display_name": "Python 3",
   "language": "python",
   "name": "python3"
  },
  "language_info": {
   "codemirror_mode": {
    "name": "ipython",
    "version": 3
   },
   "file_extension": ".py",
   "mimetype": "text/x-python",
   "name": "python",
   "nbconvert_exporter": "python",
   "pygments_lexer": "ipython3",
   "version": "3.11.5"
  }
 },
 "nbformat": 4,
 "nbformat_minor": 2
}
