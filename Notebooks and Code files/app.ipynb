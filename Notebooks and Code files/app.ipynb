{
 "cells": [
  {
   "cell_type": "markdown",
   "metadata": {},
   "source": [
    "## Importing Necessary Libraries"
   ]
  },
  {
   "cell_type": "code",
   "execution_count": 1,
   "metadata": {},
   "outputs": [],
   "source": [
    "import os\n",
    "import numpy as np\n",
    "import pandas as pd\n",
    "import time\n",
    "import requests\n",
    "import json\n",
    "import torch\n",
    "import clip\n",
    "import glob\n",
    "import pymilvus\n",
    "from pymilvus import (\n",
    "    connections,\n",
    "    utility,\n",
    "    FieldSchema,\n",
    "    CollectionSchema,\n",
    "    DataType,\n",
    "    Collection,\n",
    "    db\n",
    ")\n",
    "import unicodedata\n",
    "import open_clip\n",
    "from all_clip import load_clip\n"
   ]
  },
  {
   "cell_type": "code",
   "execution_count": 2,
   "metadata": {},
   "outputs": [
    {
     "name": "stdout",
     "output_type": "stream",
     "text": [
      "2.2.1+cpu\n"
     ]
    }
   ],
   "source": [
    "print(torch.__version__)"
   ]
  },
  {
   "cell_type": "markdown",
   "metadata": {},
   "source": [
    "### Setting Directories and Folders"
   ]
  },
  {
   "cell_type": "code",
   "execution_count": 2,
   "metadata": {},
   "outputs": [],
   "source": [
    "IMAGES_URL_DIRECTORY = 'image_folder'\n",
    "IMAGE_EMBEDDINGS_DIRECTORY = 'image_embeddings_complete'\n",
    "TITLE_EMBEDDINGS_DIRECTORY = 'title_embeddings'\n",
    "title_embeddings_path = 'title_embeddings/text_emb/text_emb_0.npy'\n",
    "image_embeddings_path = 'image_embeddings_complete/img_emb/img_emb_0.npy'\n",
    "image_embeddings_meta_data_file = 'image_embeddings_complete/metadata/metadata_0.parquet'\n",
    "title_embeddings_meta_data_file = 'title_embeddings/metadata/metadata_0.parquet'\n",
    "data_path = 'D:\\Datasets\\Amazon\\Amazon Product Dataset\\meta_All_Beauty.jsonl'"
   ]
  },
  {
   "cell_type": "markdown",
   "metadata": {},
   "source": [
    "### Loading Clip Model for inference"
   ]
  },
  {
   "cell_type": "code",
   "execution_count": 3,
   "metadata": {},
   "outputs": [
    {
     "name": "stdout",
     "output_type": "stream",
     "text": [
      "warming up with batch size 1 on cpu\n",
      "done warming up in 29.6081964969635s\n"
     ]
    }
   ],
   "source": [
    "device = 'cuda' if torch.cuda.is_available() else 'cpu'\n",
    "\n",
    "model, preprocess, tokenizer = load_clip(clip_model='open_clip:ViT-B-16')"
   ]
  },
  {
   "cell_type": "markdown",
   "metadata": {},
   "source": [
    "### Functions for generating Embeddings for Inference"
   ]
  },
  {
   "cell_type": "code",
   "execution_count": 4,
   "metadata": {},
   "outputs": [],
   "source": [
    "def get_text_query_embedding(query):\n",
    "    # Load the model and preprocess function\n",
    "    text_tokens = tokenizer(query)\n",
    "    with torch.no_grad():\n",
    "        text_features = model.encode_text(text_tokens)\n",
    "        text_features /= text_features.norm(dim=-1, keepdim=True)\n",
    "    text_embs = text_features.cpu().to(torch.float32).numpy()\n",
    "    return text_embs[0]\n",
    "\n",
    "def generate_image_embeddings(img):\n",
    "    with torch.no_grad():\n",
    "        image_embeddings = model.encode_image(img).float()\n",
    "        image_embeddings /= image_embeddings.norm(dim = -1, keepdim = True)\n",
    "    return image_embeddings.cpu().to(torch.float32).numpy()"
   ]
  },
  {
   "cell_type": "markdown",
   "metadata": {},
   "source": [
    "### Function for creating url and keys dictionary"
   ]
  },
  {
   "cell_type": "code",
   "execution_count": 5,
   "metadata": {},
   "outputs": [],
   "source": [
    "def creating_images_url_dictionary(path = IMAGES_URL_DIRECTORY):\n",
    "# Initialize an empty dictionary\n",
    "    url_key_dict = {}\n",
    "\n",
    "    # List of file paths (adjust the path and extension as needed)\n",
    "    file_paths = glob.glob(f'{path}/*.parquet')\n",
    "    \n",
    "    # print(len(file_paths))\n",
    "    \n",
    "    for file_path in file_paths:\n",
    "        # Read the file into a DataFrame\n",
    "        data = pd.read_parquet(file_path)\n",
    "        \n",
    "        # Ensure the key column is in string format\n",
    "        data['key'] = data['key'].astype(str)\n",
    "        \n",
    "        # Update the dictionary with data from the current file\n",
    "        url_key_dict.update(data.set_index('url')['key'].to_dict())\n",
    "    \n",
    "    return url_key_dict"
   ]
  },
  {
   "cell_type": "markdown",
   "metadata": {},
   "source": [
    "### Function for preparing the meta data of the images to get the keys"
   ]
  },
  {
   "cell_type": "code",
   "execution_count": 6,
   "metadata": {},
   "outputs": [],
   "source": [
    "def preparing_image_meta_data(image_embeddings_meta_data_file= image_embeddings_meta_data_file):\n",
    "    image_embeddings_meta_data = pd.read_parquet(image_embeddings_meta_data_file)\n",
    "    image_embeddings_meta_data['key'] = image_embeddings_meta_data['image_path'].str.extract(r'(\\d{9})')\n",
    "    return image_embeddings_meta_data\n"
   ]
  },
  {
   "cell_type": "markdown",
   "metadata": {},
   "source": [
    "### Functions for getting the index of image and title embeddings"
   ]
  },
  {
   "cell_type": "code",
   "execution_count": 7,
   "metadata": {},
   "outputs": [],
   "source": [
    "def get_index_of_image_embedding(image_embeddings_metadata, image_key):\n",
    "    index_value = image_embeddings_metadata.loc[image_embeddings_metadata['key'] == image_key].index\n",
    "    if not index_value.empty:\n",
    "        return index_value[0]\n",
    "    else:\n",
    "        return False\n",
    "\n",
    "def get_index_of_title_embedding(title_embeddings_metadata, title_key):\n",
    "    index_value = title_embeddings_metadata.loc[title_embeddings_metadata['caption'] == title_key].index\n",
    "    if not index_value.empty:\n",
    "        return index_value[0]\n",
    "    else:\n",
    "        return False"
   ]
  },
  {
   "cell_type": "markdown",
   "metadata": {},
   "source": [
    "### Function for extracting the urls"
   ]
  },
  {
   "cell_type": "code",
   "execution_count": 8,
   "metadata": {},
   "outputs": [],
   "source": [
    "def extract_img_urls(image_array):\n",
    "    urls = []\n",
    "    for item in image_array:\n",
    "        # print(item)\n",
    "        if 'hi_res' in item and item['hi_res']:\n",
    "            urls.append(item['hi_res'])\n",
    "        elif 'large' in item and item['large']:\n",
    "            urls.append(item['large'])\n",
    "        else:\n",
    "            print(f\"Key 'hi_res' and 'large' not found in item: {item}\")\n",
    "        if len(urls) == 3:\n",
    "            return urls\n",
    "    return urls"
   ]
  },
  {
   "cell_type": "markdown",
   "metadata": {},
   "source": [
    "### Functions to get the image and title embeddings"
   ]
  },
  {
   "cell_type": "code",
   "execution_count": 10,
   "metadata": {},
   "outputs": [],
   "source": [
    "def get_image_embedding(all_image_embeddings, index):\n",
    "    if index < 0 or index >=(len(all_image_embeddings)):\n",
    "        print(f'{index} index is not in all the image embeddings!')\n",
    "        return [0]\n",
    "    return all_image_embeddings[index]\n",
    "\n",
    "def get_title_embedding(title_embeddings, index):\n",
    "    return title_embeddings[index]"
   ]
  },
  {
   "cell_type": "markdown",
   "metadata": {},
   "source": [
    "### Loading the Image and Title embeddings"
   ]
  },
  {
   "cell_type": "code",
   "execution_count": 9,
   "metadata": {},
   "outputs": [],
   "source": [
    "all_image_embeddings = np.load(image_embeddings_path)\n",
    "title_embeddings = np.load(title_embeddings_path)"
   ]
  },
  {
   "cell_type": "code",
   "execution_count": 12,
   "metadata": {},
   "outputs": [
    {
     "name": "stdout",
     "output_type": "stream",
     "text": [
      "548083\n"
     ]
    }
   ],
   "source": [
    "print(len(all_image_embeddings))\n",
    "# title_embeddings[5]"
   ]
  },
  {
   "cell_type": "code",
   "execution_count": 13,
   "metadata": {},
   "outputs": [
    {
     "data": {
      "text/plain": [
       "0.998"
      ]
     },
     "execution_count": 13,
     "metadata": {},
     "output_type": "execute_result"
    }
   ],
   "source": [
    "magnitude = np.linalg.norm(all_image_embeddings[53464])\n",
    "magnitude"
   ]
  },
  {
   "cell_type": "markdown",
   "metadata": {},
   "source": [
    "### Loading the Title and Image Meta files"
   ]
  },
  {
   "cell_type": "code",
   "execution_count": 10,
   "metadata": {},
   "outputs": [],
   "source": [
    "title_embeddings_metadata = pd.read_parquet(title_embeddings_meta_data_file)"
   ]
  },
  {
   "cell_type": "code",
   "execution_count": 15,
   "metadata": {},
   "outputs": [
    {
     "name": "stdout",
     "output_type": "stream",
     "text": [
      "                         image_path        key\n",
      "0  image_folder/00000/000000000.jpg  000000000\n",
      "1  image_folder/00000/000000001.jpg  000000001\n",
      "2  image_folder/00000/000000002.jpg  000000002\n",
      "3  image_folder/00000/000000003.jpg  000000003\n",
      "4  image_folder/00000/000000004.jpg  000000004\n",
      "548083\n"
     ]
    }
   ],
   "source": [
    "image_embeddings_metadata = preparing_image_meta_data()\n",
    "print(image_embeddings_metadata.head())\n",
    "print(len(image_embeddings_metadata))"
   ]
  },
  {
   "cell_type": "code",
   "execution_count": 16,
   "metadata": {},
   "outputs": [
    {
     "name": "stdout",
     "output_type": "stream",
     "text": [
      "478384\n"
     ]
    }
   ],
   "source": [
    "images_url_dictionary = creating_images_url_dictionary()\n",
    "print(len(images_url_dictionary))"
   ]
  },
  {
   "cell_type": "code",
   "execution_count": 17,
   "metadata": {},
   "outputs": [
    {
     "data": {
      "text/plain": [
       "[('https://m.media-amazon.com/images/I/517uoA+-gzL._SL1005_.jpg', '000000016'),\n",
       " ('https://m.media-amazon.com/images/I/510BWq7O95L._SL1005_.jpg', '000000015')]"
      ]
     },
     "execution_count": 17,
     "metadata": {},
     "output_type": "execute_result"
    }
   ],
   "source": [
    "n = 2\n",
    "# View the first n items of the dictionary\n",
    "first_n_items = list(images_url_dictionary.items())[:n]\n",
    "first_n_items"
   ]
  },
  {
   "cell_type": "markdown",
   "metadata": {},
   "source": [
    "### Connecting to the Milvus Database"
   ]
  },
  {
   "cell_type": "code",
   "execution_count": 11,
   "metadata": {},
   "outputs": [],
   "source": [
    "client = connections.connect(\"default\", host=\"localhost\", port=\"19530\")"
   ]
  },
  {
   "cell_type": "code",
   "execution_count": 12,
   "metadata": {},
   "outputs": [
    {
     "data": {
      "text/plain": [
       "['default', 'Products', 'My_Products']"
      ]
     },
     "execution_count": 12,
     "metadata": {},
     "output_type": "execute_result"
    }
   ],
   "source": [
    "db.list_database()"
   ]
  },
  {
   "cell_type": "code",
   "execution_count": 13,
   "metadata": {},
   "outputs": [],
   "source": [
    "# database = db.create_database(\"My_Products\")\n",
    "db.using_database(\"Products\")"
   ]
  },
  {
   "cell_type": "markdown",
   "metadata": {},
   "source": [
    "### Creating Field Schemas for the Collections"
   ]
  },
  {
   "cell_type": "code",
   "execution_count": 14,
   "metadata": {},
   "outputs": [],
   "source": [
    "fields = [\n",
    "    FieldSchema(name=\"product_id\", dtype=DataType.INT64, is_primary=True, auto_id=True),\n",
    "    FieldSchema(name=\"title_vector\", dtype=DataType.FLOAT_VECTOR, dim=512),  \n",
    "    FieldSchema(name=\"title\", dtype=DataType.VARCHAR, max_length = 5000),\n",
    "    FieldSchema(name=\"average_rating\", dtype=DataType.FLOAT),\n",
    "    FieldSchema(name=\"features\", dtype=DataType.ARRAY, max_capacity = 1000, element_type = DataType.VARCHAR, max_length = 10000),\n",
    "    FieldSchema(name=\"description\", dtype=DataType.ARRAY, max_capacity = 500, element_type = DataType.VARCHAR, max_length = 50000),\n",
    "    FieldSchema(name=\"categories\", dtype=DataType.ARRAY, max_capacity = 500, element_type = DataType.VARCHAR, max_length = 500),\n",
    "    FieldSchema(name=\"price\", dtype=DataType.FLOAT),\n",
    "    FieldSchema(name=\"store\", dtype=DataType.VARCHAR, max_length = 500),\n",
    "    FieldSchema(name=\"main_category\", dtype=DataType.VARCHAR, max_length = 500)\n",
    "]\n",
    "\n",
    "fields_images = [\n",
    "    FieldSchema(name=\"image_id\", dtype=DataType.INT64, is_primary=True, auto_id=True),\n",
    "    FieldSchema(name=\"p_id\", dtype=DataType.INT64),  # Foreign key to Products\n",
    "    FieldSchema(name=\"image_vector\", dtype=DataType.FLOAT_VECTOR, dim=512),\n",
    "    FieldSchema(name=\"image_url\", dtype=DataType.VARCHAR, max_length=10000)\n",
    "]"
   ]
  },
  {
   "cell_type": "markdown",
   "metadata": {},
   "source": [
    "### Creating the collections"
   ]
  },
  {
   "cell_type": "code",
   "execution_count": 15,
   "metadata": {},
   "outputs": [],
   "source": [
    "product_schema = CollectionSchema(fields, description=\"Products collection\")\n",
    "products_collection = Collection(name = 'products', schema=product_schema)"
   ]
  },
  {
   "cell_type": "code",
   "execution_count": 16,
   "metadata": {},
   "outputs": [],
   "source": [
    "image_schema = CollectionSchema(fields_images, description='Images Collection')\n",
    "images_collection = Collection(name = 'images', schema = image_schema)"
   ]
  },
  {
   "cell_type": "markdown",
   "metadata": {},
   "source": [
    "### Creating the Indices for the collections and loading them"
   ]
  },
  {
   "cell_type": "code",
   "execution_count": 24,
   "metadata": {},
   "outputs": [],
   "source": [
    "index_params = {\n",
    "    \"metric_type\": \"COSINE\",\n",
    "    \"index_type\": \"IVF_FLAT\",\n",
    "    \"params\": {\"nlist\": 256}\n",
    "}\n",
    "\n",
    "products_collection.create_index(field_name=\"title_vector\", index_params = index_params)\n",
    "products_collection.load()\n",
    "# products_collection.release()\n",
    "# products_collection.drop_index()\n",
    "\n",
    "images_collection.create_index(field_name=\"image_vector\", index_params = index_params)\n",
    "images_collection.load()\n",
    "# images_collection.release()\n",
    "# images_collection.drop_index()"
   ]
  },
  {
   "cell_type": "markdown",
   "metadata": {},
   "source": [
    "## Functions for pre-processing the products and storing them in the Milvus Database in Batches"
   ]
  },
  {
   "cell_type": "code",
   "execution_count": 113,
   "metadata": {},
   "outputs": [],
   "source": [
    "def clean_text(text):\n",
    "    if not text:\n",
    "        return \"\"\n",
    "    \n",
    "    # Remove non-UTF-8 characters\n",
    "    return ''.join([c for c in text if ord(c) < 128])\n",
    "\n",
    "def insert_product_batch(products):\n",
    "    if products:\n",
    "        products_collection.insert(products)\n",
    "        products_collection.flush()\n",
    "\n",
    "def insert_image_batch(images):\n",
    "    if images:\n",
    "        images_collection.insert(images)\n",
    "        images_collection.flush()\n",
    "\n",
    "def process_line(line, title_embeddings_metadata, title_embeddings, image_embeddings_metadata, all_image_embeddings, images_url_dictionary):\n",
    "    data = json.loads(line.strip())\n",
    "    if '\"' in data['title']:\n",
    "        return None, None\n",
    "\n",
    "    # title = data['title']\n",
    "    title = clean_text(data['title'])\n",
    "    title_index = get_index_of_title_embedding(title_embeddings_metadata, title)\n",
    "    if not title_index:\n",
    "        return None, None\n",
    "    title_embedding = get_title_embedding(title_embeddings, title_index)\n",
    "    \n",
    "    # Extract product information\n",
    "    average_rating = data['average_rating']\n",
    "    features = data['features']\n",
    "    description = data['description']\n",
    "    categories = data['categories']\n",
    "    price = data['price']\n",
    "    main_category = data['main_category']\n",
    "    store = data['store']\n",
    "    if not price:\n",
    "        price = 0.0\n",
    "    if not store:\n",
    "        store = ''\n",
    "    if not main_category:\n",
    "        main_category = ''\n",
    "    if not average_rating:\n",
    "        average_rating = 0.0\n",
    "\n",
    "    # Prepare product data\n",
    "    product_data = {\n",
    "        'title_vector': title_embedding.tolist(),\n",
    "        'title': title,\n",
    "        'average_rating': average_rating,\n",
    "        'features': features,\n",
    "        'description': description,\n",
    "        'categories': categories,\n",
    "        'price': price,\n",
    "        'store': store,\n",
    "        'main_category': main_category,\n",
    "    }\n",
    "\n",
    "    # Extract and process image URLs\n",
    "    image_urls = extract_img_urls(data['images'])\n",
    "    current_image_embeddings = []\n",
    "    for url in image_urls:\n",
    "        if url in images_url_dictionary and images_url_dictionary[url]:\n",
    "            image_key = images_url_dictionary[url]\n",
    "        else:\n",
    "            continue\n",
    "\n",
    "        image_index = get_index_of_image_embedding(image_embeddings_metadata, image_key)\n",
    "        if not image_index:\n",
    "            print('no image index')\n",
    "            continue\n",
    "        \n",
    "        image_embedding = get_image_embedding(all_image_embeddings, image_index)\n",
    "        if len(image_embedding) > 1 :\n",
    "            current_image_embeddings.append((image_embedding, url))\n",
    "\n",
    "    return product_data, current_image_embeddings\n",
    "\n",
    "def create_and_store_data(data_path, title_embeddings_metadata, title_embeddings, image_embeddings_metadata, all_image_embeddings, images_url_dictionary):\n",
    "    product_batch = []\n",
    "    image_batch = []\n",
    "\n",
    "    with open(data_path) as file:\n",
    "        for line in (file):\n",
    "            # if i < 1000:\n",
    "            #     continue\n",
    "\n",
    "            product_data, current_image_embeddings = process_line(line, title_embeddings_metadata, title_embeddings, image_embeddings_metadata, all_image_embeddings, images_url_dictionary)\n",
    "            if product_data and current_image_embeddings:\n",
    "                product_batch.append((product_data, current_image_embeddings))\n",
    "                if len(product_batch) >= 100:\n",
    "                    # Insert products\n",
    "                    products_data = [pd for pd, _ in product_batch]\n",
    "                    insert_product_batch(products_data)\n",
    "\n",
    "                    # Retrieve product IDs for inserted products\n",
    "                    titles = [pd['title'] for pd, _ in product_batch]\n",
    "                    product_ids = products_collection.query(expr=f'title in {titles}', output_fields=[\"title\", \"product_id\"])\n",
    "\n",
    "                    title_to_id = {p['title']: p['product_id'] for p in product_ids}\n",
    "\n",
    "                    # Prepare image data\n",
    "                    for pd, image_ki_embeddings in product_batch:\n",
    "                        product_id = title_to_id.get(pd['title'])\n",
    "                        for image_embedding, image_url in image_ki_embeddings:\n",
    "                            image_data = {\n",
    "                                'p_id': product_id,\n",
    "                                'image_vector': image_embedding.tolist(),\n",
    "                                'image_url': image_url,\n",
    "                            }\n",
    "                            image_batch.append(image_data)\n",
    "\n",
    "                    if image_batch:\n",
    "                        insert_image_batch(image_batch)\n",
    "\n",
    "                    # Clear batches\n",
    "                    product_batch = []\n",
    "                    image_batch = []\n",
    "\n",
    "    # Insert any remaining data\n",
    "    if product_batch:\n",
    "        products_data = [pd for pd, _ in product_batch]\n",
    "        insert_product_batch(products_data)\n",
    "        \n",
    "        titles = [pd['title'] for pd, _ in product_batch]\n",
    "        product_ids = products_collection.query(expr=f'title in {titles}', output_fields=[\"title\", \"product_id\"])\n",
    "        \n",
    "        title_to_id = {p['title']: p['product_id'] for p in product_ids}\n",
    "        \n",
    "        for pd, image_ki_embeddings in product_batch:\n",
    "            product_id = title_to_id.get(pd['title'])\n",
    "            for image_embedding, image_url in image_ki_embeddings:\n",
    "                image_data = {\n",
    "                    'p_id': product_id,\n",
    "                    'image_vector': image_embedding.tolist(),\n",
    "                    'image_url': image_url,\n",
    "                }\n",
    "                image_batch.append(image_data)\n",
    "        \n",
    "        if image_batch:\n",
    "            insert_image_batch(image_batch)"
   ]
  },
  {
   "cell_type": "code",
   "execution_count": null,
   "metadata": {},
   "outputs": [],
   "source": [
    "# Run the data creation and storage process\n",
    "# create_and_store_data(data_path, title_embeddings_metadata, title_embeddings, image_embeddings_metadata, all_image_embeddings, images_url_dictionary)"
   ]
  },
  {
   "cell_type": "markdown",
   "metadata": {},
   "source": [
    "### Sample search Query"
   ]
  },
  {
   "cell_type": "code",
   "execution_count": 25,
   "metadata": {},
   "outputs": [
    {
     "data": {
      "text/plain": [
       "[0.016479492,\n",
       " -0.04272461,\n",
       " -0.0146484375,\n",
       " 0.014465332,\n",
       " 0.033691406,\n",
       " -0.040039062,\n",
       " -0.06225586,\n",
       " -0.04321289,\n",
       " 0.026123047,\n",
       " 0.023925781,\n",
       " -0.052978516,\n",
       " -0.042236328,\n",
       " 0.018066406,\n",
       " 0.026123047,\n",
       " -0.05419922,\n",
       " -0.08642578,\n",
       " 0.024780273,\n",
       " 0.002243042,\n",
       " -0.044189453,\n",
       " -0.032714844,\n",
       " -0.012512207,\n",
       " 0.01574707,\n",
       " 0.011230469,\n",
       " -0.022338867,\n",
       " -0.0015487671,\n",
       " -0.029785156,\n",
       " -0.032958984,\n",
       " 0.04638672,\n",
       " -0.060791016,\n",
       " 0.1015625,\n",
       " 0.030883789,\n",
       " 0.020141602,\n",
       " 0.012573242,\n",
       " 0.018920898,\n",
       " 0.045654297,\n",
       " -0.01928711,\n",
       " -0.10595703,\n",
       " -0.053222656,\n",
       " 0.03955078,\n",
       " -0.0625,\n",
       " 0.020629883,\n",
       " 0.029418945,\n",
       " 0.00076293945,\n",
       " -0.032226562,\n",
       " -0.043945312,\n",
       " 0.09375,\n",
       " 0.024047852,\n",
       " 0.013549805,\n",
       " -0.024291992,\n",
       " -0.016113281,\n",
       " 0.01977539,\n",
       " 0.08251953,\n",
       " 0.010009766,\n",
       " 0.012207031,\n",
       " -0.061767578,\n",
       " -0.010437012,\n",
       " -0.012329102,\n",
       " -0.010986328,\n",
       " -0.00025749207,\n",
       " -0.0061035156,\n",
       " 0.0033721924,\n",
       " 0.021118164,\n",
       " 0.041503906,\n",
       " 0.044189453,\n",
       " 0.030517578,\n",
       " -0.006439209,\n",
       " -0.048583984,\n",
       " -0.03540039,\n",
       " -0.03112793,\n",
       " -0.0047912598,\n",
       " 0.032226562,\n",
       " 0.0067749023,\n",
       " -0.049560547,\n",
       " -0.0045776367,\n",
       " -0.059326172,\n",
       " -0.008239746,\n",
       " -0.010192871,\n",
       " 0.0059814453,\n",
       " -0.029296875,\n",
       " -0.020751953,\n",
       " -0.057861328,\n",
       " 0.031982422,\n",
       " 0.030761719,\n",
       " 0.037353516,\n",
       " 0.016601562,\n",
       " -0.055664062,\n",
       " 0.038330078,\n",
       " 0.046875,\n",
       " 0.018066406,\n",
       " 0.017456055,\n",
       " -0.041748047,\n",
       " 0.017578125,\n",
       " -0.040039062,\n",
       " 0.026733398,\n",
       " -0.016113281,\n",
       " 0.060302734,\n",
       " -0.044921875,\n",
       " -0.0029296875,\n",
       " 0.048095703,\n",
       " 0.057861328,\n",
       " 0.025390625,\n",
       " -0.008483887,\n",
       " 0.033691406,\n",
       " -0.008361816,\n",
       " 0.005279541,\n",
       " -0.02355957,\n",
       " 0.011413574,\n",
       " 0.072265625,\n",
       " 0.061767578,\n",
       " 0.038330078,\n",
       " -0.041992188,\n",
       " -0.009216309,\n",
       " 0.030517578,\n",
       " -0.022583008,\n",
       " -0.021850586,\n",
       " -0.025756836,\n",
       " -0.029052734,\n",
       " 0.036865234,\n",
       " 0.024780273,\n",
       " 0.09765625,\n",
       " -0.057861328,\n",
       " 0.004547119,\n",
       " 0.04345703,\n",
       " 0.0012359619,\n",
       " -0.00014400482,\n",
       " 0.009094238,\n",
       " 0.072265625,\n",
       " -0.04345703,\n",
       " -0.0059814453,\n",
       " -0.059570312,\n",
       " 0.00062942505,\n",
       " 0.125,\n",
       " 0.02355957,\n",
       " 0.0020446777,\n",
       " 0.0703125,\n",
       " -0.016845703,\n",
       " 0.03491211,\n",
       " -0.03491211,\n",
       " -0.012878418,\n",
       " -0.036865234,\n",
       " 0.02355957,\n",
       " 0.032958984,\n",
       " -0.015197754,\n",
       " -0.0013198853,\n",
       " 0.010498047,\n",
       " 0.018920898,\n",
       " 0.0126953125,\n",
       " 0.037353516,\n",
       " 0.009094238,\n",
       " 0.03149414,\n",
       " -0.0018615723,\n",
       " -0.033691406,\n",
       " 0.01574707,\n",
       " 0.029418945,\n",
       " 0.016357422,\n",
       " 0.035888672,\n",
       " 0.0055236816,\n",
       " -0.08984375,\n",
       " -0.030883789,\n",
       " -0.05419922,\n",
       " -0.03491211,\n",
       " -0.006072998,\n",
       " -0.03515625,\n",
       " 0.003768921,\n",
       " -0.016723633,\n",
       " 0.044189453,\n",
       " -0.056884766,\n",
       " 0.040771484,\n",
       " -0.0055236816,\n",
       " -0.004272461,\n",
       " -0.047607422,\n",
       " -0.096191406,\n",
       " -0.05078125,\n",
       " -0.08300781,\n",
       " 0.00793457,\n",
       " 0.027709961,\n",
       " 0.024658203,\n",
       " 0.024047852,\n",
       " -0.041503906,\n",
       " 0.06982422,\n",
       " -0.0126953125,\n",
       " -0.053466797,\n",
       " -0.041748047,\n",
       " -0.30664062,\n",
       " 0.032470703,\n",
       " 0.022460938,\n",
       " 0.02709961,\n",
       " 0.026611328,\n",
       " 0.003189087,\n",
       " -0.009887695,\n",
       " -0.045654297,\n",
       " 0.04711914,\n",
       " 0.024780273,\n",
       " 0.01965332,\n",
       " -0.07324219,\n",
       " -0.009033203,\n",
       " 0.056396484,\n",
       " -0.06298828,\n",
       " -0.015014648,\n",
       " -0.013549805,\n",
       " -0.04272461,\n",
       " -0.05493164,\n",
       " 0.008544922,\n",
       " 0.056396484,\n",
       " -0.046142578,\n",
       " -0.009765625,\n",
       " 0.022827148,\n",
       " -0.038330078,\n",
       " -0.08203125,\n",
       " -0.026489258,\n",
       " 0.022705078,\n",
       " -0.008056641,\n",
       " -0.009399414,\n",
       " 0.051757812,\n",
       " 0.19433594,\n",
       " 0.010192871,\n",
       " 0.03564453,\n",
       " 0.07128906,\n",
       " 0.0032196045,\n",
       " -0.042236328,\n",
       " 0.011962891,\n",
       " -0.03540039,\n",
       " 0.020141602,\n",
       " -0.005493164,\n",
       " 0.048583984,\n",
       " -0.053955078,\n",
       " -0.006866455,\n",
       " -0.057617188,\n",
       " 0.004272461,\n",
       " -0.002746582,\n",
       " -0.022094727,\n",
       " 0.04345703,\n",
       " -0.033691406,\n",
       " 0.032958984,\n",
       " 0.020385742,\n",
       " 0.061035156,\n",
       " 0.021118164,\n",
       " -0.019165039,\n",
       " -0.045410156,\n",
       " -0.025390625,\n",
       " -0.044921875,\n",
       " 0.0234375,\n",
       " -0.2578125,\n",
       " 0.0014190674,\n",
       " -0.012756348,\n",
       " 0.040283203,\n",
       " 0.036132812,\n",
       " 0.067871094,\n",
       " -0.011047363,\n",
       " 0.05102539,\n",
       " 0.012573242,\n",
       " -0.07373047,\n",
       " 0.0045166016,\n",
       " -0.009399414,\n",
       " -0.072753906,\n",
       " -0.024047852,\n",
       " -0.030883789,\n",
       " 0.04321289,\n",
       " 0.003189087,\n",
       " 0.0010986328,\n",
       " 0.025756836,\n",
       " 0.03125,\n",
       " 0.053222656,\n",
       " -0.044433594,\n",
       " -0.022460938,\n",
       " -0.05883789,\n",
       " -0.00970459,\n",
       " 0.03955078,\n",
       " 0.04345703,\n",
       " 0.0027008057,\n",
       " 0.025390625,\n",
       " -0.01928711,\n",
       " 0.022460938,\n",
       " 0.002105713,\n",
       " -0.06738281,\n",
       " 0.029052734,\n",
       " 0.022338867,\n",
       " 0.044189453,\n",
       " -0.05419922,\n",
       " 0.08984375,\n",
       " 0.0065612793,\n",
       " -0.024291992,\n",
       " -0.068359375,\n",
       " 0.091308594,\n",
       " -0.045410156,\n",
       " 0.03112793,\n",
       " 0.119140625,\n",
       " -0.06298828,\n",
       " -0.031982422,\n",
       " -0.08642578,\n",
       " -0.019897461,\n",
       " 0.041992188,\n",
       " -0.022094727,\n",
       " 0.026977539,\n",
       " -0.01574707,\n",
       " -0.040283203,\n",
       " 0.0076293945,\n",
       " 0.021484375,\n",
       " 0.0009918213,\n",
       " -0.012207031,\n",
       " -0.03125,\n",
       " 0.064453125,\n",
       " -0.00010347366,\n",
       " -0.0029296875,\n",
       " 0.0029296875,\n",
       " -0.032470703,\n",
       " 0.025024414,\n",
       " -0.0546875,\n",
       " 0.036132812,\n",
       " 0.09863281,\n",
       " -0.020019531,\n",
       " 0.026733398,\n",
       " -0.024414062,\n",
       " 0.06225586,\n",
       " -0.012878418,\n",
       " 0.008911133,\n",
       " 0.024658203,\n",
       " 0.021484375,\n",
       " -0.052246094,\n",
       " -0.041503906,\n",
       " -0.047851562,\n",
       " -0.08544922,\n",
       " 0.024291992,\n",
       " -0.0035552979,\n",
       " -0.045654297,\n",
       " -0.057861328,\n",
       " -0.011230469,\n",
       " -0.038085938,\n",
       " 0.030151367,\n",
       " -0.046875,\n",
       " 0.13574219,\n",
       " -0.010375977,\n",
       " -0.018798828,\n",
       " -0.028930664,\n",
       " -0.018676758,\n",
       " 0.00025558472,\n",
       " -0.008544922,\n",
       " -0.001953125,\n",
       " -0.019042969,\n",
       " -0.048583984,\n",
       " -0.038330078,\n",
       " 0.0071411133,\n",
       " -0.044189453,\n",
       " 0.06982422,\n",
       " -0.04272461,\n",
       " -0.016845703,\n",
       " -0.0025634766,\n",
       " -0.061523438,\n",
       " -0.047607422,\n",
       " 0.010253906,\n",
       " -0.051757812,\n",
       " 0.032714844,\n",
       " 0.0045776367,\n",
       " 0.0038146973,\n",
       " -0.0016555786,\n",
       " 0.006958008,\n",
       " 0.0022277832,\n",
       " -0.010681152,\n",
       " -0.07470703,\n",
       " -0.03857422,\n",
       " 0.010986328,\n",
       " 0.0013122559,\n",
       " -0.032226562,\n",
       " -0.019165039,\n",
       " -0.044921875,\n",
       " -0.012939453,\n",
       " -0.016845703,\n",
       " 0.07861328,\n",
       " 0.017822266,\n",
       " 0.01928711,\n",
       " 0.04272461,\n",
       " -0.036132812,\n",
       " 0.013366699,\n",
       " 0.11621094,\n",
       " 0.05078125,\n",
       " 0.015991211,\n",
       " 0.016845703,\n",
       " -0.052246094,\n",
       " 0.0546875,\n",
       " -0.018066406,\n",
       " -0.06298828,\n",
       " 0.0076293945,\n",
       " 0.031982422,\n",
       " 0.02355957,\n",
       " 0.024658203,\n",
       " -0.041259766,\n",
       " 0.028076172,\n",
       " -0.00093078613,\n",
       " -0.028076172,\n",
       " -0.0031280518,\n",
       " 0.0005950928,\n",
       " 0.022705078,\n",
       " 0.012756348,\n",
       " -0.0061950684,\n",
       " 0.056152344,\n",
       " 7.247925e-05,\n",
       " 0.111328125,\n",
       " 0.037353516,\n",
       " -0.01977539,\n",
       " -0.033691406,\n",
       " -0.04296875,\n",
       " 0.03515625,\n",
       " 0.020629883,\n",
       " -0.035888672,\n",
       " 0.02746582,\n",
       " 0.0047302246,\n",
       " 0.024291992,\n",
       " 0.034179688,\n",
       " -0.037597656,\n",
       " 0.032470703,\n",
       " 0.057617188,\n",
       " 0.020996094,\n",
       " -0.0014648438,\n",
       " 0.0036621094,\n",
       " -0.03881836,\n",
       " 0.017089844,\n",
       " -0.06640625,\n",
       " -0.01977539,\n",
       " -0.021240234,\n",
       " 8.404255e-06,\n",
       " -0.057128906,\n",
       " -0.053955078,\n",
       " -0.060058594,\n",
       " -0.0107421875,\n",
       " 0.038085938,\n",
       " 0.05883789,\n",
       " 0.025146484,\n",
       " 0.015014648,\n",
       " 0.03540039,\n",
       " 0.011413574,\n",
       " -0.034179688,\n",
       " 0.068359375,\n",
       " -0.026977539,\n",
       " 0.084472656,\n",
       " 0.03955078,\n",
       " -0.060791016,\n",
       " 0.005554199,\n",
       " -0.0087890625,\n",
       " 0.060058594,\n",
       " 0.08496094,\n",
       " 0.023925781,\n",
       " 0.017944336,\n",
       " -0.04711914,\n",
       " 0.026489258,\n",
       " -0.024047852,\n",
       " 0.048095703,\n",
       " -0.01574707,\n",
       " 0.033447266,\n",
       " 0.056884766,\n",
       " -0.026733398,\n",
       " -0.008972168,\n",
       " 0.014221191,\n",
       " -0.0011749268,\n",
       " 0.06738281,\n",
       " -0.013305664,\n",
       " 0.07373047,\n",
       " -0.075683594,\n",
       " -0.03112793,\n",
       " -0.025024414,\n",
       " -0.018554688,\n",
       " -0.018798828,\n",
       " 0.040771484,\n",
       " 0.03491211,\n",
       " -0.092285156,\n",
       " -0.014831543,\n",
       " 0.040283203,\n",
       " 0.047607422,\n",
       " 0.021484375,\n",
       " 0.044677734,\n",
       " 0.019165039,\n",
       " 0.004425049,\n",
       " 0.04711914,\n",
       " 0.029663086,\n",
       " 0.010681152,\n",
       " -0.004180908,\n",
       " -0.033447266,\n",
       " -0.0234375,\n",
       " 0.03466797,\n",
       " 0.021728516,\n",
       " 0.026489258,\n",
       " -0.036132812,\n",
       " 0.0030822754,\n",
       " -0.06347656,\n",
       " 0.0017089844,\n",
       " -0.030029297,\n",
       " -0.01940918,\n",
       " 0.018066406,\n",
       " 0.026489258,\n",
       " 0.064453125,\n",
       " -0.015991211,\n",
       " -0.044921875,\n",
       " 0.034179688,\n",
       " 0.018188477,\n",
       " 0.029052734,\n",
       " 0.033691406,\n",
       " 0.017822266,\n",
       " 0.0032653809,\n",
       " -0.048828125,\n",
       " 0.0077819824,\n",
       " 0.07470703,\n",
       " 0.010864258,\n",
       " -0.0058898926,\n",
       " 0.055664062,\n",
       " 0.041503906,\n",
       " -0.018066406,\n",
       " -0.0390625,\n",
       " -0.005218506,\n",
       " -0.0022277832,\n",
       " 0.05493164,\n",
       " -0.040039062,\n",
       " 0.017700195,\n",
       " -0.009094238]"
      ]
     },
     "execution_count": 25,
     "metadata": {},
     "output_type": "execute_result"
    }
   ],
   "source": [
    "title = \"Auric Blends Stella Blue\"\n",
    "product_ids = products_collection.query(expr=f'title == \"{title}\"', output_fields=[\"title\", 'features', 'price', 'product_id', 'title_vector'])\n",
    "title_v_embedding = product_ids[0][\"title_vector\"]\n",
    "# title_v_embedding = np.float16(title_v_embedding)\n",
    "title_v_embedding"
   ]
  },
  {
   "cell_type": "markdown",
   "metadata": {},
   "source": [
    "### Defining Search Parameters"
   ]
  },
  {
   "cell_type": "code",
   "execution_count": 35,
   "metadata": {},
   "outputs": [],
   "source": [
    "search_params = {\n",
    "    \"metric_type\": \"COSINE\", \n",
    "    \"offset\": 0, \n",
    "    \"ignore_growing\": False, \n",
    "    \"params\": {\"nprobe\": 20}\n",
    "}"
   ]
  },
  {
   "cell_type": "code",
   "execution_count": 36,
   "metadata": {},
   "outputs": [
    {
     "data": {
      "text/plain": [
       "array([-2.32593361e-02, -2.88339853e-02,  2.17014905e-02,  9.08644777e-03,\n",
       "       -6.12214394e-03,  2.55541820e-02, -6.32908195e-03, -1.68123357e-02,\n",
       "        2.67626848e-02, -8.77483469e-03, -3.89870442e-03,  7.46044703e-03,\n",
       "       -1.27959568e-02,  5.15768379e-02, -8.85808934e-03,  2.95048696e-04,\n",
       "       -1.29163275e-02, -8.05139914e-03,  3.15496959e-02,  2.55601872e-02,\n",
       "        4.26098257e-02, -8.62112269e-04,  1.75491199e-02,  2.93029170e-03,\n",
       "        1.05666462e-02, -5.66374548e-02, -3.31582539e-02, -3.41164991e-02,\n",
       "        5.30110020e-03, -2.95261797e-02, -2.73504891e-02, -5.85705217e-04,\n",
       "       -1.95997916e-02,  4.35990281e-02,  6.70069084e-03,  2.48932745e-04,\n",
       "       -1.09991327e-01, -3.90833477e-03, -4.54629539e-03, -2.71318797e-02,\n",
       "       -4.23978344e-02, -1.10909808e-02,  2.77142040e-02, -1.65455025e-02,\n",
       "        1.23184416e-02, -5.21923378e-02, -3.95096280e-02, -1.17282094e-02,\n",
       "       -1.40293706e-02, -7.44394725e-03,  4.26131580e-03,  4.84202988e-03,\n",
       "        1.50362644e-02, -4.08258894e-03, -5.77755133e-03, -3.74532752e-02,\n",
       "       -3.96856330e-02, -1.56178512e-02,  2.89612124e-03,  1.38431238e-02,\n",
       "       -4.16634083e-02,  2.15150453e-02,  4.16599680e-03, -2.68377922e-02,\n",
       "        1.39196860e-02,  5.63054942e-02,  3.84149700e-03,  1.82361361e-02,\n",
       "        9.21298191e-03,  5.71518801e-02, -2.80345101e-02, -5.65612353e-02,\n",
       "        3.75885963e-02,  2.28530467e-02, -4.87136580e-02,  4.61449623e-02,\n",
       "       -6.80889115e-02, -7.16065115e-04, -2.64630839e-02, -2.22391058e-02,\n",
       "        3.15513015e-02, -1.14977267e-02, -4.38197218e-02,  8.14095978e-03,\n",
       "       -3.86366155e-03, -4.55220521e-04,  2.84564514e-02, -3.92206619e-03,\n",
       "        7.56659871e-03, -8.92165210e-03,  3.59745533e-03, -3.11830617e-03,\n",
       "        7.46520745e-05,  1.16452947e-02,  4.63368883e-03,  1.02710137e-02,\n",
       "       -1.55822476e-02, -2.65573412e-02,  6.91517256e-03,  1.39156403e-02,\n",
       "       -2.91016046e-02, -2.21755169e-02,  9.57096834e-03,  1.57828815e-02,\n",
       "       -3.34742218e-02,  9.19277500e-03, -2.50461861e-03,  4.34852131e-02,\n",
       "        1.43650183e-02, -2.75498908e-02,  4.92927246e-02, -3.85189392e-02,\n",
       "       -6.28848560e-03, -8.86346307e-03, -4.26132828e-02, -5.38012274e-02,\n",
       "       -4.17852178e-02, -3.60300206e-02, -1.82880461e-02,  6.27152622e-03,\n",
       "       -2.88223382e-03,  2.86911428e-02,  1.04258340e-02, -2.67025419e-02,\n",
       "        2.75145210e-02, -2.02402920e-02, -7.60295021e-04, -2.43710098e-03,\n",
       "        1.38223572e-02, -3.23038250e-02,  2.42061764e-02,  5.66115323e-03,\n",
       "        2.02896595e-02, -1.02272548e-03,  1.25927823e-02, -2.23714709e-02,\n",
       "        3.10299546e-02,  1.47991888e-02, -3.73334885e-02,  8.97102896e-03,\n",
       "        2.37974897e-02,  1.82237905e-02, -1.33637218e-02,  1.11183515e-02,\n",
       "       -3.57247144e-03,  2.17284132e-02, -1.81782898e-02,  2.02358887e-02,\n",
       "        2.38480698e-02,  9.61587485e-03, -2.72104759e-02, -9.13383067e-03,\n",
       "        5.18744811e-03, -1.54657718e-02,  9.64949466e-03, -3.48990434e-04,\n",
       "        2.25716736e-02,  2.65069026e-02,  4.35353909e-03, -9.04767402e-03,\n",
       "        2.08525397e-02,  2.03767773e-02, -1.44751174e-02, -3.28099579e-02,\n",
       "        1.01312157e-02, -2.55552810e-02, -8.63466691e-03,  3.01505495e-02,\n",
       "       -8.64801649e-03,  2.24984018e-03, -3.27073969e-02,  2.88012363e-02,\n",
       "       -2.67417412e-02,  3.80931571e-02, -2.76108477e-02, -2.61729211e-02,\n",
       "       -6.82061072e-04,  8.61988810e-04, -2.69272644e-03, -3.71251963e-02,\n",
       "        2.31235358e-03, -7.48265709e-04,  3.06028072e-02, -6.10028028e-01,\n",
       "       -8.66625085e-03,  4.15555527e-03, -8.98380950e-03,  1.42887104e-02,\n",
       "       -2.02340167e-02,  2.42069717e-02,  1.24728950e-02,  1.65477544e-02,\n",
       "       -1.90906972e-02, -1.88064557e-02,  4.03530523e-02,  3.75647955e-02,\n",
       "       -1.80993415e-02, -4.69061956e-02,  2.04628762e-02, -6.66663144e-03,\n",
       "        7.52699748e-03, -7.71365268e-03,  3.20894122e-02,  6.06374368e-02,\n",
       "       -5.98800834e-03, -5.81838610e-03,  3.43457013e-02, -2.65758075e-02,\n",
       "       -5.16595831e-03,  6.53942069e-03,  6.45274296e-03,  1.55290635e-02,\n",
       "        2.97603868e-02,  2.53260136e-02, -4.60718805e-03,  1.52074574e-02,\n",
       "        3.34269181e-02,  1.13013303e-02,  5.72063327e-02,  3.78111526e-02,\n",
       "        1.51495822e-02,  2.61048991e-02, -1.84125104e-03,  4.24354598e-02,\n",
       "        1.01205055e-02,  1.10889168e-03,  5.25258156e-03,  1.02419928e-02,\n",
       "        9.68889426e-03,  5.18402718e-02, -3.07602808e-02, -2.68494450e-02,\n",
       "       -3.91117185e-02, -3.26671712e-02, -1.58376936e-02,  3.17740417e-03,\n",
       "        9.41163115e-03, -7.18487240e-03, -4.98765446e-02,  1.57741352e-03,\n",
       "       -2.20187083e-02, -8.23847484e-03, -5.14344931e-01,  4.28587161e-02,\n",
       "       -1.99779253e-02, -2.31524203e-02, -1.12062488e-02, -1.20524475e-02,\n",
       "       -1.87914912e-02,  1.64347589e-02, -6.72770618e-03,  5.45381242e-03,\n",
       "        4.25941236e-02, -2.56444179e-02,  4.63583693e-02,  1.55312810e-02,\n",
       "        8.43550824e-03,  4.14305218e-02, -3.54967527e-02,  6.11974718e-03,\n",
       "       -7.36618880e-03,  1.05510559e-02,  2.09557582e-02, -5.25311846e-03,\n",
       "        1.25445216e-03, -1.46236224e-03, -1.38976648e-02,  1.84588999e-01,\n",
       "       -9.99530777e-02, -1.50469672e-02, -8.33291933e-03, -6.11361954e-03,\n",
       "       -7.86068477e-03, -3.20436433e-02,  7.82644784e-04,  3.09971217e-02,\n",
       "        9.90484934e-03, -6.74726209e-03,  2.32732166e-02, -5.10256216e-02,\n",
       "        5.57852257e-03, -3.33145745e-02, -1.01715447e-02,  7.71406526e-03,\n",
       "       -3.96070257e-02, -2.31210068e-02, -1.16902357e-02, -6.35066768e-03,\n",
       "        3.30411270e-02, -1.11023448e-02, -1.44186346e-02,  1.79338157e-02,\n",
       "        3.89598747e-04, -3.39574367e-02,  1.91187598e-02, -2.34286184e-03,\n",
       "        1.14561524e-03, -7.24481465e-03,  1.11181606e-02,  1.20173134e-02,\n",
       "        3.53625156e-02,  2.50321701e-02,  6.01106230e-03,  3.24449949e-02,\n",
       "        9.69238579e-03,  2.65660714e-02, -1.52393524e-02, -8.56422260e-03,\n",
       "       -6.49442244e-03,  4.05451432e-02, -9.68901999e-03, -2.65041087e-02,\n",
       "        1.20502068e-02, -1.52607346e-02,  4.79978602e-03, -1.84735004e-02,\n",
       "       -7.37767015e-03,  8.47807806e-03,  1.79056562e-02,  9.99428332e-03,\n",
       "       -2.18700580e-02, -5.54437656e-03, -2.51812488e-03,  6.13307639e-04,\n",
       "       -1.64921377e-02, -4.08459380e-02,  4.26473795e-03,  4.52713203e-03,\n",
       "        4.01505642e-02,  2.65633129e-02, -6.07815711e-03, -2.58700624e-02,\n",
       "       -2.26621702e-03, -2.02748626e-02,  5.64292946e-04,  4.10267292e-03,\n",
       "       -3.34165543e-02,  2.42069904e-02,  7.11058034e-03, -9.82862804e-03,\n",
       "        9.42886528e-03, -2.25827005e-02,  6.45975070e-03,  8.11954066e-02,\n",
       "        3.98316868e-02,  1.24306455e-02,  9.48579982e-03, -2.85207052e-02,\n",
       "        3.35106440e-02, -1.86732188e-02, -1.15274377e-02,  9.58873704e-03,\n",
       "        5.00047207e-02, -2.07772907e-02, -9.30064358e-03,  1.22712031e-02,\n",
       "       -9.68426000e-03, -4.45318362e-03, -2.46400312e-02, -6.27067173e-03,\n",
       "        2.75033973e-02, -1.43547310e-02, -6.66579790e-03,  6.77462444e-02,\n",
       "       -9.20408592e-03,  2.64685471e-02,  1.00067453e-02,  1.39391376e-02,\n",
       "       -2.80735753e-02, -2.62595154e-02, -1.28473109e-02,  2.78246477e-02,\n",
       "       -2.55814884e-02, -9.15064302e-04, -6.22271225e-02,  1.74214151e-02,\n",
       "       -1.71669405e-02,  5.07196831e-03,  1.37206155e-03, -5.11959614e-03,\n",
       "       -3.32660927e-03, -4.43149498e-03,  4.93765697e-02,  3.78949754e-02,\n",
       "        3.00076604e-03,  1.59863438e-02, -2.08710525e-02,  7.96695147e-03,\n",
       "       -6.43826323e-03, -1.64643694e-02,  8.40407237e-03,  1.52897313e-02,\n",
       "        2.68717017e-02,  3.12508811e-04,  4.35828157e-02, -1.24684414e-02,\n",
       "        6.82395138e-03, -1.13067618e-02,  3.36108766e-02, -5.18917628e-02,\n",
       "        1.01939486e-02, -5.14752837e-03,  2.61798836e-02, -3.64752375e-02,\n",
       "        3.05308308e-03, -1.39808664e-02,  3.78047004e-02, -2.64154952e-02,\n",
       "       -5.12444507e-03,  3.63542326e-02,  1.76489092e-02,  1.40463226e-02,\n",
       "        1.46087806e-03, -5.50302956e-03,  2.26991577e-03, -1.13393832e-02,\n",
       "        2.59243287e-02,  1.35286050e-02, -1.14833117e-02, -1.62143540e-02,\n",
       "       -1.68842431e-02, -1.46003189e-02, -2.76436266e-02, -2.90960986e-02,\n",
       "       -2.09055133e-02, -4.57650460e-02, -5.73651120e-03,  2.07163766e-02,\n",
       "       -5.08149713e-03, -3.63560170e-02,  5.47637115e-04, -2.54468825e-02,\n",
       "       -1.82429925e-02, -4.36009243e-02, -3.16227898e-02,  3.18559259e-02,\n",
       "       -2.49405783e-02, -1.11443386e-03, -3.88165377e-02, -2.01710444e-02,\n",
       "       -2.68975180e-02,  4.61489372e-02, -3.51302102e-02, -2.99066752e-02,\n",
       "       -3.75246033e-02, -3.12682800e-02, -1.01913763e-02,  2.10583396e-03,\n",
       "        5.94385266e-02, -1.41220251e-02,  1.01120938e-02, -6.77626301e-03,\n",
       "        3.96037810e-02,  1.01642385e-02,  1.18490187e-02,  3.57038677e-02,\n",
       "       -2.21722927e-02,  2.53808638e-03,  1.62753165e-02, -1.67140905e-02,\n",
       "       -9.34729446e-03, -2.04108730e-02,  1.35523034e-02,  4.28568982e-02,\n",
       "       -6.31751772e-03, -1.59747247e-02, -4.33487911e-03,  1.57202780e-02,\n",
       "       -1.93041563e-02, -5.58560621e-03, -3.50780860e-02,  4.26106639e-02,\n",
       "        1.81441400e-02, -1.41931260e-02, -3.35739478e-02,  2.63080224e-02,\n",
       "       -4.58557494e-02,  5.87677257e-03, -7.46055460e-03, -7.10662827e-03,\n",
       "       -1.99254006e-02, -1.92973614e-02,  1.16928900e-02,  2.72930618e-02,\n",
       "       -2.47229356e-02, -3.80682722e-02, -3.83109450e-02, -2.69377176e-02,\n",
       "        6.41241521e-02,  3.95959709e-03,  2.45822463e-02,  1.45649547e-02,\n",
       "        8.88479233e-04,  2.68366951e-02, -9.99595691e-03,  2.76208832e-03,\n",
       "        1.19589288e-02,  3.76440696e-02, -2.12361710e-03, -2.85984110e-03,\n",
       "       -1.93434246e-02,  2.07702145e-02,  7.63677880e-02, -4.37383205e-02,\n",
       "       -2.34577805e-02,  2.14210656e-02,  3.39846946e-02, -2.88759135e-02,\n",
       "       -6.19759634e-02, -3.20864981e-03, -4.95678261e-02, -3.24375462e-03],\n",
       "      dtype=float32)"
      ]
     },
     "execution_count": 36,
     "metadata": {},
     "output_type": "execute_result"
    }
   ],
   "source": [
    "sample_query = 'Perfume For Women'\n",
    "query_embedding = get_text_query_embedding(sample_query)\n",
    "# sample_query = products[1]['Image']\n",
    "# sample_query_embedding = generate_text_embeddings(sample_query)\n",
    "# sample_query_embedding = generate_image_embeddings(sample_query)\n",
    "# sample_query_embedding\n",
    "# len(embedding) == len(title_v_embedding)\n",
    "query_embedding"
   ]
  },
  {
   "cell_type": "code",
   "execution_count": 37,
   "metadata": {},
   "outputs": [],
   "source": [
    "results = products_collection.search(\n",
    "    data=[query_embedding], \n",
    "    anns_field=\"title_vector\", \n",
    "    # the sum of `offset` in `param` and `limit` \n",
    "    # should be less than 16384.\n",
    "    param=search_params,\n",
    "    limit=10,\n",
    "    expr=None,\n",
    "    # set the names of the fields you want to \n",
    "    # retrieve from the search result.\n",
    "    output_fields=['title','price'],\n",
    "    consistency_level=\"Strong\"\n",
    ")"
   ]
  },
  {
   "cell_type": "code",
   "execution_count": 48,
   "metadata": {},
   "outputs": [
    {
     "name": "stdout",
     "output_type": "stream",
     "text": [
      "id: 451064611036296840, distance: 0.8905419707298279, entity: {'title': 'Perfume con Feromonas para Mujeres para Atraer a los Hombres Fuerte Efecto (#2)', 'price': 0.0}\n",
      "id: 451064611036304306, distance: 0.8831300139427185, entity: {'title': '10 Best Selling Perfumes Sample Vial for Women', 'price': 0.0}\n",
      "id: 451064611036726658, distance: 0.8495831489562988, entity: {'title': 'Body Lotion', 'price': 29.989999771118164}\n",
      "id: 451064611036189658, distance: 0.8417010307312012, entity: {'title': 'cosmetic', 'price': 0.0}\n",
      "id: 451064611036193093, distance: 0.8407971858978271, entity: {'title': 'High Class Woman Perfume 3.4oz by Sandora', 'price': 0.0}\n",
      "id: 451064611036347943, distance: 0.8291282653808594, entity: {'title': 'Stella Hair Fragrance', 'price': 0.0}\n",
      "id: 451064611036326937, distance: 0.8256978392601013, entity: {'title': 'Zermat Fragrance for Men Embleme, Perfume Para Caballero', 'price': 35.25}\n",
      "id: 451064611036215353, distance: 0.8218688368797302, entity: {'title': 'Foundation Makeup', 'price': 0.0}\n",
      "id: 451064611036745841, distance: 0.8173316717147827, entity: {'title': 'Shampoo', 'price': 0.0}\n",
      "id: 451064611036300089, distance: 0.816200852394104, entity: {'title': 'Gifts for Women', 'price': 0.0}\n"
     ]
    }
   ],
   "source": [
    "for result in results[0]:\n",
    "    # print(result[0].entity.get('title'),'\\n')\n",
    "    print(result.entity)"
   ]
  },
  {
   "cell_type": "code",
   "execution_count": 39,
   "metadata": {},
   "outputs": [],
   "source": [
    "results_images = images_collection.search(\n",
    "    data=[query_embedding], \n",
    "    anns_field=\"image_vector\", \n",
    "    # the sum of `offset` in `param` and `limit` \n",
    "    # should be less than 16384.\n",
    "    param=search_params,\n",
    "    limit=10,\n",
    "    expr=None,\n",
    "    # set the names of the fields you want to \n",
    "    # retrieve from the search result.\n",
    "    output_fields=['p_id','image_url'],\n",
    "    consistency_level=\"Strong\"\n",
    ")"
   ]
  },
  {
   "cell_type": "code",
   "execution_count": 78,
   "metadata": {},
   "outputs": [
    {
     "name": "stdout",
     "output_type": "stream",
     "text": [
      "[451064611036339180, 451064611036269286, 451064611036323067, 451064611036323067, 451064611036323067, 451064611036328603, 451064611036365385, 451064611036341937, 451064611036358699, 451064611036203532]\n"
     ]
    }
   ],
   "source": [
    "# Assuming results_images is the variable holding your search results\n",
    "p_id_list = []\n",
    "\n",
    "for result in results_images[0]:\n",
    "    p_id = result.entity.get('p_id')\n",
    "    p_id_list.append(p_id)\n",
    "\n",
    "print(p_id_list)\n"
   ]
  },
  {
   "cell_type": "code",
   "execution_count": 77,
   "metadata": {},
   "outputs": [
    {
     "name": "stdout",
     "output_type": "stream",
     "text": [
      "id: 451064611036339349, distance: 0.2894721031188965, entity: {'p_id': 451064611036339180, 'image_url': 'https://m.media-amazon.com/images/I/71e5Bfbzw1L._SL1500_.jpg'}\n",
      "id: 451064611036269466, distance: 0.28619927167892456, entity: {'p_id': 451064611036269286, 'image_url': 'https://m.media-amazon.com/images/I/81XJO7HPgkL._SL1500_.jpg'}\n",
      "id: 451064611036323194, distance: 0.28181228041648865, entity: {'p_id': 451064611036323067, 'image_url': 'https://m.media-amazon.com/images/I/41ofsJx4ilL.jpg'}\n",
      "id: 451064611036323193, distance: 0.28181228041648865, entity: {'p_id': 451064611036323067, 'image_url': 'https://m.media-amazon.com/images/I/41ofsJx4ilL.jpg'}\n",
      "id: 451064611036323192, distance: 0.28181228041648865, entity: {'p_id': 451064611036323067, 'image_url': 'https://m.media-amazon.com/images/I/41ofsJx4ilL.jpg'}\n",
      "id: 451064611036328710, distance: 0.277422696352005, entity: {'p_id': 451064611036328603, 'image_url': 'https://m.media-amazon.com/images/I/81ECEcDr3NL._SL1500_.jpg'}\n",
      "id: 451064611036365557, distance: 0.27709606289863586, entity: {'p_id': 451064611036365385, 'image_url': 'https://m.media-amazon.com/images/I/21N1rpDLFzL.jpg'}\n",
      "id: 451064611036342113, distance: 0.276763916015625, entity: {'p_id': 451064611036341937, 'image_url': 'https://m.media-amazon.com/images/I/715dLfYIiDS._SL1000_.jpg'}\n",
      "id: 451064611036358817, distance: 0.2762482166290283, entity: {'p_id': 451064611036358699, 'image_url': 'https://m.media-amazon.com/images/I/51WEF++R2uL._SL1247_.jpg'}\n",
      "id: 451064611036203748, distance: 0.27595946192741394, entity: {'p_id': 451064611036203532, 'image_url': 'https://m.media-amazon.com/images/I/41iCs6aeNWL.jpg'}\n",
      "<class 'pymilvus.client.abstract.SearchResult'>\n"
     ]
    }
   ],
   "source": [
    "for result in results_images[0]:\n",
    "    # print(result[0].entity.get('title'),'\\n')\n",
    "    # print(type(result))\n",
    "    print(result)\n",
    "\n",
    "print(type(results_images))"
   ]
  },
  {
   "cell_type": "code",
   "execution_count": 84,
   "metadata": {},
   "outputs": [
    {
     "data": {
      "text/plain": [
       "{'store': 'WHISKY',\n",
       " 'title': 'WHISKY - WHISKY FOR WOMEN 75 ml - Women - 75ML - White',\n",
       " 'average_rating': 4.0,\n",
       " 'features': ['Whiskey for women, an eternal perfume',\n",
       "  'Its luxurious and elegant design W-shape emphasizes its uniqueness and embodies the beauty',\n",
       "  'More than a fragrance it is a precious object containing a magical and refined essence',\n",
       "  'A mixture of both sweet and intense perfectly combining jasmine and plum on a bed of vanilla and musk',\n",
       "  'Dive into its world, let yourself be intoxicated by his delicacy! Top notes: Bergamot, Cinnamon Bark, Plum'],\n",
       " 'categories': [],\n",
       " 'price': 0.0,\n",
       " 'description': ['Whiskey for women, an eternal perfume. Its luxurious and elegant design W-shape emphasizes its uniqueness and embodies the beauty. More than a fragrance it is a precious object containing a magical and refined essence. A mixture of both sweet and intense perfectly combining jasmine and plum on a bed of vanilla and musk. Dive into its world, let yourself be intoxicated by his delicacy! Top notes: Bergamot, Cinnamon Bark, Plum. Middle Notes: Lily of the valley, Rose, marine notes, Jasmine. Base notes: Vanilla, Musk, Cedarwood, Amber. Ingredients: ALCOHOL DENAT. AQUA (WATER), PARFUM (FRAGRANCE), BENZYL ALCOHOL, CINNAMAL, LINALOOL, Sodium Sulfate, CI 14700, CI 19140, CI 17200 Date after opening : 36 months. Capacity: 75 ml'],\n",
       " 'main_category': 'All Beauty',\n",
       " 'product_id': 451064611036339180}"
      ]
     },
     "execution_count": 84,
     "metadata": {},
     "output_type": "execute_result"
    }
   ],
   "source": [
    "matching_results  = products_collection.query(expr=f'product_id in {p_id_list}', output_fields=['title','price', 'average_rating', 'features', 'description', 'categories', 'store', 'main_category'])\n",
    "# title_v_embedding = product_ids[0][\"title_vector\"]\n",
    "matching_results[4]"
   ]
  },
  {
   "cell_type": "code",
   "execution_count": null,
   "metadata": {},
   "outputs": [],
   "source": []
  }
 ],
 "metadata": {
  "kernelspec": {
   "display_name": "Python 3",
   "language": "python",
   "name": "python3"
  },
  "language_info": {
   "codemirror_mode": {
    "name": "ipython",
    "version": 3
   },
   "file_extension": ".py",
   "mimetype": "text/x-python",
   "name": "python",
   "nbconvert_exporter": "python",
   "pygments_lexer": "ipython3",
   "version": "3.11.5"
  }
 },
 "nbformat": 4,
 "nbformat_minor": 2
}
