{
 "cells": [
  {
   "cell_type": "code",
   "execution_count": 17,
   "id": "1a6566c2-dfd9-4fa3-8635-dd06d950255a",
   "metadata": {},
   "outputs": [],
   "source": [
    "import torch\n",
    "import clip\n",
    "import numpy as np\n",
    "import matplotlib.pyplot as plt\n",
    "from PIL import Image\n",
    "from io import BytesIO\n",
    "import requests\n",
    "import json\n",
    "import os\n",
    "import requests\n",
    "import time\n",
    "import torch\n",
    "from pymilvus import (\n",
    "    connections,\n",
    "    utility,\n",
    "    FieldSchema,\n",
    "    CollectionSchema,\n",
    "    DataType,\n",
    "    Collection,\n",
    "    db, \n",
    "    model\n",
    ")"
   ]
  },
  {
   "cell_type": "code",
   "execution_count": 14,
   "id": "4d8dfe41-a896-4054-8516-57ab7860f7e2",
   "metadata": {},
   "outputs": [],
   "source": [
    "from pymilvus import MilvusClient\n",
    "\n",
    "client = MilvusClient(\"milvus_demo.db\")"
   ]
  },
  {
   "cell_type": "code",
   "execution_count": 3,
   "id": "70774f11-e51d-42e6-98b5-387252723738",
   "metadata": {},
   "outputs": [
    {
     "name": "stderr",
     "output_type": "stream",
     "text": [
      "100%|███████████████████████████████████████| 335M/335M [00:26<00:00, 13.2MiB/s]\n"
     ]
    }
   ],
   "source": [
    "device = 'cuda' if torch.cuda.is_available() else 'cpu'\n",
    "\n",
    "model, preprocess = clip.load(\"ViT-B/16\", device=device)"
   ]
  },
  {
   "cell_type": "code",
   "execution_count": 4,
   "id": "cf1f3177-6ff2-4cbe-946f-fa794d1b725d",
   "metadata": {},
   "outputs": [
    {
     "name": "stdout",
     "output_type": "stream",
     "text": [
      "True\n"
     ]
    }
   ],
   "source": [
    "print(torch.cuda.is_available())"
   ]
  },
  {
   "cell_type": "code",
   "execution_count": 5,
   "id": "adb92295-6446-433b-a0ae-25f11e130252",
   "metadata": {},
   "outputs": [],
   "source": [
    "DATASET_DIRECTORY = \"home/Semantic-Search-using-Vector-Database/Amazon\"\n",
    "sample_data_path = 'home/Semantic-Search-using-Vector-Database/Amazon/meta_Gift_Cards.jsonl'"
   ]
  },
  {
   "cell_type": "code",
   "execution_count": 6,
   "id": "009b54db-054e-46d7-8e11-513e8d1928d5",
   "metadata": {},
   "outputs": [],
   "source": [
    "def image_url_to_img(image_url, retries=5, delay=1):\n",
    "    for _ in range(retries):\n",
    "        try:\n",
    "            response = requests.get(image_url, timeout=10)\n",
    "            response.raise_for_status()\n",
    "            img = Image.open(BytesIO(response.content))\n",
    "            return img\n",
    "        except requests.exceptions.RequestException as e:\n",
    "            print(f\"Error fetching image from {image_url}: {e}\")\n",
    "            time.sleep(delay)  # Wait before retrying\n",
    "    print(f\"Failed to fetch image from {image_url} after {retries} retries.\")\n",
    "    return None"
   ]
  },
  {
   "cell_type": "code",
   "execution_count": 7,
   "id": "8683da1e-e284-46c8-91f2-0e1d849d1fc5",
   "metadata": {},
   "outputs": [],
   "source": [
    "def generate_text_embeddings(text):\n",
    "    text_features = clip.tokenize([text]).to(device)\n",
    "    with torch.no_grad():\n",
    "        text_embeddings = model.encode_text(text_features)\n",
    "        text_embeddings /= text_embeddings.norm(dim = -1, keepdim= True)\n",
    "        return text_embeddings.cpu().numpy()[0]\n",
    "\n",
    "def generate_image_embeddings(img):\n",
    "    img_preprocessed = preprocess(img).unsqueeze(0).to(device)\n",
    "    with torch.no_grad():\n",
    "        image_embeddings = model.encode_image(img_preprocessed).float()\n",
    "        image_embeddings /= image_embeddings.norm(dim = -1, keepdim = True)\n",
    "    return image_embeddings[0].cpu().numpy()\n"
   ]
  },
  {
   "cell_type": "code",
   "execution_count": null,
   "id": "14ef5a96-3444-442c-a724-5cc293f92ddd",
   "metadata": {},
   "outputs": [],
   "source": [
    "img = image_url_to_img('https://m.media-amazon.com/images/I/612JNfob9nL._AC_UY218_.jpg')\n",
    "embed = generate_image_embeddings(img)\n",
    "print(embed)"
   ]
  },
  {
   "cell_type": "code",
   "execution_count": 9,
   "id": "06a9a821-c773-459d-97ca-2460b827c683",
   "metadata": {},
   "outputs": [],
   "source": [
    "def extract_img_urls(image_array):\n",
    "    urls = []\n",
    "    for item in image_array:\n",
    "        # print(item)\n",
    "        if 'hi_res' in item and item['hi_res']:\n",
    "            urls.append(item['hi_res'])\n",
    "        elif 'large' in item and item['large']:\n",
    "            urls.append(item['large'])\n",
    "        else:\n",
    "            print(f\"Key 'hi_res' and 'large' not found in item: {item}\")\n",
    "    return urls"
   ]
  },
  {
   "cell_type": "code",
   "execution_count": null,
   "id": "eaeacbc0-5404-4e56-979e-b217eed147a5",
   "metadata": {},
   "outputs": [],
   "source": [
    "# client = connections.connect(\"default\", host=\"localhost\", port=\"19530\")"
   ]
  },
  {
   "cell_type": "code",
   "execution_count": 18,
   "id": "977ee5ab-c59b-49fe-824e-86f3a5d00123",
   "metadata": {},
   "outputs": [],
   "source": [
    "fields = [\n",
    "    FieldSchema(name=\"product_id\", dtype=DataType.INT64, is_primary=True, auto_id=True),\n",
    "    FieldSchema(name=\"title_vector\", dtype=DataType.FLOAT_VECTOR, dim=512),  \n",
    "    FieldSchema(name=\"title\", dtype=DataType.VARCHAR, max_length = 500),\n",
    "    FieldSchema(name=\"average_rating\", dtype=DataType.FLOAT),\n",
    "    FieldSchema(name=\"features\", dtype=DataType.ARRAY, max_capacity = 100, element_type = DataType.VARCHAR, max_length = 1000),\n",
    "    FieldSchema(name=\"description\", dtype=DataType.ARRAY, max_capacity = 50, element_type = DataType.VARCHAR, max_length = 5000),\n",
    "    FieldSchema(name=\"categories\", dtype=DataType.ARRAY, max_capacity = 50, element_type = DataType.VARCHAR, max_length = 100),\n",
    "    FieldSchema(name=\"price\", dtype=DataType.FLOAT),\n",
    "    FieldSchema(name=\"store\", dtype=DataType.VARCHAR, max_length = 100),\n",
    "    FieldSchema(name=\"main_category\", dtype=DataType.VARCHAR, max_length = 50)\n",
    "]\n",
    "\n",
    "fields_images = [\n",
    "    FieldSchema(name=\"image_id\", dtype=DataType.INT64, is_primary=True, auto_id=True),\n",
    "    FieldSchema(name=\"p_id\", dtype=DataType.INT64),  # Foreign key to Products\n",
    "    FieldSchema(name=\"image_vector\", dtype=DataType.FLOAT_VECTOR, dim=512),\n",
    "    FieldSchema(name=\"image_url\", dtype=DataType.VARCHAR, max_length=5000)\n",
    "]"
   ]
  },
  {
   "cell_type": "code",
   "execution_count": 27,
   "id": "a4c7e933-ed98-4108-8b17-025a39f855a8",
   "metadata": {},
   "outputs": [],
   "source": [
    "product_schema = CollectionSchema(fields, description=\"Products collection\")\n",
    "# products_collection = Collection(name = 'products', schema=product_schema)\n",
    "products_collection = client.create_collection(collection_name = 'products', schema = product_schema)"
   ]
  },
  {
   "cell_type": "code",
   "execution_count": 28,
   "id": "a13abc3a-be93-4ba3-a344-0a37137b4fcb",
   "metadata": {},
   "outputs": [],
   "source": [
    "image_schema = CollectionSchema(fields_images, description='Images Collection')\n",
    "# images_collection = Collection(name = 'images', schema = image_schema)\n",
    "images_collection = client.create_collection(collection_name = 'images', schema = image_schema)"
   ]
  },
  {
   "cell_type": "code",
   "execution_count": 29,
   "id": "cd0fbad5-5004-4bb2-b1de-03fa748b3ed5",
   "metadata": {},
   "outputs": [
    {
     "ename": "AttributeError",
     "evalue": "'NoneType' object has no attribute 'create_index'",
     "output_type": "error",
     "traceback": [
      "\u001b[0;31m---------------------------------------------------------------------------\u001b[0m",
      "\u001b[0;31mAttributeError\u001b[0m                            Traceback (most recent call last)",
      "Cell \u001b[0;32mIn[29], line 7\u001b[0m\n\u001b[1;32m      1\u001b[0m index_params \u001b[38;5;241m=\u001b[39m {\n\u001b[1;32m      2\u001b[0m     \u001b[38;5;124m\"\u001b[39m\u001b[38;5;124mmetric_type\u001b[39m\u001b[38;5;124m\"\u001b[39m: \u001b[38;5;124m\"\u001b[39m\u001b[38;5;124mCOSINE\u001b[39m\u001b[38;5;124m\"\u001b[39m,\n\u001b[1;32m      3\u001b[0m     \u001b[38;5;124m\"\u001b[39m\u001b[38;5;124mindex_type\u001b[39m\u001b[38;5;124m\"\u001b[39m: \u001b[38;5;124m\"\u001b[39m\u001b[38;5;124mIVF_FLAT\u001b[39m\u001b[38;5;124m\"\u001b[39m,\n\u001b[1;32m      4\u001b[0m     \u001b[38;5;124m\"\u001b[39m\u001b[38;5;124mparams\u001b[39m\u001b[38;5;124m\"\u001b[39m: {\u001b[38;5;124m\"\u001b[39m\u001b[38;5;124mnlist\u001b[39m\u001b[38;5;124m\"\u001b[39m: \u001b[38;5;241m128\u001b[39m}\n\u001b[1;32m      5\u001b[0m }\n\u001b[0;32m----> 7\u001b[0m \u001b[43mproducts_collection\u001b[49m\u001b[38;5;241;43m.\u001b[39;49m\u001b[43mcreate_index\u001b[49m(field_name\u001b[38;5;241m=\u001b[39m\u001b[38;5;124m\"\u001b[39m\u001b[38;5;124mtitle_vector\u001b[39m\u001b[38;5;124m\"\u001b[39m, index_params \u001b[38;5;241m=\u001b[39m index_params)\n\u001b[1;32m      8\u001b[0m products_collection\u001b[38;5;241m.\u001b[39mload()\n\u001b[1;32m     10\u001b[0m images_collection\u001b[38;5;241m.\u001b[39mcreate_index(field_name\u001b[38;5;241m=\u001b[39m\u001b[38;5;124m\"\u001b[39m\u001b[38;5;124mimage_vector\u001b[39m\u001b[38;5;124m\"\u001b[39m, index_params \u001b[38;5;241m=\u001b[39m index_params)\n",
      "\u001b[0;31mAttributeError\u001b[0m: 'NoneType' object has no attribute 'create_index'"
     ]
    }
   ],
   "source": [
    "index_params = {\n",
    "    \"metric_type\": \"COSINE\",\n",
    "    \"index_type\": \"IVF_FLAT\",\n",
    "    \"params\": {\"nlist\": 128}\n",
    "}\n",
    "\n",
    "products_collection.create_index(field_name=\"title_vector\", index_params = index_params)\n",
    "products_collection.load()\n",
    "\n",
    "images_collection.create_index(field_name=\"image_vector\", index_params = index_params)\n",
    "images_collection.load()"
   ]
  },
  {
   "cell_type": "code",
   "execution_count": null,
   "id": "15376182-2c0f-40c5-ba40-bc22e9a75cf4",
   "metadata": {},
   "outputs": [],
   "source": [
    "res = client.insert(collection_name=\"demo_collection\", data=data)\n"
   ]
  },
  {
   "cell_type": "code",
   "execution_count": null,
   "id": "dee70cea-102a-411f-a706-cd9c1d4e787f",
   "metadata": {},
   "outputs": [],
   "source": [
    "i = 0\n",
    "with open(sample_data_path) as file:\n",
    "    for line in file:\n",
    "        data = json.loads(line.strip())\n",
    "        i += 1\n",
    "        if i == 1100:\n",
    "            break\n",
    "        elif i < 50:\n",
    "            continue\n",
    "        # Generate title embedding\n",
    "        if '\"' in data['title']:\n",
    "            continue\n",
    "        title_embedding = generate_text_embeddings(data['title'])\n",
    "        \n",
    "        # Extract product information\n",
    "        title = data['title']\n",
    "        average_rating = data['average_rating']\n",
    "        features = data['features']\n",
    "        description = data['description']\n",
    "        categories = data['categories']\n",
    "        price = data['price']\n",
    "        main_category = data['main_category']\n",
    "        store = data['store']\n",
    "        if not price:\n",
    "            price = 0.0\n",
    "        if not store:\n",
    "            store = ''\n",
    "        if not main_category:\n",
    "            main_category = ''\n",
    "        if not average_rating:\n",
    "            average_rating = 0.0\n",
    "        \n",
    "        \n",
    "        # Prepare product data\n",
    "        product_data = {\n",
    "            'title_vector': title_embedding.tolist(),\n",
    "            'title': title,\n",
    "            'average_rating': average_rating,\n",
    "            'features': features,\n",
    "            'description': description,\n",
    "            'categories': categories,\n",
    "            'price': price,\n",
    "            'store': store,\n",
    "            'main_category': main_category,\n",
    "        }\n",
    "        \n",
    "        # Insert product data into the products collection\n",
    "        products_collection.insert([product_data])\n",
    "        # Flush to ensure data is written\n",
    "        products_collection.flush()\n",
    "        \n",
    "        # Retrieve product ID\n",
    "        product_ids = products_collection.query(expr=f'title == \"{title}\"', output_fields=[\"product_id\"])\n",
    "        product_id = product_ids[0][\"product_id\"]\n",
    "        \n",
    "        # Extract and process image URLs\n",
    "        image_urls = extract_img_urls(data['images'])\n",
    "        image_embeddings = []\n",
    "        for url in image_urls:\n",
    "            img = image_url_to_img(url)\n",
    "            if img:\n",
    "                image_embedding = generate_image_embeddings(img)\n",
    "                image_embeddings.append((image_embedding, url))\n",
    "        \n",
    "        # Insert each image embedding with the associated product ID\n",
    "        for image_embedding, image_url in image_embeddings:\n",
    "            image_data = {\n",
    "                'p_id': product_id,\n",
    "                'image_vector': image_embedding.tolist(),\n",
    "                'image_url': image_url,\n",
    "            }\n",
    "            images_collection.insert([image_data])\n",
    "        \n",
    "        # Flush to ensure data is written\n",
    "        images_collection.flush()\n",
    "        \n",
    "        print(f\"Inserted product ID: {product_id} with {len(image_embeddings)} images\")"
   ]
  }
 ],
 "metadata": {
  "kernelspec": {
   "display_name": "Python 3 (ipykernel)",
   "language": "python",
   "name": "python3"
  },
  "language_info": {
   "codemirror_mode": {
    "name": "ipython",
    "version": 3
   },
   "file_extension": ".py",
   "mimetype": "text/x-python",
   "name": "python",
   "nbconvert_exporter": "python",
   "pygments_lexer": "ipython3",
   "version": "3.10.13"
  }
 },
 "nbformat": 4,
 "nbformat_minor": 5
}
