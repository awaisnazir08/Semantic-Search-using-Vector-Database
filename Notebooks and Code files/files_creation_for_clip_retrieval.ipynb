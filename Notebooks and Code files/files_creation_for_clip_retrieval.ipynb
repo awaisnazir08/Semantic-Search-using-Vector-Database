{
 "cells": [
  {
   "cell_type": "code",
   "execution_count": 6,
   "id": "2785ce22-30c8-4f84-86fb-c851179f5085",
   "metadata": {},
   "outputs": [],
   "source": [
    "import os\n",
    "import json\n",
    "import torch\n",
    "import clip\n",
    "import numpy as np\n",
    "import requests\n",
    "import requests\n",
    "import time"
   ]
  },
  {
   "cell_type": "code",
   "execution_count": 59,
   "id": "ecb4829a-33fe-4a15-9e13-db7a4dd879d4",
   "metadata": {},
   "outputs": [],
   "source": [
    "TEXT_DIRECTORY = 'text_files'\n",
    "IMAGES_DIRECTORY = 'images_urls_file.txt'\n",
    "sample_data_path = 'meta_All_Beauty.jsonl'\n",
    "# sample_data_path = 'test.jsonl'"
   ]
  },
  {
   "cell_type": "code",
   "execution_count": 16,
   "id": "1216d20f-09c4-4b11-8ab8-14e3beb99af2",
   "metadata": {},
   "outputs": [],
   "source": [
    "def generate_title_text_files(DATASET_DIRECTORY = TEXT_DIRECTORY, sample_data_path = sample_data_path):\n",
    "    if not os.path.exists(DATASET_DIRECTORY):\n",
    "        os.makedirs(DATASET_DIRECTORY)\n",
    "\n",
    "    i = 0\n",
    "    \n",
    "    with open(sample_data_path, 'r') as file:\n",
    "        for line in file:\n",
    "            data = json.loads(line)\n",
    "            title = data['title']\n",
    "            if title in os.listdir(DATASET_DIRECTORY):\n",
    "                continue\n",
    "            # Create a filename for the title\n",
    "            filename = f'title_{i}.txt'\n",
    "            file_path = os.path.join(DATASET_DIRECTORY, filename)\n",
    "            \n",
    "            # Write the title to the file\n",
    "            with open(file_path, 'w') as title_file:\n",
    "                title_file.write(title)\n",
    "            \n",
    "            i += 1"
   ]
  },
  {
   "cell_type": "code",
   "execution_count": 3,
   "id": "2370490c-5bb5-460f-b8e3-e325c0987d89",
   "metadata": {},
   "outputs": [
    {
     "name": "stdout",
     "output_type": "stream",
     "text": [
      "/home/Semantic-Search-using-Vector-Database\n"
     ]
    }
   ],
   "source": [
    "cd home/Semantic-Search-using-Vector-Database/"
   ]
  },
  {
   "cell_type": "code",
   "execution_count": 17,
   "id": "51a0ca6b-d14e-4f3f-9ce5-f14bcff1d52f",
   "metadata": {},
   "outputs": [],
   "source": [
    "# generate_title_text_files()"
   ]
  },
  {
   "cell_type": "code",
   "execution_count": 2,
   "id": "d8e8443b-1919-4998-9818-4c46d95d990c",
   "metadata": {},
   "outputs": [],
   "source": [
    "def extract_img_urls(image_array):\n",
    "    urls = []\n",
    "    for item in image_array:\n",
    "        # print(item)\n",
    "        if 'hi_res' in item and item['hi_res']:\n",
    "            urls.append(item['hi_res'])\n",
    "        elif 'large' in item and item['large']:\n",
    "            urls.append(item['large'])\n",
    "        else:\n",
    "            print(f\"Key 'hi_res' and 'large' not found in item: {item}\")\n",
    "    return urls"
   ]
  },
  {
   "cell_type": "code",
   "execution_count": 60,
   "id": "6ca5fd4e-cd48-42c2-b953-f0486496af7d",
   "metadata": {},
   "outputs": [],
   "source": [
    "def get_all_images_urls(images_file_path = IMAGES_DIRECTORY, sample_data_path = sample_data_path):\n",
    "    if not os.path.exists(images_file_path):\n",
    "        try:\n",
    "            with open(images_file_path, 'a') as f:\n",
    "                print(\"The image file for storing URLs has been created..!!\")\n",
    "                pass\n",
    "        except:\n",
    "            print('The image file for storing urls already exists..!!')\n",
    "\n",
    "    \n",
    "    with open(sample_data_path, 'r') as file:\n",
    "        for line in file:\n",
    "            data = json.loads(line)\n",
    "            images = data['images']\n",
    "            images_urls = extract_img_urls(images)\n",
    "            \n",
    "            # Write the title to the file\n",
    "            with open(images_file_path, 'a') as im_file:\n",
    "                for url in images_urls:\n",
    "                    im_file.write(url + '\\n')\n",
    "            "
   ]
  },
  {
   "cell_type": "code",
   "execution_count": 61,
   "id": "2fb2acb3-466b-40f2-9560-543d24f66a14",
   "metadata": {},
   "outputs": [
    {
     "name": "stdout",
     "output_type": "stream",
     "text": [
      "The image file for storing URLs has been created..!!\n"
     ]
    }
   ],
   "source": [
    "get_all_images_urls()"
   ]
  },
  {
   "cell_type": "code",
   "execution_count": null,
   "id": "0bd8058a-f525-4d6c-aa37-4cf849bb9f14",
   "metadata": {},
   "outputs": [],
   "source": []
  }
 ],
 "metadata": {
  "kernelspec": {
   "display_name": "Python 3 (ipykernel)",
   "language": "python",
   "name": "python3"
  },
  "language_info": {
   "codemirror_mode": {
    "name": "ipython",
    "version": 3
   },
   "file_extension": ".py",
   "mimetype": "text/x-python",
   "name": "python",
   "nbconvert_exporter": "python",
   "pygments_lexer": "ipython3",
   "version": "3.10.13"
  }
 },
 "nbformat": 4,
 "nbformat_minor": 5
}
