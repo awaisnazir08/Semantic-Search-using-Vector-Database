{
 "cells": [
  {
   "cell_type": "code",
   "execution_count": 1,
   "id": "f0c0248d-d227-4a4d-9832-29d4ae7e8e2a",
   "metadata": {},
   "outputs": [],
   "source": [
    "import numpy as np"
   ]
  },
  {
   "cell_type": "code",
   "execution_count": 6,
   "id": "5b977001-e28d-4207-9c4c-d977c87ccc3b",
   "metadata": {},
   "outputs": [
    {
     "name": "stdout",
     "output_type": "stream",
     "text": [
      "True\n"
     ]
    }
   ],
   "source": [
    "import torch\n",
    "print(torch.cuda.is_available())"
   ]
  },
  {
   "cell_type": "code",
   "execution_count": 34,
   "id": "ecb55258-ecab-498b-a780-d18267a5e4f5",
   "metadata": {},
   "outputs": [],
   "source": [
    "data = np.load('All_Beauty/DerBlue 10 pieces big gear+10 pieces small gear for Syma X5C X5 X5C-1 X5SC X5SC-1 X5SW RC Quadcopter/title_embedding.npy')\n"
   ]
  },
  {
   "cell_type": "code",
   "execution_count": 33,
   "id": "2eaeb05a-ac49-49ea-9d4f-4b7f1c1f4d3c",
   "metadata": {},
   "outputs": [
    {
     "data": {
      "text/plain": [
       "(512,)"
      ]
     },
     "execution_count": 33,
     "metadata": {},
     "output_type": "execute_result"
    }
   ],
   "source": [
    "data.shape"
   ]
  },
  {
   "cell_type": "code",
   "execution_count": 27,
   "id": "dda0a50e-5a30-4c87-a124-a7561e3e0fc3",
   "metadata": {},
   "outputs": [
    {
     "name": "stdout",
     "output_type": "stream",
     "text": [
      "/home/Semantic-Search-using-Vector-Database\n"
     ]
    }
   ],
   "source": [
    "cd Semantic-Search-using-Vector-Database"
   ]
  },
  {
   "cell_type": "code",
   "execution_count": 31,
   "id": "5197566e-14fd-4f9e-b2e6-975c8c935173",
   "metadata": {},
   "outputs": [
    {
     "name": "stdout",
     "output_type": "stream",
     "text": [
      "\u001b[0m\u001b[01;34mAll_Beauty\u001b[0m/   gpu_embeddings_generation.ipynb       milvus_standalone.py\n",
      "README.md     main.ipynb                            test.jsonl\n",
      "\u001b[01;34membeddings\u001b[0m/   meta_All_Beauty.jsonl\n",
      "\u001b[01;34membeddings2\u001b[0m/  milvus-standalone-docker-compose.yml\n"
     ]
    }
   ],
   "source": [
    "ls"
   ]
  },
  {
   "cell_type": "code",
   "execution_count": 18,
   "id": "f5d05fd9-3de6-4d95-a327-6ed8caba0212",
   "metadata": {},
   "outputs": [
    {
     "name": "stdout",
     "output_type": "stream",
     "text": [
      "                         image_path\n",
      "0  image_folder/00000/000000000.jpg\n",
      "1  image_folder/00000/000000001.jpg\n"
     ]
    }
   ],
   "source": [
    "import pandas as pd\n",
    "\n",
    "metadata_path = 'Semantic-Search-using-Vector-Database/embeddings/actual_title_folder/metadata/metadata_0.parquet'\n",
    "metadata_df = pd.read_parquet(metadata_path)\n",
    "\n",
    "print(metadata_df)"
   ]
  },
  {
   "cell_type": "code",
   "execution_count": 29,
   "id": "82d73890-9062-45f4-bab9-e6769afb51a9",
   "metadata": {},
   "outputs": [
    {
     "name": "stdout",
     "output_type": "stream",
     "text": [
      "Text files found: {'00000/000000000.txt': PosixPath('embeddings/image_folder/00000/000000000.txt')}\n",
      "Image files found: {'00000/000000000.jpg': PosixPath('embeddings/image_folder/00000/000000000.jpg'), '00000/000000001.jpg': PosixPath('embeddings/image_folder/00000/000000001.jpg'), '00000/.ipynb_checkpoints/000000000-checkpoint.jpg': PosixPath('embeddings/image_folder/00000/.ipynb_checkpoints/000000000-checkpoint.jpg'), '00000/.ipynb_checkpoints/000000001-checkpoint.jpg': PosixPath('embeddings/image_folder/00000/.ipynb_checkpoints/000000001-checkpoint.jpg')}\n"
     ]
    }
   ],
   "source": [
    "from pathlib import Path\n",
    "\n",
    "def folder_to_keys(folder, enable_text=True, enable_image=True, enable_metadata=False):\n",
    "    path = Path(folder)\n",
    "    if enable_text:\n",
    "        text_files = [*path.glob(\"**/*.txt\")]\n",
    "        text_files = {text_file.relative_to(path).as_posix(): text_file for text_file in text_files}\n",
    "        print(\"Text files found:\", text_files)\n",
    "    if enable_image:\n",
    "        image_files = [*path.glob(\"**/*.jpg\"), *path.glob(\"**/*.jpeg\"), *path.glob(\"**/*.png\")]\n",
    "        image_files = {image_file.relative_to(path).as_posix(): image_file for image_file in image_files}\n",
    "        print(\"Image files found:\", image_files)\n",
    "\n",
    "folder_to_keys('embeddings/image_folder')\n"
   ]
  },
  {
   "cell_type": "code",
   "execution_count": null,
   "id": "6ef2673c-a23f-4d4b-a49f-456843f900f5",
   "metadata": {},
   "outputs": [],
   "source": []
  }
 ],
 "metadata": {
  "kernelspec": {
   "display_name": "Python 3 (ipykernel)",
   "language": "python",
   "name": "python3"
  },
  "language_info": {
   "codemirror_mode": {
    "name": "ipython",
    "version": 3
   },
   "file_extension": ".py",
   "mimetype": "text/x-python",
   "name": "python",
   "nbconvert_exporter": "python",
   "pygments_lexer": "ipython3",
   "version": "3.10.13"
  }
 },
 "nbformat": 4,
 "nbformat_minor": 5
}
