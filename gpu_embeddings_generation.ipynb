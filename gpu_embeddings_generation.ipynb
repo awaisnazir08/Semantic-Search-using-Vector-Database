{
 "cells": [
  {
   "cell_type": "code",
   "execution_count": 1,
   "id": "7ffbc67d-1f9a-42c6-8213-1b831d33c371",
   "metadata": {},
   "outputs": [],
   "source": [
    "import torch\n",
    "import clip\n",
    "import numpy as np\n",
    "from PIL import Image\n",
    "from io import BytesIO\n",
    "import requests\n",
    "import json\n",
    "import os\n",
    "import requests\n",
    "import time"
   ]
  },
  {
   "cell_type": "code",
   "execution_count": 2,
   "id": "448b7ca5-826f-4427-974b-bbf3d0ecfa49",
   "metadata": {},
   "outputs": [
    {
     "name": "stderr",
     "output_type": "stream",
     "text": [
      "100%|███████████████████████████████████████| 335M/335M [00:42<00:00, 8.29MiB/s]\n"
     ]
    }
   ],
   "source": [
    "device = 'cuda' if torch.cuda.is_available() else 'cpu'\n",
    "\n",
    "model, preprocess = clip.load(\"ViT-B/16\", device=device)"
   ]
  },
  {
   "cell_type": "code",
   "execution_count": 45,
   "id": "f939dcc3-4e19-4137-b7df-dc5866cfa3fe",
   "metadata": {},
   "outputs": [],
   "source": [
    "DATASET_DIRECTORY = \"All_Beauty\"\n",
    "sample_data_path = 'meta_All_Beauty.jsonl'\n",
    "# sample_data_path = 'test.jsonl'"
   ]
  },
  {
   "cell_type": "code",
   "execution_count": 46,
   "id": "7f3df629-ab8d-472e-928f-5db8fe6e7cfb",
   "metadata": {},
   "outputs": [],
   "source": [
    "def image_url_to_img(image_url, retries=5, delay=1):\n",
    "    for _ in range(retries):\n",
    "        try:\n",
    "            response = requests.get(image_url, timeout=10)\n",
    "            response.raise_for_status()\n",
    "            img = Image.open(BytesIO(response.content))\n",
    "            return img\n",
    "        except requests.exceptions.RequestException as e:\n",
    "            print(f\"Error fetching image from {image_url}: {e}\")\n",
    "            time.sleep(delay)  # Wait before retrying\n",
    "    print(f\"Failed to fetch image from {image_url} after {retries} retries.\")\n",
    "    return None"
   ]
  },
  {
   "cell_type": "code",
   "execution_count": 47,
   "id": "4e64305b-2887-4224-ad07-802b3cde74eb",
   "metadata": {},
   "outputs": [],
   "source": [
    "def generate_text_embeddings(text):\n",
    "    text_features = clip.tokenize([text]).to(device)\n",
    "    with torch.no_grad():\n",
    "        text_embeddings = model.encode_text(text_features)\n",
    "        text_embeddings /= text_embeddings.norm(dim = -1, keepdim= True)\n",
    "        return text_embeddings.cpu().numpy()[0]\n",
    "\n",
    "def generate_image_embeddings(img):\n",
    "    img_preprocessed = preprocess(img).unsqueeze(0).to(device)\n",
    "    with torch.no_grad():\n",
    "        image_embeddings = model.encode_image(img_preprocessed).float()\n",
    "        image_embeddings /= image_embeddings.norm(dim = -1, keepdim = True)\n",
    "    return image_embeddings[0].cpu().numpy()\n"
   ]
  },
  {
   "cell_type": "code",
   "execution_count": 48,
   "id": "fea1b5e5-d64e-441e-814c-ddeafac29946",
   "metadata": {},
   "outputs": [
    {
     "name": "stdout",
     "output_type": "stream",
     "text": [
      "0.28485941886901855\n"
     ]
    }
   ],
   "source": [
    "start = time.time()\n",
    "img = image_url_to_img('https://m.media-amazon.com/images/I/612JNfob9nL._AC_UY218_.jpg')\n",
    "embed = generate_image_embeddings(img)\n",
    "t_embeddings = generate_text_embeddings('Hello I am Awais and I am trying to test the time it takes to convert text into embeddings using my cpu..!!')\n",
    "end = time.time()\n",
    "time_taken = end - start\n",
    "print(time_taken)"
   ]
  },
  {
   "cell_type": "code",
   "execution_count": 49,
   "id": "8b5c2694-58f1-4cce-b9f2-108d994928aa",
   "metadata": {},
   "outputs": [],
   "source": [
    "def extract_img_urls(image_array):\n",
    "    urls = []\n",
    "    for item in image_array:\n",
    "        # print(item)\n",
    "        if 'hi_res' in item and item['hi_res']:\n",
    "            urls.append(item['hi_res'])\n",
    "        elif 'large' in item and item['large']:\n",
    "            urls.append(item['large'])\n",
    "        else:\n",
    "            print(f\"Key 'hi_res' and 'large' not found in item: {item}\")\n",
    "    return urls"
   ]
  },
  {
   "cell_type": "code",
   "execution_count": 50,
   "id": "fe34d9fa-8a70-4e6c-98d4-bdd226eedf7b",
   "metadata": {},
   "outputs": [],
   "source": [
    "def contains_invalid_chars(title):\n",
    "    invalid_chars = set('/\\\\:*?<>|\"')\n",
    "    return any(char in invalid_chars for char in title)"
   ]
  },
  {
   "cell_type": "code",
   "execution_count": 89,
   "id": "6fe78df2-1d04-49bc-8cdc-aaacb08be590",
   "metadata": {},
   "outputs": [],
   "source": [
    "def save_embeddings(title, title_embedding, image_embeddings, output_dir):\n",
    "    # Create a directory for the title\n",
    "    try:\n",
    "        title_dir = os.path.join(output_dir, title)\n",
    "        os.makedirs(title_dir, exist_ok=True)\n",
    "    except OSError as exc:\n",
    "        if exc.errno == 36:\n",
    "            return\n",
    "        else:\n",
    "            raise\n",
    "    # Save title embedding\n",
    "    title_embedding_path = os.path.join(title_dir, \"title_embedding.npy\")\n",
    "    np.save(title_embedding_path, title_embedding)\n",
    "    \n",
    "    # Save image embeddings and create the JSON mapping\n",
    "    image_mapping = {}\n",
    "    for i, (image_embedding, url) in enumerate(image_embeddings):\n",
    "        image_embedding_path = os.path.join(title_dir, f\"image_embedding_{i}.npy\")\n",
    "        np.save(image_embedding_path, image_embedding)\n",
    "        image_mapping[i] = url\n",
    "    \n",
    "    # Save the JSON mapping\n",
    "    json_mapping_path = os.path.join(title_dir, \"image_url_mapping.json\")\n",
    "    with open(json_mapping_path, 'w') as json_file:\n",
    "        json.dump(image_mapping, json_file)"
   ]
  },
  {
   "cell_type": "code",
   "execution_count": 90,
   "id": "6b57a5a9-0e47-4631-8ae0-d5aac30d114e",
   "metadata": {},
   "outputs": [
    {
     "ename": "NameError",
     "evalue": "name 'handle_filename_too_long' is not defined",
     "output_type": "error",
     "traceback": [
      "\u001b[0;31m---------------------------------------------------------------------------\u001b[0m",
      "\u001b[0;31mOSError\u001b[0m                                   Traceback (most recent call last)",
      "Cell \u001b[0;32mIn[89], line 5\u001b[0m, in \u001b[0;36msave_embeddings\u001b[0;34m(title, title_embedding, image_embeddings, output_dir)\u001b[0m\n\u001b[1;32m      4\u001b[0m     title_dir \u001b[38;5;241m=\u001b[39m os\u001b[38;5;241m.\u001b[39mpath\u001b[38;5;241m.\u001b[39mjoin(output_dir, title)\n\u001b[0;32m----> 5\u001b[0m     \u001b[43mos\u001b[49m\u001b[38;5;241;43m.\u001b[39;49m\u001b[43mmakedirs\u001b[49m\u001b[43m(\u001b[49m\u001b[43mtitle_dir\u001b[49m\u001b[43m,\u001b[49m\u001b[43m \u001b[49m\u001b[43mexist_ok\u001b[49m\u001b[38;5;241;43m=\u001b[39;49m\u001b[38;5;28;43;01mTrue\u001b[39;49;00m\u001b[43m)\u001b[49m\n\u001b[1;32m      6\u001b[0m \u001b[38;5;28;01mexcept\u001b[39;00m \u001b[38;5;167;01mOSError\u001b[39;00m \u001b[38;5;28;01mas\u001b[39;00m exc:\n",
      "File \u001b[0;32m/opt/conda/lib/python3.10/os.py:225\u001b[0m, in \u001b[0;36mmakedirs\u001b[0;34m(name, mode, exist_ok)\u001b[0m\n\u001b[1;32m    224\u001b[0m \u001b[38;5;28;01mtry\u001b[39;00m:\n\u001b[0;32m--> 225\u001b[0m     \u001b[43mmkdir\u001b[49m\u001b[43m(\u001b[49m\u001b[43mname\u001b[49m\u001b[43m,\u001b[49m\u001b[43m \u001b[49m\u001b[43mmode\u001b[49m\u001b[43m)\u001b[49m\n\u001b[1;32m    226\u001b[0m \u001b[38;5;28;01mexcept\u001b[39;00m \u001b[38;5;167;01mOSError\u001b[39;00m:\n\u001b[1;32m    227\u001b[0m     \u001b[38;5;66;03m# Cannot rely on checking for EEXIST, since the operating system\u001b[39;00m\n\u001b[1;32m    228\u001b[0m     \u001b[38;5;66;03m# could give priority to other errors like EACCES or EROFS\u001b[39;00m\n",
      "\u001b[0;31mOSError\u001b[0m: [Errno 36] File name too long: 'All_Beauty/Heidi & Oak Natural Labs - Vitamin C Anti-Aging Serum 20% - 1 Fl.Oz - 60 Day Supply - With Hyaluronic Acid + Vitamin E + Amino Acid Complex - Provides Nourishment, Restoration and Protection for Your Skin - Reduces Unsightly Wrinkles, Fades Age Spots, Calms Inflammation and Helps Combat Acne By Neutralizing Free Radicals'",
      "\nDuring handling of the above exception, another exception occurred:\n",
      "\u001b[0;31mNameError\u001b[0m                                 Traceback (most recent call last)",
      "Cell \u001b[0;32mIn[90], line 27\u001b[0m\n\u001b[1;32m     25\u001b[0m         image_embeddings\u001b[38;5;241m.\u001b[39mappend((image_embedding, url))\n\u001b[1;32m     26\u001b[0m \u001b[38;5;66;03m# Save embeddings and image URL mapping\u001b[39;00m\n\u001b[0;32m---> 27\u001b[0m \u001b[43msave_embeddings\u001b[49m\u001b[43m(\u001b[49m\u001b[43mtitle\u001b[49m\u001b[43m,\u001b[49m\u001b[43m \u001b[49m\u001b[43mtitle_embedding\u001b[49m\u001b[43m,\u001b[49m\u001b[43m \u001b[49m\u001b[43mimage_embeddings\u001b[49m\u001b[43m,\u001b[49m\u001b[43m \u001b[49m\u001b[43mDATASET_DIRECTORY\u001b[49m\u001b[43m)\u001b[49m\n",
      "Cell \u001b[0;32mIn[89], line 8\u001b[0m, in \u001b[0;36msave_embeddings\u001b[0;34m(title, title_embedding, image_embeddings, output_dir)\u001b[0m\n\u001b[1;32m      6\u001b[0m \u001b[38;5;28;01mexcept\u001b[39;00m \u001b[38;5;167;01mOSError\u001b[39;00m \u001b[38;5;28;01mas\u001b[39;00m exc:\n\u001b[1;32m      7\u001b[0m     \u001b[38;5;28;01mif\u001b[39;00m exc\u001b[38;5;241m.\u001b[39merrno \u001b[38;5;241m==\u001b[39m \u001b[38;5;241m36\u001b[39m:\n\u001b[0;32m----> 8\u001b[0m         \u001b[43mhandle_filename_too_long\u001b[49m()\n\u001b[1;32m      9\u001b[0m         \u001b[38;5;28;01mreturn\u001b[39;00m\n\u001b[1;32m     10\u001b[0m     \u001b[38;5;28;01melse\u001b[39;00m:\n",
      "\u001b[0;31mNameError\u001b[0m: name 'handle_filename_too_long' is not defined"
     ]
    }
   ],
   "source": [
    "with open(sample_data_path) as file:\n",
    "    for line in file:\n",
    "        data = json.loads(line.strip())\n",
    "        \n",
    "        title = data['title']\n",
    "        if title in os.listdir(DATASET_DIRECTORY):\n",
    "            continue\n",
    "        # Split the title into words\n",
    "        title_words = title.split()\n",
    "        title_words = title_words[:55]\n",
    "        # Join the words to form a string with a single space between each word\n",
    "        title = ' '.join(title_words)\n",
    "\n",
    "        if contains_invalid_chars(title):\n",
    "            continue\n",
    "        # Generate title embedding\n",
    "        title_embedding = generate_text_embeddings(title)\n",
    "\n",
    "        image_urls = extract_img_urls(data['images'])\n",
    "        image_embeddings = []\n",
    "        for url in image_urls:\n",
    "            img = image_url_to_img(url)\n",
    "            if img:\n",
    "                image_embedding = generate_image_embeddings(img)\n",
    "                image_embeddings.append((image_embedding, url))\n",
    "        # Save embeddings and image URL mapping\n",
    "        save_embeddings(title, title_embedding, image_embeddings, DATASET_DIRECTORY)"
   ]
  },
  {
   "cell_type": "code",
   "execution_count": 25,
   "id": "b392527e-aa21-4843-a8aa-a4220fbc9e5e",
   "metadata": {},
   "outputs": [
    {
     "name": "stdout",
     "output_type": "stream",
     "text": [
      "/home\n"
     ]
    }
   ],
   "source": [
    "cd home"
   ]
  },
  {
   "cell_type": "code",
   "execution_count": 26,
   "id": "b3a087df-1b4e-4e5e-adb4-eff9d936d970",
   "metadata": {},
   "outputs": [
    {
     "name": "stdout",
     "output_type": "stream",
     "text": [
      "/home/Semantic-Search-using-Vector-Database\n"
     ]
    },
    {
     "name": "stderr",
     "output_type": "stream",
     "text": [
      "/opt/conda/lib/python3.10/site-packages/IPython/core/magics/osm.py:417: UserWarning: using dhist requires you to install the `pickleshare` library.\n",
      "  self.shell.db['dhist'] = compress_dhist(dhist)[-100:]\n"
     ]
    }
   ],
   "source": [
    "cd Semantic-Search-using-Vector-Database"
   ]
  },
  {
   "cell_type": "code",
   "execution_count": 27,
   "id": "9a4c7f1a-c6f2-4c1d-a999-d6ef9bcbd298",
   "metadata": {},
   "outputs": [
    {
     "name": "stdout",
     "output_type": "stream",
     "text": [
      "README.md                        meta_All_Beauty.jsonl\n",
      "\u001b[0m\u001b[01;34membeddings\u001b[0m/                      milvus-standalone-docker-compose.yml\n",
      "gpu_embeddings_generation.ipynb  milvus_standalone.py\n",
      "main.ipynb\n"
     ]
    }
   ],
   "source": [
    "ls"
   ]
  },
  {
   "cell_type": "code",
   "execution_count": 28,
   "id": "4088b552-2274-4e22-809c-e8cdb8731995",
   "metadata": {},
   "outputs": [],
   "source": [
    "mkdir embeddings2"
   ]
  },
  {
   "cell_type": "code",
   "execution_count": 85,
   "id": "c60e8eed-8320-41cc-b875-0a30ea46f720",
   "metadata": {},
   "outputs": [
    {
     "name": "stdout",
     "output_type": "stream",
     "text": [
      "Input Heidi & Oak Natural Labs - Vitamin C Anti-Aging Serum 20% - 1 Fl.Oz - 60 Day Supply - With Hyaluronic Acid + Vitamin E + Amino Acid Complex - Provides Nourishment, Restoration and Protection for Your Skin - Reduces Unsightly Wrinkles, Fades Age Spots, Calms Inflammation and Helps Combat Acne By Neutralizing Free\n"
     ]
    }
   ],
   "source": [
    "text = 'Input Heidi & Oak Natural Labs - Vitamin C Anti-Aging Serum 20% - 1 Fl.Oz - 60 Day Supply - With Hyaluronic Acid + Vitamin E + Amino Acid Complex - Provides Nourishment, Restoration and Protection for Your Skin - Reduces Unsightly Wrinkles, Fades Age Spots, Calms Inflammation and Helps Combat Acne By Neutralizing Free Radicals for Beautiful Glowing Skin - Convienient Pump Action Bottle - Your Skin Will Love Our Vitamin C Serum - Made in USA'\n",
    "title_words = text.split()\n",
    "title_words = title_words[:55]\n",
    "# Join the words to form a string with a single space between each word\n",
    "title = ' '.join(title_words)\n",
    "text_features = clip.tokenize([title]).to(device)\n",
    "\n",
    "# print(len(text.split(\" \")))\n",
    "print(title)"
   ]
  },
  {
   "cell_type": "code",
   "execution_count": 80,
   "id": "6f17d2a7-c201-4698-9e17-b57955db2365",
   "metadata": {},
   "outputs": [
    {
     "data": {
      "text/plain": [
       "True"
      ]
     },
     "execution_count": 80,
     "metadata": {},
     "output_type": "execute_result"
    }
   ],
   "source": [
    "'Eye Patch Black Adult with Tie Band (6 Per Pack)' in os.listdir('All_Beauty')"
   ]
  },
  {
   "cell_type": "code",
   "execution_count": null,
   "id": "7bcfc876-5760-4914-9bd5-b7d2d0a91af7",
   "metadata": {},
   "outputs": [],
   "source": [
    "os.listdir('All_Beauty')"
   ]
  },
  {
   "cell_type": "code",
   "execution_count": 88,
   "id": "3795d4bb-b623-46d0-84a1-28342e979b3f",
   "metadata": {},
   "outputs": [
    {
     "name": "stdout",
     "output_type": "stream",
     "text": [
      "333\n"
     ]
    }
   ],
   "source": [
    "text = 'All_Beauty/Heidi & Oak Natural Labs - Vitamin C Anti-Aging Serum 20% - 1 Fl.Oz - 60 Day Supply - With Hyaluronic Acid + Vitamin E + Amino Acid Complex - Provides Nourishment, Restoration and Protection for Your Skin - Reduces Unsightly Wrinkles, Fades Age Spots, Calms Inflammation and Helps Combat Acne By Neutralizing Free Radicals'\n",
    "print(len(text))"
   ]
  },
  {
   "cell_type": "code",
   "execution_count": null,
   "id": "b7f3dcd7-f783-4f3d-9058-013d26f837a4",
   "metadata": {},
   "outputs": [],
   "source": []
  }
 ],
 "metadata": {
  "kernelspec": {
   "display_name": "Python 3 (ipykernel)",
   "language": "python",
   "name": "python3"
  },
  "language_info": {
   "codemirror_mode": {
    "name": "ipython",
    "version": 3
   },
   "file_extension": ".py",
   "mimetype": "text/x-python",
   "name": "python",
   "nbconvert_exporter": "python",
   "pygments_lexer": "ipython3",
   "version": "3.10.13"
  }
 },
 "nbformat": 4,
 "nbformat_minor": 5
}
