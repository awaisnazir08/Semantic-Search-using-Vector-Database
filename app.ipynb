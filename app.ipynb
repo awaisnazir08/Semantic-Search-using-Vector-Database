{
 "cells": [
  {
   "cell_type": "markdown",
   "metadata": {},
   "source": [
    "## Importing Necessary Libraries"
   ]
  },
  {
   "cell_type": "code",
   "execution_count": 23,
   "metadata": {},
   "outputs": [],
   "source": [
    "import os\n",
    "import numpy as np\n",
    "import pandas as pd\n",
    "import time\n",
    "import requests\n",
    "import json\n",
    "import torch\n",
    "import clip\n",
    "import glob\n",
    "import pymilvus\n",
    "from pymilvus import (\n",
    "    connections,\n",
    "    utility,\n",
    "    FieldSchema,\n",
    "    CollectionSchema,\n",
    "    DataType,\n",
    "    Collection,\n",
    "    db\n",
    ")"
   ]
  },
  {
   "cell_type": "markdown",
   "metadata": {},
   "source": [
    "### Setting Directories and Folders"
   ]
  },
  {
   "cell_type": "code",
   "execution_count": 60,
   "metadata": {},
   "outputs": [],
   "source": [
    "IMAGES_URL_DIRECTORY = 'image_folder'\n",
    "IMAGE_EMBEDDINGS_DIRECTORY = 'image_embeddings_complete'\n",
    "TITLE_EMBEDDINGS_DIRECTORY = 'title_embeddings'\n",
    "title_embeddings_path = 'title_embeddings/text_emb/text_emb_0.npy'\n",
    "image_embeddings_path = 'image_embeddings_complete/img_emb/img_emb_0.npy'\n",
    "image_embeddings_meta_data_file = 'image_embeddings_complete/metadata/metadata_0.parquet'\n",
    "title_embeddings_meta_data_file = 'title_embeddings/metadata/metadata_0.parquet'\n",
    "data_path = 'D:\\Datasets\\Amazon\\Amazon Product Dataset\\meta_All_Beauty.jsonl'"
   ]
  },
  {
   "cell_type": "markdown",
   "metadata": {},
   "source": [
    "### Function for creating url and keys dictionary"
   ]
  },
  {
   "cell_type": "code",
   "execution_count": 3,
   "metadata": {},
   "outputs": [],
   "source": [
    "def creating_images_url_dictionary(path = IMAGES_URL_DIRECTORY):\n",
    "# Initialize an empty dictionary\n",
    "    url_key_dict = {}\n",
    "\n",
    "    # List of file paths (adjust the path and extension as needed)\n",
    "    file_paths = glob.glob(f'{path}/*.parquet')\n",
    "    \n",
    "    # print(len(file_paths))\n",
    "    \n",
    "    for file_path in file_paths:\n",
    "        # Read the file into a DataFrame\n",
    "        data = pd.read_parquet(file_path)\n",
    "        \n",
    "        # Ensure the key column is in string format\n",
    "        data['key'] = data['key'].astype(str)\n",
    "        \n",
    "        # Update the dictionary with data from the current file\n",
    "        url_key_dict.update(data.set_index('url')['key'].to_dict())\n",
    "    \n",
    "    return url_key_dict"
   ]
  },
  {
   "cell_type": "markdown",
   "metadata": {},
   "source": [
    "### Function for preparing the meta data of the images to get the keys"
   ]
  },
  {
   "cell_type": "code",
   "execution_count": 16,
   "metadata": {},
   "outputs": [],
   "source": [
    "def preparing_image_meta_data(image_embeddings_meta_data_file= image_embeddings_meta_data_file):\n",
    "    image_embeddings_meta_data = pd.read_parquet(image_embeddings_meta_data_file)\n",
    "    image_embeddings_meta_data['key'] = image_embeddings_meta_data['image_path'].str.extract(r'(\\d{9})')\n",
    "    return image_embeddings_meta_data\n"
   ]
  },
  {
   "cell_type": "markdown",
   "metadata": {},
   "source": [
    "### Functions for getting the index of image and title embeddings"
   ]
  },
  {
   "cell_type": "code",
   "execution_count": 85,
   "metadata": {},
   "outputs": [],
   "source": [
    "def get_index_of_image_embedding(image_embeddings_metadata, image_key):\n",
    "    index_value = image_embeddings_metadata.loc[image_embeddings_metadata['key'] == image_key].index\n",
    "    if not index_value.empty:\n",
    "        return index_value[0]\n",
    "    else:\n",
    "        return False\n",
    "\n",
    "def get_index_of_title_embedding(title_embeddings_metadata, title_key):\n",
    "    index_value = title_embeddings_metadata.loc[title_embeddings_metadata['caption'] == title_key].index\n",
    "    if not index_value.empty:\n",
    "        return index_value[0]\n",
    "    else:\n",
    "        return False"
   ]
  },
  {
   "cell_type": "markdown",
   "metadata": {},
   "source": [
    "### Function for extracting the urls"
   ]
  },
  {
   "cell_type": "code",
   "execution_count": 18,
   "metadata": {},
   "outputs": [],
   "source": [
    "def extract_img_urls(image_array):\n",
    "    urls = []\n",
    "    for item in image_array:\n",
    "        # print(item)\n",
    "        if 'hi_res' in item and item['hi_res']:\n",
    "            urls.append(item['hi_res'])\n",
    "        elif 'large' in item and item['large']:\n",
    "            urls.append(item['large'])\n",
    "        else:\n",
    "            print(f\"Key 'hi_res' and 'large' not found in item: {item}\")\n",
    "    return urls"
   ]
  },
  {
   "cell_type": "markdown",
   "metadata": {},
   "source": [
    "### Functions to get the image and title embeddings"
   ]
  },
  {
   "cell_type": "code",
   "execution_count": 20,
   "metadata": {},
   "outputs": [],
   "source": [
    "def get_image_embedding(image_embeddings, index):\n",
    "    return image_embeddings[index]\n",
    "\n",
    "def get_title_embedding(title_embeddings, index):\n",
    "    return title_embeddings[index]"
   ]
  },
  {
   "cell_type": "markdown",
   "metadata": {},
   "source": [
    "## Loading the Image and Title embeddings"
   ]
  },
  {
   "cell_type": "code",
   "execution_count": 100,
   "metadata": {},
   "outputs": [],
   "source": [
    "image_embeddings = np.load(image_embeddings_path)\n",
    "title_embeddings = np.load(title_embeddings_path)"
   ]
  },
  {
   "cell_type": "code",
   "execution_count": 103,
   "metadata": {},
   "outputs": [
    {
     "name": "stdout",
     "output_type": "stream",
     "text": [
      "(548083, 512)\n"
     ]
    }
   ],
   "source": [
    "# print(image_embeddings.shape)"
   ]
  },
  {
   "cell_type": "code",
   "execution_count": 89,
   "metadata": {},
   "outputs": [],
   "source": [
    "title_embeddings_metadata = pd.read_parquet(title_embeddings_meta_data_file)"
   ]
  },
  {
   "cell_type": "code",
   "execution_count": 90,
   "metadata": {},
   "outputs": [
    {
     "name": "stdout",
     "output_type": "stream",
     "text": [
      "                         image_path        key\n",
      "0  image_folder/00000/000000000.jpg  000000000\n",
      "1  image_folder/00000/000000001.jpg  000000001\n",
      "2  image_folder/00000/000000002.jpg  000000002\n",
      "3  image_folder/00000/000000003.jpg  000000003\n",
      "4  image_folder/00000/000000004.jpg  000000004\n",
      "548083\n"
     ]
    }
   ],
   "source": [
    "image_embeddings_metadata = preparing_image_meta_data()\n",
    "print(image_embeddings_metadata.head())\n",
    "print(len(image_embeddings_metadata))"
   ]
  },
  {
   "cell_type": "code",
   "execution_count": 91,
   "metadata": {},
   "outputs": [
    {
     "name": "stdout",
     "output_type": "stream",
     "text": [
      "478384\n"
     ]
    }
   ],
   "source": [
    "images_url_dictionary = creating_images_url_dictionary()\n",
    "print(len(images_url_dictionary))"
   ]
  },
  {
   "cell_type": "code",
   "execution_count": 92,
   "metadata": {},
   "outputs": [
    {
     "data": {
      "text/plain": [
       "[('https://m.media-amazon.com/images/I/517uoA+-gzL._SL1005_.jpg', '000000016'),\n",
       " ('https://m.media-amazon.com/images/I/510BWq7O95L._SL1005_.jpg', '000000015')]"
      ]
     },
     "execution_count": 92,
     "metadata": {},
     "output_type": "execute_result"
    }
   ],
   "source": [
    "n = 2\n",
    "# View the first n items of the dictionary\n",
    "first_n_items = list(images_url_dictionary.items())[:n]\n",
    "first_n_items"
   ]
  },
  {
   "cell_type": "markdown",
   "metadata": {},
   "source": [
    "### Connecting to the Milvus Database"
   ]
  },
  {
   "cell_type": "code",
   "execution_count": 105,
   "metadata": {},
   "outputs": [],
   "source": [
    "client = connections.connect(\"My_Products\", host=\"localhost\", port=\"19530\")\n",
    "client"
   ]
  },
  {
   "cell_type": "code",
   "execution_count": 107,
   "metadata": {},
   "outputs": [
    {
     "data": {
      "text/plain": [
       "['default', 'Products', 'My_Products']"
      ]
     },
     "execution_count": 107,
     "metadata": {},
     "output_type": "execute_result"
    }
   ],
   "source": [
    "db.list_database()"
   ]
  },
  {
   "cell_type": "code",
   "execution_count": 106,
   "metadata": {},
   "outputs": [],
   "source": [
    "# database = db.create_database(\"My_Products\")\n",
    "db.using_database(\"My_Products\")"
   ]
  },
  {
   "cell_type": "markdown",
   "metadata": {},
   "source": [
    "### Creating Field Schemas for the Collections"
   ]
  },
  {
   "cell_type": "code",
   "execution_count": 108,
   "metadata": {},
   "outputs": [],
   "source": [
    "fields = [\n",
    "    FieldSchema(name=\"product_id\", dtype=DataType.INT64, is_primary=True, auto_id=True),\n",
    "    FieldSchema(name=\"title_vector\", dtype=DataType.FLOAT_VECTOR, dim=512),  \n",
    "    FieldSchema(name=\"title\", dtype=DataType.VARCHAR, max_length = 5000),\n",
    "    FieldSchema(name=\"average_rating\", dtype=DataType.FLOAT),\n",
    "    FieldSchema(name=\"features\", dtype=DataType.ARRAY, max_capacity = 1000, element_type = DataType.VARCHAR, max_length = 10000),\n",
    "    FieldSchema(name=\"description\", dtype=DataType.ARRAY, max_capacity = 500, element_type = DataType.VARCHAR, max_length = 50000),\n",
    "    FieldSchema(name=\"categories\", dtype=DataType.ARRAY, max_capacity = 500, element_type = DataType.VARCHAR, max_length = 500),\n",
    "    FieldSchema(name=\"price\", dtype=DataType.FLOAT),\n",
    "    FieldSchema(name=\"store\", dtype=DataType.VARCHAR, max_length = 500),\n",
    "    FieldSchema(name=\"main_category\", dtype=DataType.VARCHAR, max_length = 500)\n",
    "]\n",
    "\n",
    "fields_images = [\n",
    "    FieldSchema(name=\"image_id\", dtype=DataType.INT64, is_primary=True, auto_id=True),\n",
    "    FieldSchema(name=\"p_id\", dtype=DataType.INT64),  # Foreign key to Products\n",
    "    FieldSchema(name=\"image_vector\", dtype=DataType.FLOAT_VECTOR, dim=512),\n",
    "    FieldSchema(name=\"image_url\", dtype=DataType.VARCHAR, max_length=10000)\n",
    "]"
   ]
  },
  {
   "cell_type": "markdown",
   "metadata": {},
   "source": [
    "### Creating the collections"
   ]
  },
  {
   "cell_type": "code",
   "execution_count": 109,
   "metadata": {},
   "outputs": [],
   "source": [
    "product_schema = CollectionSchema(fields, description=\"Products collection\")\n",
    "products_collection = Collection(name = 'products', schema=product_schema)"
   ]
  },
  {
   "cell_type": "code",
   "execution_count": 110,
   "metadata": {},
   "outputs": [],
   "source": [
    "image_schema = CollectionSchema(fields_images, description='Images Collection')\n",
    "images_collection = Collection(name = 'images', schema = image_schema)"
   ]
  },
  {
   "cell_type": "markdown",
   "metadata": {},
   "source": [
    "### Creating the Indices for the collections and loading them"
   ]
  },
  {
   "cell_type": "code",
   "execution_count": 111,
   "metadata": {},
   "outputs": [],
   "source": [
    "index_params = {\n",
    "    \"metric_type\": \"COSINE\",\n",
    "    \"index_type\": \"IVF_FLAT\",\n",
    "    \"params\": {\"nlist\": 128}\n",
    "}\n",
    "\n",
    "products_collection.create_index(field_name=\"title_vector\", index_params = index_params)\n",
    "products_collection.load()\n",
    "\n",
    "images_collection.create_index(field_name=\"image_vector\", index_params = index_params)\n",
    "images_collection.load()"
   ]
  },
  {
   "cell_type": "code",
   "execution_count": 113,
   "metadata": {},
   "outputs": [],
   "source": [
    "def create_and_store_data():\n",
    "    with open(data_path) as file:\n",
    "        for line in file:\n",
    "            data = json.loads(line.strip())\n",
    "            if '\"' in data['title']:\n",
    "                continue\n",
    "            \n",
    "            title = data['title']\n",
    "            title_index = get_index_of_title_embedding(title_embeddings_metadata, title)\n",
    "            if not title_index:\n",
    "                continue\n",
    "            title_embedding = get_title_embedding(title_embeddings, title_index)\n",
    "            # break\n",
    "            \n",
    "            # Extract product information\n",
    "            average_rating = data['average_rating']\n",
    "            features = data['features']\n",
    "            description = data['description']\n",
    "            categories = data['categories']\n",
    "            price = data['price']\n",
    "            main_category = data['main_category']\n",
    "            store = data['store']\n",
    "            if not price:\n",
    "                price = 0.0\n",
    "            if not store:\n",
    "                store = ''\n",
    "            if not main_category:\n",
    "                main_category = ''\n",
    "            if not average_rating:\n",
    "                average_rating = 0.0\n",
    "            \n",
    "            \n",
    "            # Prepare product data\n",
    "            product_data = {\n",
    "                'title_vector': title_embedding.tolist(),\n",
    "                'title': title,\n",
    "                'average_rating': average_rating,\n",
    "                'features': features,\n",
    "                'description': description,\n",
    "                'categories': categories,\n",
    "                'price': price,\n",
    "                'store': store,\n",
    "                'main_category': main_category,\n",
    "            }\n",
    "            \n",
    "            # Insert product data into the products collection\n",
    "            products_collection.insert([product_data])\n",
    "            # Flush to ensure data is written\n",
    "            products_collection.flush()\n",
    "            \n",
    "            # Retrieve product ID\n",
    "            product_ids = products_collection.query(expr=f'title == \"{title}\"', output_fields=[\"product_id\"])\n",
    "            product_id = product_ids[0][\"product_id\"]\n",
    "            \n",
    "            # Extract and process image URLs\n",
    "            image_urls = extract_img_urls(data['images'])\n",
    "            current_image_embeddings = []\n",
    "            for url in image_urls:\n",
    "                \n",
    "                #getting the image key stored in the dictionary\n",
    "                if url in images_url_dictionary and images_url_dictionary[url]:\n",
    "                    image_key = images_url_dictionary[url]\n",
    "                else:\n",
    "                    continue\n",
    "                # print(image_key)\n",
    "                image_index = get_index_of_image_embedding(image_embeddings_metadata, image_key)\n",
    "                # print(image_index)\n",
    "                if not image_index:\n",
    "                    continue\n",
    "                image_embedding = get_image_embedding(image_embeddings, image_index)\n",
    "                \n",
    "                current_image_embeddings.append((image_embedding, url))\n",
    "\n",
    "            # Insert each image embedding with the associated product ID\n",
    "            for image_embedding, image_url in current_image_embeddings:\n",
    "                image_data = {\n",
    "                    'p_id': product_id,\n",
    "                    'image_vector': image_embedding.tolist(),\n",
    "                    'image_url': image_url,\n",
    "                }\n",
    "                images_collection.insert([image_data])\n",
    "            # Flush to ensure data is written\n",
    "            images_collection.flush()\n",
    "            \n",
    "            print(f\"Inserted product ID: {product_id} with {len(current_image_embeddings)} images\")"
   ]
  },
  {
   "cell_type": "code",
   "execution_count": 114,
   "metadata": {},
   "outputs": [
    {
     "name": "stdout",
     "output_type": "stream",
     "text": [
      "Inserted product ID: 451053681282414334 with 2 images\n",
      "Inserted product ID: 451053681282414340 with 2 images\n",
      "Inserted product ID: 451053681282414346 with 7 images\n",
      "Inserted product ID: 451053681282414362 with 1 images\n",
      "Inserted product ID: 451053681282414366 with 9 images\n",
      "Inserted product ID: 451053681282414386 with 5 images\n",
      "Inserted product ID: 451053681282414398 with 7 images\n",
      "Inserted product ID: 451053681282414414 with 1 images\n",
      "Inserted product ID: 451053681282414418 with 7 images\n",
      "Inserted product ID: 451053681282414434 with 1 images\n",
      "Inserted product ID: 451053681282414438 with 1 images\n",
      "Inserted product ID: 451053681282414442 with 6 images\n",
      "Inserted product ID: 451053681282414456 with 9 images\n",
      "Inserted product ID: 451053681282414476 with 1 images\n",
      "Inserted product ID: 451053681282414480 with 1 images\n",
      "Inserted product ID: 451053681282414484 with 5 images\n",
      "Inserted product ID: 451053681282414496 with 9 images\n",
      "Inserted product ID: 451053681282414516 with 7 images\n",
      "Inserted product ID: 451053681282414532 with 6 images\n",
      "Inserted product ID: 451053681282414546 with 7 images\n",
      "Inserted product ID: 451053681282414562 with 7 images\n",
      "Inserted product ID: 451053681282414578 with 7 images\n",
      "Inserted product ID: 451053681282414594 with 8 images\n",
      "Inserted product ID: 451053681282414612 with 6 images\n",
      "Inserted product ID: 451053681282414626 with 7 images\n",
      "Inserted product ID: 451053681282414642 with 3 images\n",
      "Inserted product ID: 451053681282414650 with 6 images\n",
      "Inserted product ID: 451053681282414664 with 1 images\n",
      "Inserted product ID: 451053681282414668 with 1 images\n",
      "Inserted product ID: 451053681282414672 with 3 images\n",
      "Inserted product ID: 451053681282414680 with 1 images\n",
      "Inserted product ID: 451053681282414684 with 3 images\n",
      "Inserted product ID: 451053681282414692 with 5 images\n",
      "Inserted product ID: 451053681282414704 with 1 images\n",
      "Inserted product ID: 451053681282414708 with 2 images\n",
      "Inserted product ID: 451053681282414714 with 7 images\n",
      "Inserted product ID: 451053681282414730 with 1 images\n",
      "Inserted product ID: 451053681282414734 with 1 images\n",
      "Inserted product ID: 451053681282414738 with 8 images\n",
      "Inserted product ID: 451053681282414756 with 6 images\n",
      "Inserted product ID: 451053681282414770 with 9 images\n",
      "Inserted product ID: 451053681282414790 with 8 images\n",
      "Inserted product ID: 451053681282414808 with 8 images\n",
      "Inserted product ID: 451053681282414826 with 8 images\n",
      "Inserted product ID: 451053681282414844 with 8 images\n",
      "Inserted product ID: 451053681282414862 with 1 images\n",
      "Inserted product ID: 451053681282414866 with 7 images\n",
      "Inserted product ID: 451053681282414882 with 7 images\n",
      "Inserted product ID: 451053681282414898 with 1 images\n",
      "Inserted product ID: 451053681282414902 with 2 images\n",
      "Inserted product ID: 451053681282414908 with 6 images\n",
      "Inserted product ID: 451053681282414922 with 6 images\n",
      "Inserted product ID: 451053681282414936 with 9 images\n",
      "Inserted product ID: 451053681282414956 with 1 images\n",
      "Inserted product ID: 451053681282414960 with 6 images\n",
      "Inserted product ID: 451053681282414974 with 6 images\n",
      "Inserted product ID: 451053681282414988 with 4 images\n",
      "Inserted product ID: 451053681282414998 with 5 images\n",
      "Inserted product ID: 451053681282415010 with 9 images\n",
      "Inserted product ID: 451053681282415030 with 1 images\n",
      "Inserted product ID: 451053681282415034 with 1 images\n",
      "Inserted product ID: 451053681282415038 with 2 images\n",
      "Inserted product ID: 451053681282415044 with 3 images\n",
      "Inserted product ID: 451053681282415052 with 7 images\n",
      "Inserted product ID: 451053681282415068 with 9 images\n",
      "Inserted product ID: 451053681282415088 with 2 images\n",
      "Inserted product ID: 451053681282415094 with 1 images\n",
      "Inserted product ID: 451053681282415098 with 8 images\n",
      "Inserted product ID: 451053681282415116 with 8 images\n",
      "Inserted product ID: 451053681282415134 with 8 images\n",
      "Inserted product ID: 451053681282415152 with 4 images\n",
      "Inserted product ID: 451053681282415162 with 8 images\n",
      "Inserted product ID: 451053681282415180 with 8 images\n",
      "Inserted product ID: 451053681282415198 with 7 images\n",
      "Inserted product ID: 451053681282415214 with 7 images\n",
      "Inserted product ID: 451053681282415230 with 3 images\n",
      "Inserted product ID: 451053681282415238 with 7 images\n",
      "Inserted product ID: 451053681282415254 with 5 images\n",
      "Inserted product ID: 451053681282415266 with 9 images\n",
      "Inserted product ID: 451053681282415286 with 4 images\n",
      "Inserted product ID: 451053681282415296 with 1 images\n",
      "Inserted product ID: 451053681282415300 with 6 images\n",
      "Inserted product ID: 451053681282415314 with 7 images\n",
      "Inserted product ID: 451053681282415330 with 2 images\n",
      "Inserted product ID: 451053681282415336 with 4 images\n",
      "Inserted product ID: 451053681282415346 with 8 images\n",
      "Inserted product ID: 451053681282415364 with 2 images\n",
      "Inserted product ID: 451053681282415370 with 1 images\n",
      "Inserted product ID: 451053681282415374 with 2 images\n",
      "Inserted product ID: 451053681282415380 with 3 images\n",
      "Inserted product ID: 451053681282415388 with 7 images\n",
      "Inserted product ID: 451053681282415404 with 4 images\n",
      "Inserted product ID: 451053681282415414 with 1 images\n",
      "Inserted product ID: 451053681282415418 with 6 images\n",
      "Inserted product ID: 451053681282415432 with 9 images\n",
      "Inserted product ID: 451053681282415452 with 3 images\n",
      "Inserted product ID: 451053681282415460 with 9 images\n",
      "Inserted product ID: 451053681282415480 with 1 images\n",
      "Inserted product ID: 451053681282415484 with 1 images\n",
      "Inserted product ID: 451053681282415488 with 2 images\n",
      "Inserted product ID: 451053681282415494 with 1 images\n",
      "Inserted product ID: 451053681282415498 with 6 images\n",
      "Inserted product ID: 451053681282415512 with 8 images\n",
      "Inserted product ID: 451053681282415530 with 7 images\n",
      "Inserted product ID: 451053681282415546 with 8 images\n",
      "Inserted product ID: 451053681282415564 with 5 images\n",
      "Inserted product ID: 451053681282415576 with 5 images\n",
      "Inserted product ID: 451053681282415588 with 9 images\n",
      "Inserted product ID: 451053681282415608 with 7 images\n",
      "Inserted product ID: 451053681282415624 with 7 images\n",
      "Inserted product ID: 451053681282415640 with 5 images\n",
      "Inserted product ID: 451053681282415652 with 2 images\n",
      "Inserted product ID: 451053681282415658 with 7 images\n",
      "Inserted product ID: 451053681282415674 with 1 images\n",
      "Inserted product ID: 451053681282415678 with 6 images\n",
      "Inserted product ID: 451053681282415692 with 3 images\n",
      "Inserted product ID: 451053681282415700 with 7 images\n",
      "Inserted product ID: 451053681282415716 with 7 images\n",
      "Inserted product ID: 451053681282415732 with 7 images\n",
      "Inserted product ID: 451053681282415748 with 6 images\n",
      "Inserted product ID: 451053681282415762 with 7 images\n",
      "Inserted product ID: 451053681282415778 with 7 images\n",
      "Inserted product ID: 451053681282415794 with 1 images\n",
      "Inserted product ID: 451053681282415798 with 7 images\n",
      "Inserted product ID: 451053681282415814 with 2 images\n",
      "Inserted product ID: 451053681282415820 with 7 images\n",
      "Inserted product ID: 451053681282415836 with 9 images\n",
      "Inserted product ID: 451053681282415856 with 2 images\n",
      "Inserted product ID: 451053681282415862 with 7 images\n",
      "Inserted product ID: 451053681282415878 with 6 images\n",
      "Inserted product ID: 451053681282415892 with 1 images\n",
      "Inserted product ID: 451053681282415896 with 2 images\n",
      "Inserted product ID: 451053681282415902 with 2 images\n",
      "Inserted product ID: 451053681282415908 with 1 images\n",
      "Inserted product ID: 451053681282415912 with 6 images\n",
      "Inserted product ID: 451053681282415926 with 2 images\n",
      "Inserted product ID: 451053681282415932 with 5 images\n",
      "Inserted product ID: 451053681282415944 with 1 images\n",
      "Inserted product ID: 451053681282415948 with 1 images\n",
      "Inserted product ID: 451053681282415952 with 5 images\n",
      "Inserted product ID: 451053681282415964 with 6 images\n",
      "Inserted product ID: 451053681282415978 with 9 images\n",
      "Inserted product ID: 451053681282415998 with 3 images\n",
      "Inserted product ID: 451053681282416006 with 1 images\n",
      "Inserted product ID: 451053681282416010 with 7 images\n",
      "Inserted product ID: 451053681282416026 with 2 images\n",
      "Inserted product ID: 451053681282416032 with 1 images\n",
      "Inserted product ID: 451053681282416036 with 7 images\n",
      "Inserted product ID: 451053681282416052 with 3 images\n",
      "Inserted product ID: 451053681282416060 with 6 images\n",
      "Inserted product ID: 451053681282416074 with 3 images\n",
      "Inserted product ID: 451053681282416082 with 4 images\n",
      "Inserted product ID: 451053681282416092 with 4 images\n",
      "Inserted product ID: 451053681282416102 with 1 images\n",
      "Inserted product ID: 451053681282416106 with 1 images\n",
      "Inserted product ID: 451053681282416110 with 1 images\n",
      "Inserted product ID: 451053681282416114 with 2 images\n",
      "Inserted product ID: 451053681282416120 with 1 images\n",
      "Inserted product ID: 451053681282416124 with 3 images\n",
      "Inserted product ID: 451053681282416132 with 7 images\n",
      "Inserted product ID: 451053681282416148 with 1 images\n",
      "Inserted product ID: 451053681282416152 with 3 images\n",
      "Inserted product ID: 451053681282416160 with 6 images\n",
      "Inserted product ID: 451053681282416174 with 7 images\n",
      "Inserted product ID: 451053681282416190 with 1 images\n",
      "Inserted product ID: 451053681282416194 with 2 images\n",
      "Inserted product ID: 451053681282416200 with 8 images\n",
      "Inserted product ID: 451053681282416218 with 1 images\n",
      "Inserted product ID: 451053681282416222 with 5 images\n",
      "Inserted product ID: 451053681282416234 with 5 images\n",
      "Inserted product ID: 451053681282416246 with 7 images\n",
      "Inserted product ID: 451053681282416262 with 5 images\n",
      "Inserted product ID: 451053681282416274 with 9 images\n",
      "Inserted product ID: 451053681282416294 with 7 images\n"
     ]
    }
   ],
   "source": [
    "create_and_store_data()"
   ]
  },
  {
   "cell_type": "code",
   "execution_count": 64,
   "metadata": {},
   "outputs": [
    {
     "data": {
      "text/html": [
       "<div>\n",
       "<style scoped>\n",
       "    .dataframe tbody tr th:only-of-type {\n",
       "        vertical-align: middle;\n",
       "    }\n",
       "\n",
       "    .dataframe tbody tr th {\n",
       "        vertical-align: top;\n",
       "    }\n",
       "\n",
       "    .dataframe thead th {\n",
       "        text-align: right;\n",
       "    }\n",
       "</style>\n",
       "<table border=\"1\" class=\"dataframe\">\n",
       "  <thead>\n",
       "    <tr style=\"text-align: right;\">\n",
       "      <th></th>\n",
       "      <th>caption</th>\n",
       "    </tr>\n",
       "  </thead>\n",
       "  <tbody>\n",
       "    <tr>\n",
       "      <th>0</th>\n",
       "      <td>Howard LC0008 Leather Conditioner, 8-Ounce (4-...</td>\n",
       "    </tr>\n",
       "    <tr>\n",
       "      <th>1</th>\n",
       "      <td>Yes to Tomatoes Detoxifying Charcoal Cleanser ...</td>\n",
       "    </tr>\n",
       "    <tr>\n",
       "      <th>2</th>\n",
       "      <td>Avon Big &amp; False Lash Mascara - Brown/Black by...</td>\n",
       "    </tr>\n",
       "    <tr>\n",
       "      <th>3</th>\n",
       "      <td>Amybria New Silver Plated Full Crystal Inlay B...</td>\n",
       "    </tr>\n",
       "    <tr>\n",
       "      <th>4</th>\n",
       "      <td>Lucky 7 Shaving Starter Set - Seven Blade Shav...</td>\n",
       "    </tr>\n",
       "    <tr>\n",
       "      <th>...</th>\n",
       "      <td>...</td>\n",
       "    </tr>\n",
       "    <tr>\n",
       "      <th>112585</th>\n",
       "      <td>BELLA AURORA B-7 ANTI-TACHES 50ML</td>\n",
       "    </tr>\n",
       "    <tr>\n",
       "      <th>112586</th>\n",
       "      <td>8 Pieces Tie Dye Headbands Wide Boho Turban He...</td>\n",
       "    </tr>\n",
       "    <tr>\n",
       "      <th>112587</th>\n",
       "      <td>Ameng Senegalese Twist Hair, 5Packs Twist Croc...</td>\n",
       "    </tr>\n",
       "    <tr>\n",
       "      <th>112588</th>\n",
       "      <td>Roller Curly Hair Comb Hairstyle Massager Hair...</td>\n",
       "    </tr>\n",
       "    <tr>\n",
       "      <th>112589</th>\n",
       "      <td>Dofash 8Pcs Floral U-Shaped Hairpins Flowers B...</td>\n",
       "    </tr>\n",
       "  </tbody>\n",
       "</table>\n",
       "<p>112590 rows × 1 columns</p>\n",
       "</div>"
      ],
      "text/plain": [
       "                                                  caption\n",
       "0       Howard LC0008 Leather Conditioner, 8-Ounce (4-...\n",
       "1       Yes to Tomatoes Detoxifying Charcoal Cleanser ...\n",
       "2       Avon Big & False Lash Mascara - Brown/Black by...\n",
       "3       Amybria New Silver Plated Full Crystal Inlay B...\n",
       "4       Lucky 7 Shaving Starter Set - Seven Blade Shav...\n",
       "...                                                   ...\n",
       "112585                  BELLA AURORA B-7 ANTI-TACHES 50ML\n",
       "112586  8 Pieces Tie Dye Headbands Wide Boho Turban He...\n",
       "112587  Ameng Senegalese Twist Hair, 5Packs Twist Croc...\n",
       "112588  Roller Curly Hair Comb Hairstyle Massager Hair...\n",
       "112589  Dofash 8Pcs Floral U-Shaped Hairpins Flowers B...\n",
       "\n",
       "[112590 rows x 1 columns]"
      ]
     },
     "execution_count": 64,
     "metadata": {},
     "output_type": "execute_result"
    }
   ],
   "source": [
    "title_embeddings_metadata"
   ]
  },
  {
   "cell_type": "code",
   "execution_count": 81,
   "metadata": {},
   "outputs": [
    {
     "ename": "AttributeError",
     "evalue": "'list' object has no attribute 'tolist'",
     "output_type": "error",
     "traceback": [
      "\u001b[1;31m---------------------------------------------------------------------------\u001b[0m",
      "\u001b[1;31mAttributeError\u001b[0m                            Traceback (most recent call last)",
      "Cell \u001b[1;32mIn[81], line 2\u001b[0m\n\u001b[0;32m      1\u001b[0m a \u001b[38;5;241m=\u001b[39m [\u001b[38;5;241m1\u001b[39m,\u001b[38;5;241m2\u001b[39m,\u001b[38;5;241m3\u001b[39m,\u001b[38;5;241m4\u001b[39m]\n\u001b[1;32m----> 2\u001b[0m \u001b[43ma\u001b[49m\u001b[38;5;241;43m.\u001b[39;49m\u001b[43mtolist\u001b[49m()\n",
      "\u001b[1;31mAttributeError\u001b[0m: 'list' object has no attribute 'tolist'"
     ]
    }
   ],
   "source": [
    "a = [1,2,3,4]\n",
    "# a.tolist()"
   ]
  },
  {
   "cell_type": "code",
   "execution_count": 82,
   "metadata": {},
   "outputs": [
    {
     "data": {
      "text/plain": [
       "False"
      ]
     },
     "execution_count": 82,
     "metadata": {},
     "output_type": "execute_result"
    }
   ],
   "source": [
    "'dfsd' in images_url_dictionary"
   ]
  },
  {
   "cell_type": "code",
   "execution_count": null,
   "metadata": {},
   "outputs": [],
   "source": []
  }
 ],
 "metadata": {
  "kernelspec": {
   "display_name": "Python 3",
   "language": "python",
   "name": "python3"
  },
  "language_info": {
   "codemirror_mode": {
    "name": "ipython",
    "version": 3
   },
   "file_extension": ".py",
   "mimetype": "text/x-python",
   "name": "python",
   "nbconvert_exporter": "python",
   "pygments_lexer": "ipython3",
   "version": "3.11.5"
  }
 },
 "nbformat": 4,
 "nbformat_minor": 2
}
