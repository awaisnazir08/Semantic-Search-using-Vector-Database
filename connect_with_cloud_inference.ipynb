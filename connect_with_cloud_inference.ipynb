{
 "cells": [
  {
   "cell_type": "markdown",
   "metadata": {},
   "source": [
    "## Importing Necessary Libraries"
   ]
  },
  {
   "cell_type": "code",
   "execution_count": 1,
   "metadata": {},
   "outputs": [],
   "source": [
    "import os\n",
    "import numpy as np\n",
    "import pandas as pd\n",
    "import time\n",
    "import requests\n",
    "import json\n",
    "import torch\n",
    "import clip\n",
    "import glob\n",
    "# import pymilvus\n",
    "from pymilvus import (\n",
    "    connections,\n",
    "    utility,\n",
    "    FieldSchema,\n",
    "    CollectionSchema,\n",
    "    DataType,\n",
    "    Collection,\n",
    "    db,\n",
    "    MilvusClient\n",
    ")\n",
    "import unicodedata\n",
    "import open_clip\n",
    "from all_clip import load_clip\n"
   ]
  },
  {
   "cell_type": "code",
   "execution_count": 2,
   "metadata": {},
   "outputs": [
    {
     "name": "stdout",
     "output_type": "stream",
     "text": [
      "2.2.1+cpu\n"
     ]
    }
   ],
   "source": [
    "print(torch.__version__)"
   ]
  },
  {
   "cell_type": "markdown",
   "metadata": {},
   "source": [
    "### Setting Directories and Folders"
   ]
  },
  {
   "cell_type": "code",
   "execution_count": 3,
   "metadata": {},
   "outputs": [],
   "source": [
    "IMAGES_URL_DIRECTORY = 'image_folder'\n",
    "IMAGE_EMBEDDINGS_DIRECTORY = 'image_embeddings_complete'\n",
    "TITLE_EMBEDDINGS_DIRECTORY = 'title_embeddings'\n",
    "title_embeddings_path = 'title_embeddings/text_emb/text_emb_0.npy'\n",
    "image_embeddings_path = 'image_embeddings_complete/img_emb/img_emb_0.npy'\n",
    "image_embeddings_meta_data_file = 'image_embeddings_complete/metadata/metadata_0.parquet'\n",
    "title_embeddings_meta_data_file = 'title_embeddings/metadata/metadata_0.parquet'\n",
    "data_path = 'D:\\Datasets\\Amazon\\Amazon Product Dataset\\meta_All_Beauty.jsonl'"
   ]
  },
  {
   "cell_type": "markdown",
   "metadata": {},
   "source": [
    "### Loading Clip Model for inference"
   ]
  },
  {
   "cell_type": "code",
   "execution_count": 4,
   "metadata": {},
   "outputs": [
    {
     "name": "stdout",
     "output_type": "stream",
     "text": [
      "warming up with batch size 1 on cpu\n",
      "done warming up in 9.828677415847778s\n"
     ]
    }
   ],
   "source": [
    "device = 'cuda' if torch.cuda.is_available() else 'cpu'\n",
    "\n",
    "model, preprocess, tokenizer = load_clip(clip_model='open_clip:ViT-B-16')"
   ]
  },
  {
   "cell_type": "markdown",
   "metadata": {},
   "source": [
    "### Functions for generating Embeddings for Inference"
   ]
  },
  {
   "cell_type": "code",
   "execution_count": 5,
   "metadata": {},
   "outputs": [],
   "source": [
    "def get_text_query_embedding(query):\n",
    "    # Load the model and preprocess function\n",
    "    text_tokens = tokenizer(query)\n",
    "    with torch.no_grad():\n",
    "        text_features = model.encode_text(text_tokens)\n",
    "        text_features /= text_features.norm(dim=-1, keepdim=True)\n",
    "    text_embs = text_features.cpu().to(torch.float32).numpy()\n",
    "    return text_embs[0]\n",
    "\n",
    "def generate_image_embeddings(img):\n",
    "    with torch.no_grad():\n",
    "        image_embeddings = model.encode_image(img).float()\n",
    "        image_embeddings /= image_embeddings.norm(dim = -1, keepdim = True)\n",
    "    return image_embeddings.cpu().to(torch.float32).numpy()"
   ]
  },
  {
   "cell_type": "markdown",
   "metadata": {},
   "source": [
    "### Function for creating url and keys dictionary"
   ]
  },
  {
   "cell_type": "code",
   "execution_count": 6,
   "metadata": {},
   "outputs": [],
   "source": [
    "def creating_images_url_dictionary(path = IMAGES_URL_DIRECTORY):\n",
    "# Initialize an empty dictionary\n",
    "    url_key_dict = {}\n",
    "\n",
    "    # List of file paths (adjust the path and extension as needed)\n",
    "    file_paths = glob.glob(f'{path}/*.parquet')\n",
    "    \n",
    "    # print(len(file_paths))\n",
    "    \n",
    "    for file_path in file_paths:\n",
    "        # Read the file into a DataFrame\n",
    "        data = pd.read_parquet(file_path)\n",
    "        \n",
    "        # Ensure the key column is in string format\n",
    "        data['key'] = data['key'].astype(str)\n",
    "        \n",
    "        # Update the dictionary with data from the current file\n",
    "        url_key_dict.update(data.set_index('url')['key'].to_dict())\n",
    "    \n",
    "    return url_key_dict"
   ]
  },
  {
   "cell_type": "markdown",
   "metadata": {},
   "source": [
    "### Function for preparing the meta data of the images to get the keys"
   ]
  },
  {
   "cell_type": "code",
   "execution_count": 7,
   "metadata": {},
   "outputs": [],
   "source": [
    "def preparing_image_meta_data(image_embeddings_meta_data_file= image_embeddings_meta_data_file):\n",
    "    image_embeddings_meta_data = pd.read_parquet(image_embeddings_meta_data_file)\n",
    "    image_embeddings_meta_data['key'] = image_embeddings_meta_data['image_path'].str.extract(r'(\\d{9})')\n",
    "    return image_embeddings_meta_data\n"
   ]
  },
  {
   "cell_type": "markdown",
   "metadata": {},
   "source": [
    "### Functions for getting the index of image and title embeddings"
   ]
  },
  {
   "cell_type": "code",
   "execution_count": 8,
   "metadata": {},
   "outputs": [],
   "source": [
    "def get_index_of_image_embedding(image_embeddings_metadata, image_key):\n",
    "    index_value = image_embeddings_metadata.loc[image_embeddings_metadata['key'] == image_key].index\n",
    "    if not index_value.empty:\n",
    "        return index_value[0]\n",
    "    else:\n",
    "        return False\n",
    "\n",
    "def get_index_of_title_embedding(title_embeddings_metadata, title_key):\n",
    "    index_value = title_embeddings_metadata.loc[title_embeddings_metadata['caption'] == title_key].index\n",
    "    if not index_value.empty:\n",
    "        return index_value[0]\n",
    "    else:\n",
    "        return False"
   ]
  },
  {
   "cell_type": "markdown",
   "metadata": {},
   "source": [
    "### Function for extracting the urls"
   ]
  },
  {
   "cell_type": "code",
   "execution_count": 9,
   "metadata": {},
   "outputs": [],
   "source": [
    "def extract_img_urls(image_array):\n",
    "    urls = []\n",
    "    for item in image_array:\n",
    "        # print(item)\n",
    "        if 'hi_res' in item and item['hi_res']:\n",
    "            urls.append(item['hi_res'])\n",
    "        elif 'large' in item and item['large']:\n",
    "            urls.append(item['large'])\n",
    "        else:\n",
    "            print(f\"Key 'hi_res' and 'large' not found in item: {item}\")\n",
    "        if len(urls) == 3:\n",
    "            return urls\n",
    "    return urls"
   ]
  },
  {
   "cell_type": "markdown",
   "metadata": {},
   "source": [
    "### Functions to get the image and title embeddings"
   ]
  },
  {
   "cell_type": "code",
   "execution_count": 10,
   "metadata": {},
   "outputs": [],
   "source": [
    "def get_image_embedding(all_image_embeddings, index):\n",
    "    if index < 0 or index >=(len(all_image_embeddings)):\n",
    "        print(f'{index} index is not in all the image embeddings!')\n",
    "        return [0]\n",
    "    return all_image_embeddings[index]\n",
    "\n",
    "def get_title_embedding(title_embeddings, index):\n",
    "    return title_embeddings[index]"
   ]
  },
  {
   "cell_type": "markdown",
   "metadata": {},
   "source": [
    "### Loading the Image and Title embeddings"
   ]
  },
  {
   "cell_type": "code",
   "execution_count": 11,
   "metadata": {},
   "outputs": [],
   "source": [
    "all_image_embeddings = np.load(image_embeddings_path)\n",
    "title_embeddings = np.load(title_embeddings_path)"
   ]
  },
  {
   "cell_type": "code",
   "execution_count": 12,
   "metadata": {},
   "outputs": [
    {
     "name": "stdout",
     "output_type": "stream",
     "text": [
      "548083\n"
     ]
    }
   ],
   "source": [
    "print(len(all_image_embeddings))\n",
    "# title_embeddings[5]"
   ]
  },
  {
   "cell_type": "code",
   "execution_count": 13,
   "metadata": {},
   "outputs": [
    {
     "data": {
      "text/plain": [
       "0.998"
      ]
     },
     "execution_count": 13,
     "metadata": {},
     "output_type": "execute_result"
    }
   ],
   "source": [
    "magnitude = np.linalg.norm(all_image_embeddings[53464])\n",
    "magnitude"
   ]
  },
  {
   "cell_type": "markdown",
   "metadata": {},
   "source": [
    "### Loading the Title and Image Meta files"
   ]
  },
  {
   "cell_type": "code",
   "execution_count": 14,
   "metadata": {},
   "outputs": [],
   "source": [
    "title_embeddings_metadata = pd.read_parquet(title_embeddings_meta_data_file)"
   ]
  },
  {
   "cell_type": "code",
   "execution_count": 15,
   "metadata": {},
   "outputs": [
    {
     "name": "stdout",
     "output_type": "stream",
     "text": [
      "                         image_path        key\n",
      "0  image_folder/00000/000000000.jpg  000000000\n",
      "1  image_folder/00000/000000001.jpg  000000001\n",
      "2  image_folder/00000/000000002.jpg  000000002\n",
      "3  image_folder/00000/000000003.jpg  000000003\n",
      "4  image_folder/00000/000000004.jpg  000000004\n",
      "548083\n"
     ]
    }
   ],
   "source": [
    "image_embeddings_metadata = preparing_image_meta_data()\n",
    "print(image_embeddings_metadata.head())\n",
    "print(len(image_embeddings_metadata))"
   ]
  },
  {
   "cell_type": "code",
   "execution_count": 16,
   "metadata": {},
   "outputs": [
    {
     "name": "stdout",
     "output_type": "stream",
     "text": [
      "478384\n"
     ]
    }
   ],
   "source": [
    "images_url_dictionary = creating_images_url_dictionary()\n",
    "print(len(images_url_dictionary))"
   ]
  },
  {
   "cell_type": "code",
   "execution_count": 17,
   "metadata": {},
   "outputs": [
    {
     "data": {
      "text/plain": [
       "[('https://m.media-amazon.com/images/I/517uoA+-gzL._SL1005_.jpg', '000000016'),\n",
       " ('https://m.media-amazon.com/images/I/510BWq7O95L._SL1005_.jpg', '000000015')]"
      ]
     },
     "execution_count": 17,
     "metadata": {},
     "output_type": "execute_result"
    }
   ],
   "source": [
    "n = 2\n",
    "# View the first n items of the dictionary\n",
    "first_n_items = list(images_url_dictionary.items())[:n]\n",
    "first_n_items"
   ]
  },
  {
   "cell_type": "markdown",
   "metadata": {},
   "source": [
    "### Connecting to the Milvus Database"
   ]
  },
  {
   "cell_type": "code",
   "execution_count": 44,
   "metadata": {},
   "outputs": [],
   "source": [
    "if connections.has_connection(\"default\"):\n",
    "    connections.disconnect(\"default\")"
   ]
  },
  {
   "cell_type": "code",
   "execution_count": 18,
   "metadata": {},
   "outputs": [
    {
     "name": "stdout",
     "output_type": "stream",
     "text": [
      "Is Milvus connected: True\n",
      "Collections: []\n"
     ]
    }
   ],
   "source": [
    "host = \"141.195.16.189\"\n",
    "port = 40238 # Mapping for 19530 (default Milvus port)\n",
    "\n",
    "# Connect to Milvus\n",
    "client = connections.connect(\"default\", host=host, port=port)\n",
    "\n",
    "# Check if the connection is established\n",
    "print(\"Is Milvus connected:\", connections.has_connection(\"default\"))\n",
    "\n",
    "# Optional: List collections to confirm the connection\n",
    "from pymilvus import utility\n",
    "print(\"Collections:\", utility.list_collections())"
   ]
  },
  {
   "cell_type": "code",
   "execution_count": 19,
   "metadata": {},
   "outputs": [
    {
     "data": {
      "text/plain": [
       "['default', 'My_Products', 'Products']"
      ]
     },
     "execution_count": 19,
     "metadata": {},
     "output_type": "execute_result"
    }
   ],
   "source": [
    "db.list_database()\n",
    "# db.create_database('Products')"
   ]
  },
  {
   "cell_type": "code",
   "execution_count": 20,
   "metadata": {},
   "outputs": [],
   "source": [
    "# database = db.create_database(\"My_Products\")\n",
    "db.using_database(\"Products\")"
   ]
  },
  {
   "cell_type": "markdown",
   "metadata": {},
   "source": [
    "### Creating Field Schemas for the Collections"
   ]
  },
  {
   "cell_type": "code",
   "execution_count": 21,
   "metadata": {},
   "outputs": [],
   "source": [
    "fields = [\n",
    "    FieldSchema(name=\"product_id\", dtype=DataType.INT64, is_primary=True, auto_id=True),\n",
    "    FieldSchema(name=\"title_vector\", dtype=DataType.FLOAT_VECTOR, dim=512),  \n",
    "    FieldSchema(name=\"title\", dtype=DataType.VARCHAR, max_length = 5000),\n",
    "    FieldSchema(name=\"average_rating\", dtype=DataType.FLOAT),\n",
    "    FieldSchema(name=\"features\", dtype=DataType.ARRAY, max_capacity = 1000, element_type = DataType.VARCHAR, max_length = 10000),\n",
    "    FieldSchema(name=\"description\", dtype=DataType.ARRAY, max_capacity = 500, element_type = DataType.VARCHAR, max_length = 50000),\n",
    "    FieldSchema(name=\"categories\", dtype=DataType.ARRAY, max_capacity = 500, element_type = DataType.VARCHAR, max_length = 500),\n",
    "    FieldSchema(name=\"price\", dtype=DataType.FLOAT),\n",
    "    FieldSchema(name=\"store\", dtype=DataType.VARCHAR, max_length = 500),\n",
    "    FieldSchema(name=\"main_category\", dtype=DataType.VARCHAR, max_length = 500)\n",
    "]\n",
    "\n",
    "fields_images = [\n",
    "    FieldSchema(name=\"image_id\", dtype=DataType.INT64, is_primary=True, auto_id=True),\n",
    "    FieldSchema(name=\"p_id\", dtype=DataType.INT64),  # Foreign key to Products\n",
    "    FieldSchema(name=\"image_vector\", dtype=DataType.FLOAT_VECTOR, dim=512),\n",
    "    FieldSchema(name=\"image_url\", dtype=DataType.VARCHAR, max_length=10000)\n",
    "]"
   ]
  },
  {
   "cell_type": "markdown",
   "metadata": {},
   "source": [
    "### Creating the collections"
   ]
  },
  {
   "cell_type": "code",
   "execution_count": 22,
   "metadata": {},
   "outputs": [],
   "source": [
    "product_schema = CollectionSchema(fields, description=\"Products collection\")\n",
    "products_collection = Collection(name = 'products', schema=product_schema)"
   ]
  },
  {
   "cell_type": "code",
   "execution_count": 23,
   "metadata": {},
   "outputs": [],
   "source": [
    "image_schema = CollectionSchema(fields_images, description='Images Collection')\n",
    "images_collection = Collection(name = 'images', schema = image_schema)"
   ]
  },
  {
   "cell_type": "code",
   "execution_count": 24,
   "metadata": {},
   "outputs": [
    {
     "name": "stdout",
     "output_type": "stream",
     "text": [
      "['products', 'images']\n"
     ]
    }
   ],
   "source": [
    "collections = utility.list_collections()\n",
    "print(collections)"
   ]
  },
  {
   "cell_type": "markdown",
   "metadata": {},
   "source": [
    "### Creating the Indices for the collections and loading them"
   ]
  },
  {
   "cell_type": "code",
   "execution_count": 25,
   "metadata": {},
   "outputs": [],
   "source": [
    "index_params = {\n",
    "    \"metric_type\": \"COSINE\",\n",
    "    \"index_type\": \"IVF_FLAT\",\n",
    "    \"params\": {\"nlist\": 256}\n",
    "}\n",
    "\n",
    "products_collection.create_index(field_name=\"title_vector\", index_params = index_params)\n",
    "products_collection.load()\n",
    "# products_collection.release()\n",
    "# products_collection.drop_index()\n",
    "\n",
    "images_collection.create_index(field_name=\"image_vector\", index_params = index_params)\n",
    "images_collection.load()\n",
    "# images_collection.release()\n",
    "# images_collection.drop_index()"
   ]
  },
  {
   "cell_type": "code",
   "execution_count": 26,
   "metadata": {},
   "outputs": [
    {
     "name": "stdout",
     "output_type": "stream",
     "text": [
      "Number of items in collection '<Collection>:\n",
      "-------------\n",
      "<name>: products\n",
      "<description>: Products collection\n",
      "<schema>: {'auto_id': True, 'description': 'Products collection', 'fields': [{'name': 'product_id', 'description': '', 'type': <DataType.INT64: 5>, 'is_primary': True, 'auto_id': True}, {'name': 'title_vector', 'description': '', 'type': <DataType.FLOAT_VECTOR: 101>, 'params': {'dim': 512}}, {'name': 'title', 'description': '', 'type': <DataType.VARCHAR: 21>, 'params': {'max_length': 5000}}, {'name': 'average_rating', 'description': '', 'type': <DataType.FLOAT: 10>}, {'name': 'features', 'description': '', 'type': <DataType.ARRAY: 22>, 'params': {'max_length': 10000, 'max_capacity': 1000}, 'element_type': <DataType.VARCHAR: 21>}, {'name': 'description', 'description': '', 'type': <DataType.ARRAY: 22>, 'params': {'max_length': 50000, 'max_capacity': 500}, 'element_type': <DataType.VARCHAR: 21>}, {'name': 'categories', 'description': '', 'type': <DataType.ARRAY: 22>, 'params': {'max_length': 500, 'max_capacity': 500}, 'element_type': <DataType.VARCHAR: 21>}, {'name': 'price', 'description': '', 'type': <DataType.FLOAT: 10>}, {'name': 'store', 'description': '', 'type': <DataType.VARCHAR: 21>, 'params': {'max_length': 500}}, {'name': 'main_category', 'description': '', 'type': <DataType.VARCHAR: 21>, 'params': {'max_length': 500}}], 'enable_dynamic_field': False}\n",
      "': 18100\n"
     ]
    }
   ],
   "source": [
    "# Replace 'your_collection_name' with the name of your collection\n",
    "\n",
    "# Get the number of entities\n",
    "num_entities = products_collection.num_entities\n",
    "print(f\"Number of items in collection '{products_collection}': {num_entities}\")"
   ]
  },
  {
   "cell_type": "markdown",
   "metadata": {},
   "source": [
    "## Functions for pre-processing the products and storing them in the Milvus Database in Batches"
   ]
  },
  {
   "cell_type": "code",
   "execution_count": 42,
   "metadata": {},
   "outputs": [],
   "source": [
    "def clean_text(text):\n",
    "    if not text:\n",
    "        return \"\"\n",
    "    \n",
    "    # Remove non-UTF-8 characters\n",
    "    return ''.join([c for c in text if ord(c) < 128])\n",
    "\n",
    "def insert_product_batch(products):\n",
    "    if products:\n",
    "        products_collection.insert(products)\n",
    "        products_collection.flush()\n",
    "\n",
    "def insert_image_batch(images):\n",
    "    if images:\n",
    "        images_collection.insert(images)\n",
    "        images_collection.flush()\n",
    "\n",
    "def process_line(line, title_embeddings_metadata, title_embeddings, image_embeddings_metadata, all_image_embeddings, images_url_dictionary):\n",
    "    data = json.loads(line.strip())\n",
    "    if '\"' in data['title']:\n",
    "        return None, None\n",
    "\n",
    "    # title = data['title']\n",
    "    title = clean_text(data['title'])\n",
    "    title_index = get_index_of_title_embedding(title_embeddings_metadata, title)\n",
    "    if not title_index:\n",
    "        return None, None\n",
    "    title_embedding = get_title_embedding(title_embeddings, title_index)\n",
    "    \n",
    "    # Extract product information\n",
    "    average_rating = data['average_rating']\n",
    "    features = data['features']\n",
    "    description = data['description']\n",
    "    categories = data['categories']\n",
    "    price = data['price']\n",
    "    main_category = data['main_category']\n",
    "    store = data['store']\n",
    "    if not price:\n",
    "        price = 0.0\n",
    "    if not store:\n",
    "        store = ''\n",
    "    if not main_category:\n",
    "        main_category = ''\n",
    "    if not average_rating:\n",
    "        average_rating = 0.0\n",
    "\n",
    "    # Prepare product data\n",
    "    product_data = {\n",
    "        'title_vector': title_embedding.tolist(),\n",
    "        'title': title,\n",
    "        'average_rating': average_rating,\n",
    "        'features': features,\n",
    "        'description': description,\n",
    "        'categories': categories,\n",
    "        'price': price,\n",
    "        'store': store,\n",
    "        'main_category': main_category,\n",
    "    }\n",
    "\n",
    "    # Extract and process image URLs\n",
    "    image_urls = extract_img_urls(data['images'])\n",
    "    current_image_embeddings = []\n",
    "    for url in image_urls:\n",
    "        if url in images_url_dictionary and images_url_dictionary[url]:\n",
    "            image_key = images_url_dictionary[url]\n",
    "        else:\n",
    "            continue\n",
    "\n",
    "        image_index = get_index_of_image_embedding(image_embeddings_metadata, image_key)\n",
    "        if not image_index:\n",
    "            print('no image index')\n",
    "            continue\n",
    "        \n",
    "        image_embedding = get_image_embedding(all_image_embeddings, image_index)\n",
    "        if len(image_embedding) > 1 :\n",
    "            current_image_embeddings.append((image_embedding, url))\n",
    "\n",
    "    return product_data, current_image_embeddings\n",
    "\n",
    "def create_and_store_data(data_path, title_embeddings_metadata, title_embeddings, image_embeddings_metadata, all_image_embeddings, images_url_dictionary):\n",
    "    product_batch = []\n",
    "    image_batch = []\n",
    "    i = 0\n",
    "    with open(data_path) as file:\n",
    "        for line in (file):\n",
    "            i += 1\n",
    "            if i < 8000:\n",
    "                continue\n",
    "\n",
    "            product_data, current_image_embeddings = process_line(line, title_embeddings_metadata, title_embeddings, image_embeddings_metadata, all_image_embeddings, images_url_dictionary)\n",
    "            if product_data and current_image_embeddings:\n",
    "                product_batch.append((product_data, current_image_embeddings))\n",
    "                if len(product_batch) >= 100:\n",
    "                    # Insert products\n",
    "                    products_data = [pd for pd, _ in product_batch]\n",
    "                    insert_product_batch(products_data)\n",
    "\n",
    "                    # Retrieve product IDs for inserted products\n",
    "                    titles = [pd['title'] for pd, _ in product_batch]\n",
    "                    product_ids = products_collection.query(expr=f'title in {titles}', output_fields=[\"title\", \"product_id\"])\n",
    "\n",
    "                    title_to_id = {p['title']: p['product_id'] for p in product_ids}\n",
    "\n",
    "                    # Prepare image data\n",
    "                    for pd, image_ki_embeddings in product_batch:\n",
    "                        product_id = title_to_id.get(pd['title'])\n",
    "                        for image_embedding, image_url in image_ki_embeddings:\n",
    "                            image_data = {\n",
    "                                'p_id': product_id,\n",
    "                                'image_vector': image_embedding.tolist(),\n",
    "                                'image_url': image_url,\n",
    "                            }\n",
    "                            image_batch.append(image_data)\n",
    "\n",
    "                    if image_batch:\n",
    "                        insert_image_batch(image_batch)\n",
    "\n",
    "                    # Clear batches\n",
    "                    product_batch = []\n",
    "                    image_batch = []\n",
    "\n",
    "    # Insert any remaining data\n",
    "    if product_batch:\n",
    "        products_data = [pd for pd, _ in product_batch]\n",
    "        insert_product_batch(products_data)\n",
    "        \n",
    "        titles = [pd['title'] for pd, _ in product_batch]\n",
    "        product_ids = products_collection.query(expr=f'title in {titles}', output_fields=[\"title\", \"product_id\"])\n",
    "        \n",
    "        title_to_id = {p['title']: p['product_id'] for p in product_ids}\n",
    "        \n",
    "        for pd, image_ki_embeddings in product_batch:\n",
    "            product_id = title_to_id.get(pd['title'])\n",
    "            for image_embedding, image_url in image_ki_embeddings:\n",
    "                image_data = {\n",
    "                    'p_id': product_id,\n",
    "                    'image_vector': image_embedding.tolist(),\n",
    "                    'image_url': image_url,\n",
    "                }\n",
    "                image_batch.append(image_data)\n",
    "        \n",
    "        if image_batch:\n",
    "            insert_image_batch(image_batch)"
   ]
  },
  {
   "cell_type": "code",
   "execution_count": 43,
   "metadata": {},
   "outputs": [
    {
     "name": "stdout",
     "output_type": "stream",
     "text": [
      "no image index\n",
      "no image index\n",
      "no image index\n",
      "no image index\n",
      "no image index\n",
      "no image index\n",
      "no image index\n",
      "no image index\n",
      "no image index\n",
      "no image index\n",
      "no image index\n",
      "no image index\n",
      "no image index\n",
      "no image index\n",
      "no image index\n",
      "no image index\n",
      "no image index\n",
      "no image index\n",
      "no image index\n",
      "no image index\n",
      "no image index\n",
      "no image index\n",
      "no image index\n",
      "no image index\n",
      "no image index\n",
      "no image index\n",
      "no image index\n",
      "no image index\n",
      "no image index\n",
      "no image index\n",
      "no image index\n",
      "no image index\n",
      "no image index\n",
      "no image index\n",
      "no image index\n",
      "no image index\n",
      "no image index\n",
      "no image index\n",
      "no image index\n",
      "no image index\n",
      "no image index\n",
      "no image index\n",
      "no image index\n",
      "no image index\n",
      "no image index\n",
      "no image index\n",
      "no image index\n",
      "no image index\n",
      "no image index\n",
      "no image index\n",
      "no image index\n",
      "no image index\n",
      "no image index\n",
      "no image index\n",
      "no image index\n",
      "no image index\n",
      "no image index\n",
      "no image index\n",
      "no image index\n",
      "no image index\n",
      "no image index\n",
      "no image index\n",
      "no image index\n",
      "no image index\n",
      "no image index\n",
      "no image index\n",
      "no image index\n",
      "no image index\n",
      "no image index\n",
      "no image index\n",
      "no image index\n",
      "no image index\n",
      "no image index\n",
      "no image index\n",
      "no image index\n",
      "no image index\n",
      "no image index\n",
      "no image index\n",
      "no image index\n",
      "no image index\n",
      "no image index\n",
      "no image index\n",
      "no image index\n",
      "no image index\n",
      "no image index\n",
      "no image index\n",
      "no image index\n",
      "no image index\n",
      "no image index\n",
      "no image index\n",
      "no image index\n",
      "no image index\n",
      "no image index\n",
      "no image index\n",
      "no image index\n",
      "no image index\n",
      "no image index\n",
      "no image index\n",
      "no image index\n",
      "no image index\n",
      "no image index\n",
      "no image index\n",
      "no image index\n",
      "no image index\n",
      "no image index\n",
      "no image index\n",
      "no image index\n",
      "no image index\n",
      "no image index\n",
      "no image index\n",
      "no image index\n",
      "no image index\n",
      "no image index\n",
      "no image index\n",
      "no image index\n",
      "no image index\n",
      "no image index\n",
      "no image index\n",
      "no image index\n",
      "no image index\n",
      "no image index\n",
      "no image index\n",
      "no image index\n",
      "no image index\n",
      "no image index\n"
     ]
    },
    {
     "ename": "KeyboardInterrupt",
     "evalue": "",
     "output_type": "error",
     "traceback": [
      "\u001b[1;31m---------------------------------------------------------------------------\u001b[0m",
      "\u001b[1;31mKeyboardInterrupt\u001b[0m                         Traceback (most recent call last)",
      "Cell \u001b[1;32mIn[43], line 2\u001b[0m\n\u001b[0;32m      1\u001b[0m \u001b[38;5;66;03m# Run the data creation and storage process\u001b[39;00m\n\u001b[1;32m----> 2\u001b[0m \u001b[43mcreate_and_store_data\u001b[49m\u001b[43m(\u001b[49m\u001b[43mdata_path\u001b[49m\u001b[43m,\u001b[49m\u001b[43m \u001b[49m\u001b[43mtitle_embeddings_metadata\u001b[49m\u001b[43m,\u001b[49m\u001b[43m \u001b[49m\u001b[43mtitle_embeddings\u001b[49m\u001b[43m,\u001b[49m\u001b[43m \u001b[49m\u001b[43mimage_embeddings_metadata\u001b[49m\u001b[43m,\u001b[49m\u001b[43m \u001b[49m\u001b[43mall_image_embeddings\u001b[49m\u001b[43m,\u001b[49m\u001b[43m \u001b[49m\u001b[43mimages_url_dictionary\u001b[49m\u001b[43m)\u001b[49m\n",
      "Cell \u001b[1;32mIn[42], line 96\u001b[0m, in \u001b[0;36mcreate_and_store_data\u001b[1;34m(data_path, title_embeddings_metadata, title_embeddings, image_embeddings_metadata, all_image_embeddings, images_url_dictionary)\u001b[0m\n\u001b[0;32m     93\u001b[0m \u001b[38;5;28;01mif\u001b[39;00m \u001b[38;5;28mlen\u001b[39m(product_batch) \u001b[38;5;241m>\u001b[39m\u001b[38;5;241m=\u001b[39m \u001b[38;5;241m100\u001b[39m:\n\u001b[0;32m     94\u001b[0m     \u001b[38;5;66;03m# Insert products\u001b[39;00m\n\u001b[0;32m     95\u001b[0m     products_data \u001b[38;5;241m=\u001b[39m [pd \u001b[38;5;28;01mfor\u001b[39;00m pd, _ \u001b[38;5;129;01min\u001b[39;00m product_batch]\n\u001b[1;32m---> 96\u001b[0m     \u001b[43minsert_product_batch\u001b[49m\u001b[43m(\u001b[49m\u001b[43mproducts_data\u001b[49m\u001b[43m)\u001b[49m\n\u001b[0;32m     98\u001b[0m     \u001b[38;5;66;03m# Retrieve product IDs for inserted products\u001b[39;00m\n\u001b[0;32m     99\u001b[0m     titles \u001b[38;5;241m=\u001b[39m [pd[\u001b[38;5;124m'\u001b[39m\u001b[38;5;124mtitle\u001b[39m\u001b[38;5;124m'\u001b[39m] \u001b[38;5;28;01mfor\u001b[39;00m pd, _ \u001b[38;5;129;01min\u001b[39;00m product_batch]\n",
      "Cell \u001b[1;32mIn[42], line 11\u001b[0m, in \u001b[0;36minsert_product_batch\u001b[1;34m(products)\u001b[0m\n\u001b[0;32m      9\u001b[0m \u001b[38;5;28;01mif\u001b[39;00m products:\n\u001b[0;32m     10\u001b[0m     products_collection\u001b[38;5;241m.\u001b[39minsert(products)\n\u001b[1;32m---> 11\u001b[0m     \u001b[43mproducts_collection\u001b[49m\u001b[38;5;241;43m.\u001b[39;49m\u001b[43mflush\u001b[49m\u001b[43m(\u001b[49m\u001b[43m)\u001b[49m\n",
      "File \u001b[1;32m~\\AppData\\Roaming\\Python\\Python311\\site-packages\\pymilvus\\orm\\collection.py:319\u001b[0m, in \u001b[0;36mCollection.flush\u001b[1;34m(self, timeout, **kwargs)\u001b[0m\n\u001b[0;32m    297\u001b[0m \u001b[38;5;250m\u001b[39m\u001b[38;5;124;03m\"\"\"Seal all segments in the collection. Inserts after flushing will be written into\u001b[39;00m\n\u001b[0;32m    298\u001b[0m \u001b[38;5;124;03m    new segments. Only sealed segments can be indexed.\u001b[39;00m\n\u001b[0;32m    299\u001b[0m \n\u001b[1;32m   (...)\u001b[0m\n\u001b[0;32m    316\u001b[0m \u001b[38;5;124;03m    2\u001b[39;00m\n\u001b[0;32m    317\u001b[0m \u001b[38;5;124;03m\"\"\"\u001b[39;00m\n\u001b[0;32m    318\u001b[0m conn \u001b[38;5;241m=\u001b[39m \u001b[38;5;28mself\u001b[39m\u001b[38;5;241m.\u001b[39m_get_connection()\n\u001b[1;32m--> 319\u001b[0m \u001b[43mconn\u001b[49m\u001b[38;5;241;43m.\u001b[39;49m\u001b[43mflush\u001b[49m\u001b[43m(\u001b[49m\u001b[43m[\u001b[49m\u001b[38;5;28;43mself\u001b[39;49m\u001b[38;5;241;43m.\u001b[39;49m\u001b[43mname\u001b[49m\u001b[43m]\u001b[49m\u001b[43m,\u001b[49m\u001b[43m \u001b[49m\u001b[43mtimeout\u001b[49m\u001b[38;5;241;43m=\u001b[39;49m\u001b[43mtimeout\u001b[49m\u001b[43m,\u001b[49m\u001b[43m \u001b[49m\u001b[38;5;241;43m*\u001b[39;49m\u001b[38;5;241;43m*\u001b[39;49m\u001b[43mkwargs\u001b[49m\u001b[43m)\u001b[49m\n",
      "File \u001b[1;32m~\\AppData\\Roaming\\Python\\Python311\\site-packages\\pymilvus\\decorators.py:143\u001b[0m, in \u001b[0;36merror_handler.<locals>.wrapper.<locals>.handler\u001b[1;34m(*args, **kwargs)\u001b[0m\n\u001b[0;32m    141\u001b[0m \u001b[38;5;28;01mtry\u001b[39;00m:\n\u001b[0;32m    142\u001b[0m     record_dict[\u001b[38;5;124m\"\u001b[39m\u001b[38;5;124mRPC start\u001b[39m\u001b[38;5;124m\"\u001b[39m] \u001b[38;5;241m=\u001b[39m \u001b[38;5;28mstr\u001b[39m(datetime\u001b[38;5;241m.\u001b[39mdatetime\u001b[38;5;241m.\u001b[39mnow())\n\u001b[1;32m--> 143\u001b[0m     \u001b[38;5;28;01mreturn\u001b[39;00m \u001b[43mfunc\u001b[49m\u001b[43m(\u001b[49m\u001b[38;5;241;43m*\u001b[39;49m\u001b[43margs\u001b[49m\u001b[43m,\u001b[49m\u001b[43m \u001b[49m\u001b[38;5;241;43m*\u001b[39;49m\u001b[38;5;241;43m*\u001b[39;49m\u001b[43mkwargs\u001b[49m\u001b[43m)\u001b[49m\n\u001b[0;32m    144\u001b[0m \u001b[38;5;28;01mexcept\u001b[39;00m MilvusException \u001b[38;5;28;01mas\u001b[39;00m e:\n\u001b[0;32m    145\u001b[0m     record_dict[\u001b[38;5;124m\"\u001b[39m\u001b[38;5;124mRPC error\u001b[39m\u001b[38;5;124m\"\u001b[39m] \u001b[38;5;241m=\u001b[39m \u001b[38;5;28mstr\u001b[39m(datetime\u001b[38;5;241m.\u001b[39mdatetime\u001b[38;5;241m.\u001b[39mnow())\n",
      "File \u001b[1;32m~\\AppData\\Roaming\\Python\\Python311\\site-packages\\pymilvus\\decorators.py:182\u001b[0m, in \u001b[0;36mtracing_request.<locals>.wrapper.<locals>.handler\u001b[1;34m(self, *args, **kwargs)\u001b[0m\n\u001b[0;32m    180\u001b[0m \u001b[38;5;28;01mif\u001b[39;00m req_id:\n\u001b[0;32m    181\u001b[0m     \u001b[38;5;28mself\u001b[39m\u001b[38;5;241m.\u001b[39mset_onetime_request_id(req_id)\n\u001b[1;32m--> 182\u001b[0m \u001b[38;5;28;01mreturn\u001b[39;00m \u001b[43mfunc\u001b[49m\u001b[43m(\u001b[49m\u001b[38;5;28;43mself\u001b[39;49m\u001b[43m,\u001b[49m\u001b[43m \u001b[49m\u001b[38;5;241;43m*\u001b[39;49m\u001b[43margs\u001b[49m\u001b[43m,\u001b[49m\u001b[43m \u001b[49m\u001b[38;5;241;43m*\u001b[39;49m\u001b[38;5;241;43m*\u001b[39;49m\u001b[43mkwargs\u001b[49m\u001b[43m)\u001b[49m\n",
      "File \u001b[1;32m~\\AppData\\Roaming\\Python\\Python311\\site-packages\\pymilvus\\decorators.py:87\u001b[0m, in \u001b[0;36mretry_on_rpc_failure.<locals>.wrapper.<locals>.handler\u001b[1;34m(*args, **kwargs)\u001b[0m\n\u001b[0;32m     85\u001b[0m \u001b[38;5;28;01mwhile\u001b[39;00m \u001b[38;5;28;01mTrue\u001b[39;00m:\n\u001b[0;32m     86\u001b[0m     \u001b[38;5;28;01mtry\u001b[39;00m:\n\u001b[1;32m---> 87\u001b[0m         \u001b[38;5;28;01mreturn\u001b[39;00m \u001b[43mfunc\u001b[49m\u001b[43m(\u001b[49m\u001b[38;5;241;43m*\u001b[39;49m\u001b[43margs\u001b[49m\u001b[43m,\u001b[49m\u001b[43m \u001b[49m\u001b[38;5;241;43m*\u001b[39;49m\u001b[38;5;241;43m*\u001b[39;49m\u001b[43mkwargs\u001b[49m\u001b[43m)\u001b[49m\n\u001b[0;32m     88\u001b[0m     \u001b[38;5;28;01mexcept\u001b[39;00m grpc\u001b[38;5;241m.\u001b[39mRpcError \u001b[38;5;28;01mas\u001b[39;00m e:\n\u001b[0;32m     89\u001b[0m         \u001b[38;5;66;03m# Do not retry on these codes\u001b[39;00m\n\u001b[0;32m     90\u001b[0m         \u001b[38;5;28;01mif\u001b[39;00m e\u001b[38;5;241m.\u001b[39mcode() \u001b[38;5;129;01min\u001b[39;00m IGNORE_RETRY_CODES:\n",
      "File \u001b[1;32m~\\AppData\\Roaming\\Python\\Python311\\site-packages\\pymilvus\\client\\grpc_handler.py:1418\u001b[0m, in \u001b[0;36mGrpcHandler.flush\u001b[1;34m(self, collection_names, timeout, **kwargs)\u001b[0m\n\u001b[0;32m   1416\u001b[0m request \u001b[38;5;241m=\u001b[39m Prepare\u001b[38;5;241m.\u001b[39mflush_param(collection_names)\n\u001b[0;32m   1417\u001b[0m future \u001b[38;5;241m=\u001b[39m \u001b[38;5;28mself\u001b[39m\u001b[38;5;241m.\u001b[39m_stub\u001b[38;5;241m.\u001b[39mFlush\u001b[38;5;241m.\u001b[39mfuture(request, timeout\u001b[38;5;241m=\u001b[39mtimeout)\n\u001b[1;32m-> 1418\u001b[0m response \u001b[38;5;241m=\u001b[39m \u001b[43mfuture\u001b[49m\u001b[38;5;241;43m.\u001b[39;49m\u001b[43mresult\u001b[49m\u001b[43m(\u001b[49m\u001b[43m)\u001b[49m\n\u001b[0;32m   1419\u001b[0m check_status(response\u001b[38;5;241m.\u001b[39mstatus)\n\u001b[0;32m   1421\u001b[0m \u001b[38;5;28;01mdef\u001b[39;00m \u001b[38;5;21m_check\u001b[39m():\n",
      "File \u001b[1;32m~\\AppData\\Roaming\\Python\\Python311\\site-packages\\grpc\\_channel.py:872\u001b[0m, in \u001b[0;36m_MultiThreadedRendezvous.result\u001b[1;34m(self, timeout)\u001b[0m\n\u001b[0;32m    867\u001b[0m \u001b[38;5;250m\u001b[39m\u001b[38;5;124;03m\"\"\"Returns the result of the computation or raises its exception.\u001b[39;00m\n\u001b[0;32m    868\u001b[0m \n\u001b[0;32m    869\u001b[0m \u001b[38;5;124;03mSee grpc.Future.result for the full API contract.\u001b[39;00m\n\u001b[0;32m    870\u001b[0m \u001b[38;5;124;03m\"\"\"\u001b[39;00m\n\u001b[0;32m    871\u001b[0m \u001b[38;5;28;01mwith\u001b[39;00m \u001b[38;5;28mself\u001b[39m\u001b[38;5;241m.\u001b[39m_state\u001b[38;5;241m.\u001b[39mcondition:\n\u001b[1;32m--> 872\u001b[0m     timed_out \u001b[38;5;241m=\u001b[39m \u001b[43m_common\u001b[49m\u001b[38;5;241;43m.\u001b[39;49m\u001b[43mwait\u001b[49m\u001b[43m(\u001b[49m\n\u001b[0;32m    873\u001b[0m \u001b[43m        \u001b[49m\u001b[38;5;28;43mself\u001b[39;49m\u001b[38;5;241;43m.\u001b[39;49m\u001b[43m_state\u001b[49m\u001b[38;5;241;43m.\u001b[39;49m\u001b[43mcondition\u001b[49m\u001b[38;5;241;43m.\u001b[39;49m\u001b[43mwait\u001b[49m\u001b[43m,\u001b[49m\u001b[43m \u001b[49m\u001b[38;5;28;43mself\u001b[39;49m\u001b[38;5;241;43m.\u001b[39;49m\u001b[43m_is_complete\u001b[49m\u001b[43m,\u001b[49m\u001b[43m \u001b[49m\u001b[43mtimeout\u001b[49m\u001b[38;5;241;43m=\u001b[39;49m\u001b[43mtimeout\u001b[49m\n\u001b[0;32m    874\u001b[0m \u001b[43m    \u001b[49m\u001b[43m)\u001b[49m\n\u001b[0;32m    875\u001b[0m     \u001b[38;5;28;01mif\u001b[39;00m timed_out:\n\u001b[0;32m    876\u001b[0m         \u001b[38;5;28;01mraise\u001b[39;00m grpc\u001b[38;5;241m.\u001b[39mFutureTimeoutError()\n",
      "File \u001b[1;32m~\\AppData\\Roaming\\Python\\Python311\\site-packages\\grpc\\_common.py:156\u001b[0m, in \u001b[0;36mwait\u001b[1;34m(wait_fn, wait_complete_fn, timeout, spin_cb)\u001b[0m\n\u001b[0;32m    154\u001b[0m \u001b[38;5;28;01mif\u001b[39;00m timeout \u001b[38;5;129;01mis\u001b[39;00m \u001b[38;5;28;01mNone\u001b[39;00m:\n\u001b[0;32m    155\u001b[0m     \u001b[38;5;28;01mwhile\u001b[39;00m \u001b[38;5;129;01mnot\u001b[39;00m wait_complete_fn():\n\u001b[1;32m--> 156\u001b[0m         \u001b[43m_wait_once\u001b[49m\u001b[43m(\u001b[49m\u001b[43mwait_fn\u001b[49m\u001b[43m,\u001b[49m\u001b[43m \u001b[49m\u001b[43mMAXIMUM_WAIT_TIMEOUT\u001b[49m\u001b[43m,\u001b[49m\u001b[43m \u001b[49m\u001b[43mspin_cb\u001b[49m\u001b[43m)\u001b[49m\n\u001b[0;32m    157\u001b[0m \u001b[38;5;28;01melse\u001b[39;00m:\n\u001b[0;32m    158\u001b[0m     end \u001b[38;5;241m=\u001b[39m time\u001b[38;5;241m.\u001b[39mtime() \u001b[38;5;241m+\u001b[39m timeout\n",
      "File \u001b[1;32m~\\AppData\\Roaming\\Python\\Python311\\site-packages\\grpc\\_common.py:116\u001b[0m, in \u001b[0;36m_wait_once\u001b[1;34m(wait_fn, timeout, spin_cb)\u001b[0m\n\u001b[0;32m    111\u001b[0m \u001b[38;5;28;01mdef\u001b[39;00m \u001b[38;5;21m_wait_once\u001b[39m(\n\u001b[0;32m    112\u001b[0m     wait_fn: Callable[\u001b[38;5;241m.\u001b[39m\u001b[38;5;241m.\u001b[39m\u001b[38;5;241m.\u001b[39m, \u001b[38;5;28mbool\u001b[39m],\n\u001b[0;32m    113\u001b[0m     timeout: \u001b[38;5;28mfloat\u001b[39m,\n\u001b[0;32m    114\u001b[0m     spin_cb: Optional[Callable[[], \u001b[38;5;28;01mNone\u001b[39;00m]],\n\u001b[0;32m    115\u001b[0m ):\n\u001b[1;32m--> 116\u001b[0m     \u001b[43mwait_fn\u001b[49m\u001b[43m(\u001b[49m\u001b[43mtimeout\u001b[49m\u001b[38;5;241;43m=\u001b[39;49m\u001b[43mtimeout\u001b[49m\u001b[43m)\u001b[49m\n\u001b[0;32m    117\u001b[0m     \u001b[38;5;28;01mif\u001b[39;00m spin_cb \u001b[38;5;129;01mis\u001b[39;00m \u001b[38;5;129;01mnot\u001b[39;00m \u001b[38;5;28;01mNone\u001b[39;00m:\n\u001b[0;32m    118\u001b[0m         spin_cb()\n",
      "File \u001b[1;32mc:\\Program Files\\Python311\\Lib\\threading.py:324\u001b[0m, in \u001b[0;36mCondition.wait\u001b[1;34m(self, timeout)\u001b[0m\n\u001b[0;32m    322\u001b[0m \u001b[38;5;28;01melse\u001b[39;00m:\n\u001b[0;32m    323\u001b[0m     \u001b[38;5;28;01mif\u001b[39;00m timeout \u001b[38;5;241m>\u001b[39m \u001b[38;5;241m0\u001b[39m:\n\u001b[1;32m--> 324\u001b[0m         gotit \u001b[38;5;241m=\u001b[39m \u001b[43mwaiter\u001b[49m\u001b[38;5;241;43m.\u001b[39;49m\u001b[43macquire\u001b[49m\u001b[43m(\u001b[49m\u001b[38;5;28;43;01mTrue\u001b[39;49;00m\u001b[43m,\u001b[49m\u001b[43m \u001b[49m\u001b[43mtimeout\u001b[49m\u001b[43m)\u001b[49m\n\u001b[0;32m    325\u001b[0m     \u001b[38;5;28;01melse\u001b[39;00m:\n\u001b[0;32m    326\u001b[0m         gotit \u001b[38;5;241m=\u001b[39m waiter\u001b[38;5;241m.\u001b[39macquire(\u001b[38;5;28;01mFalse\u001b[39;00m)\n",
      "\u001b[1;31mKeyboardInterrupt\u001b[0m: "
     ]
    }
   ],
   "source": [
    "# Run the data creation and storage process\n",
    "create_and_store_data(data_path, title_embeddings_metadata, title_embeddings, image_embeddings_metadata, all_image_embeddings, images_url_dictionary)"
   ]
  },
  {
   "cell_type": "markdown",
   "metadata": {},
   "source": [
    "### Sample search Query"
   ]
  },
  {
   "cell_type": "code",
   "execution_count": 33,
   "metadata": {},
   "outputs": [
    {
     "ename": "IndexError",
     "evalue": "list index out of range",
     "output_type": "error",
     "traceback": [
      "\u001b[1;31m---------------------------------------------------------------------------\u001b[0m",
      "\u001b[1;31mIndexError\u001b[0m                                Traceback (most recent call last)",
      "Cell \u001b[1;32mIn[33], line 3\u001b[0m\n\u001b[0;32m      1\u001b[0m title \u001b[38;5;241m=\u001b[39m \u001b[38;5;124m\"\u001b[39m\u001b[38;5;124mAuric Blends Stella Blue\u001b[39m\u001b[38;5;124m\"\u001b[39m\n\u001b[0;32m      2\u001b[0m product_ids \u001b[38;5;241m=\u001b[39m products_collection\u001b[38;5;241m.\u001b[39mquery(expr\u001b[38;5;241m=\u001b[39m\u001b[38;5;124mf\u001b[39m\u001b[38;5;124m'\u001b[39m\u001b[38;5;124mtitle == \u001b[39m\u001b[38;5;124m\"\u001b[39m\u001b[38;5;132;01m{\u001b[39;00mtitle\u001b[38;5;132;01m}\u001b[39;00m\u001b[38;5;124m\"\u001b[39m\u001b[38;5;124m'\u001b[39m, output_fields\u001b[38;5;241m=\u001b[39m[\u001b[38;5;124m\"\u001b[39m\u001b[38;5;124mtitle\u001b[39m\u001b[38;5;124m\"\u001b[39m, \u001b[38;5;124m'\u001b[39m\u001b[38;5;124mfeatures\u001b[39m\u001b[38;5;124m'\u001b[39m, \u001b[38;5;124m'\u001b[39m\u001b[38;5;124mprice\u001b[39m\u001b[38;5;124m'\u001b[39m, \u001b[38;5;124m'\u001b[39m\u001b[38;5;124mproduct_id\u001b[39m\u001b[38;5;124m'\u001b[39m, \u001b[38;5;124m'\u001b[39m\u001b[38;5;124mtitle_vector\u001b[39m\u001b[38;5;124m'\u001b[39m])\n\u001b[1;32m----> 3\u001b[0m title_v_embedding \u001b[38;5;241m=\u001b[39m \u001b[43mproduct_ids\u001b[49m\u001b[43m[\u001b[49m\u001b[38;5;241;43m0\u001b[39;49m\u001b[43m]\u001b[49m[\u001b[38;5;124m\"\u001b[39m\u001b[38;5;124mtitle_vector\u001b[39m\u001b[38;5;124m\"\u001b[39m]\n\u001b[0;32m      4\u001b[0m \u001b[38;5;66;03m# title_v_embedding = np.float16(title_v_embedding)\u001b[39;00m\n\u001b[0;32m      5\u001b[0m title_v_embedding\n",
      "\u001b[1;31mIndexError\u001b[0m: list index out of range"
     ]
    }
   ],
   "source": [
    "title = \"Auric Blends Stella Blue\"\n",
    "product_ids = products_collection.query(expr=f'title == \"{title}\"', output_fields=[\"title\", 'features', 'price', 'product_id', 'title_vector'])\n",
    "title_v_embedding = product_ids[0][\"title_vector\"]\n",
    "# title_v_embedding = np.float16(title_v_embedding)\n",
    "title_v_embedding"
   ]
  },
  {
   "cell_type": "markdown",
   "metadata": {},
   "source": [
    "### Defining Search Parameters"
   ]
  },
  {
   "cell_type": "code",
   "execution_count": 27,
   "metadata": {},
   "outputs": [],
   "source": [
    "search_params = {\n",
    "    \"metric_type\": \"COSINE\", \n",
    "    \"offset\": 0, \n",
    "    \"ignore_growing\": False, \n",
    "    \"params\": {\"nprobe\": 20}\n",
    "}"
   ]
  },
  {
   "cell_type": "code",
   "execution_count": 28,
   "metadata": {},
   "outputs": [
    {
     "data": {
      "text/plain": [
       "array([-2.87091378e-02, -1.60262622e-02,  1.10321883e-02,  1.86346974e-02,\n",
       "        4.64565679e-03,  1.06061390e-02, -6.46375939e-02, -3.00045423e-02,\n",
       "       -1.68694369e-02,  5.11441231e-02,  5.06444885e-05,  1.29315825e-02,\n",
       "        1.02344705e-02,  9.36190225e-03, -1.87919363e-02, -2.54604947e-02,\n",
       "       -3.80817195e-03, -4.93968949e-02, -1.79287456e-02, -2.84742750e-02,\n",
       "        4.75340104e-03,  2.66201850e-02, -1.96729824e-02, -3.21539380e-02,\n",
       "       -1.03345923e-02, -2.50490326e-02, -2.96938908e-03, -2.37336308e-02,\n",
       "       -2.27651894e-02, -2.13819239e-02, -4.82474305e-02,  1.04074283e-02,\n",
       "        1.72209702e-02,  5.74808428e-03,  1.46720035e-03,  3.86455399e-03,\n",
       "       -2.94432603e-02,  1.58005357e-02,  1.04613239e-02, -2.53673252e-02,\n",
       "        2.12441273e-02,  1.71216875e-02,  4.79665175e-02, -1.06422522e-03,\n",
       "       -9.65849496e-03, -1.69090107e-02, -2.89468057e-02,  2.79049240e-02,\n",
       "       -9.63328220e-03, -3.34460698e-02, -8.34832527e-03, -3.38171273e-02,\n",
       "       -1.54383443e-02, -2.55691875e-02,  1.89093426e-02,  1.25905965e-02,\n",
       "       -3.16566392e-03,  8.61927588e-03, -7.68511295e-02,  2.24483758e-02,\n",
       "       -2.44042128e-02,  2.72800983e-03, -4.90450114e-02,  4.70497506e-03,\n",
       "       -1.62047613e-02,  8.10562400e-04, -3.76944692e-04, -7.21391663e-02,\n",
       "        3.85046043e-02,  2.54675448e-02,  1.48780225e-02, -1.99061967e-02,\n",
       "        9.62423347e-03,  3.57870385e-02, -5.98872490e-02,  1.97877921e-02,\n",
       "       -8.08350567e-04,  2.64703669e-02, -2.91710664e-02, -1.82910599e-02,\n",
       "       -1.99630507e-03, -1.21936314e-02, -1.02838306e-02, -3.60739254e-03,\n",
       "        4.75144433e-03, -5.55436593e-03,  6.06607879e-03, -2.31060572e-02,\n",
       "       -3.99290398e-02,  6.07077091e-04,  5.11951605e-03,  1.65640786e-02,\n",
       "       -4.89750318e-02,  1.08305626e-02, -7.93225504e-03, -3.10612377e-03,\n",
       "       -2.79985778e-02,  9.42405034e-03, -1.68563146e-03, -2.48176027e-02,\n",
       "       -8.82107206e-03, -2.02153204e-03,  4.68902811e-02,  3.45983543e-02,\n",
       "        8.54842830e-03,  2.17714626e-02, -1.04648788e-02, -5.18404916e-02,\n",
       "        1.20786428e-02,  1.90028287e-02,  2.09566709e-02, -5.44910319e-03,\n",
       "       -2.40871380e-03,  6.13450492e-03, -2.00488567e-02,  7.28958170e-04,\n",
       "       -1.44424208e-03,  3.16681340e-04,  3.37631581e-03, -2.51349360e-02,\n",
       "        7.41735287e-03, -2.89902911e-02,  1.43504745e-04,  7.38815451e-03,\n",
       "        4.17804439e-03,  3.49968695e-03, -3.19494233e-02,  2.08323188e-02,\n",
       "        2.87187472e-02, -5.95694873e-03, -1.49199311e-02,  3.94612849e-02,\n",
       "        6.56539155e-03,  3.30095328e-02,  4.59384620e-02,  7.85979442e-03,\n",
       "        4.40187380e-02,  2.51122955e-02,  7.05768215e-03,  1.69651471e-02,\n",
       "        1.04370033e-02, -1.28419539e-02, -1.52119510e-02, -2.98797083e-03,\n",
       "       -9.58752632e-03,  9.15793609e-03, -4.29038629e-02, -2.77227759e-02,\n",
       "        7.65625248e-03,  1.37427486e-02,  2.47154459e-02,  1.55626144e-02,\n",
       "        5.22650918e-03,  8.19297042e-03,  1.08369291e-02, -2.98849703e-03,\n",
       "        3.07594649e-02,  1.51423216e-02, -1.68006886e-02,  2.51046894e-03,\n",
       "        7.26790726e-03, -8.33222922e-03,  1.96288456e-03,  5.11258515e-03,\n",
       "        6.74670935e-03,  3.65205370e-02, -1.79497153e-02, -1.38813797e-02,\n",
       "        3.97394970e-03, -6.91167545e-03,  6.59176428e-03,  2.04321146e-02,\n",
       "        1.51409218e-02,  3.32999863e-02, -4.89684716e-02,  9.39340331e-03,\n",
       "        1.31606124e-02,  7.51666630e-06, -2.62573175e-02, -3.18085812e-02,\n",
       "       -3.38776340e-03,  9.47669521e-03,  8.51269346e-03, -6.01566851e-01,\n",
       "       -1.33613497e-02, -2.38594180e-03,  2.21071634e-02, -5.44976909e-03,\n",
       "       -5.36019867e-03, -7.48255383e-03,  4.07602824e-02, -4.58886055e-03,\n",
       "        8.69270414e-03, -2.36029606e-02,  1.03951516e-02, -8.31104163e-03,\n",
       "       -9.78228636e-03, -5.36237191e-03,  2.51516849e-02, -1.94646437e-02,\n",
       "        1.68813262e-02,  8.01511051e-04,  2.92990338e-02,  6.73393384e-02,\n",
       "        4.07005064e-02, -1.01314904e-02,  2.37041079e-02, -4.04576696e-02,\n",
       "        1.94652751e-02,  1.23475809e-02, -8.33581015e-03, -1.20703541e-02,\n",
       "        9.81803611e-03,  6.64091483e-02, -4.12731618e-03, -5.65610640e-02,\n",
       "       -1.18061891e-02, -2.98253703e-03,  1.13187591e-02,  1.22856405e-02,\n",
       "        1.04860645e-02,  2.00576093e-02,  6.95187179e-03, -2.22376008e-02,\n",
       "        2.65581943e-02,  1.60057582e-02,  2.53006816e-03, -1.22591434e-02,\n",
       "       -5.29109873e-02, -3.23906075e-03,  4.79775779e-02, -9.70194489e-03,\n",
       "        5.42523302e-02, -6.09622896e-02, -3.71073373e-02,  2.61813235e-02,\n",
       "       -2.84529440e-02,  4.30939309e-02, -3.65773477e-02,  6.70917425e-03,\n",
       "        8.30852240e-03, -7.68559799e-03, -5.09502292e-01,  2.11461782e-02,\n",
       "        7.55556906e-03,  1.40694380e-02, -6.33931719e-03, -3.60115990e-02,\n",
       "       -5.55364974e-03,  5.13330614e-03, -7.29257800e-03,  3.02602686e-02,\n",
       "        2.50119045e-02, -4.41016853e-02,  1.22729167e-02,  2.21663918e-02,\n",
       "        1.97532959e-02,  3.38134356e-02, -1.34844251e-03, -7.48654304e-04,\n",
       "        5.36936102e-03, -1.34616839e-02, -1.87955219e-02,  9.55377799e-03,\n",
       "        1.38567323e-02,  3.39581706e-02, -1.55483317e-02,  1.84715137e-01,\n",
       "       -1.29903480e-01, -9.08698700e-03,  3.07914112e-02, -1.22117763e-03,\n",
       "        8.99759959e-03, -2.48830784e-02,  3.50235775e-02, -1.50489993e-02,\n",
       "       -3.65535095e-02,  3.21496511e-03,  1.50383692e-02, -4.50208336e-02,\n",
       "       -2.20130221e-03,  1.23979514e-02, -7.78326718e-03, -3.53851318e-02,\n",
       "        3.79431969e-03,  2.33929716e-02,  3.31882499e-02,  9.33282427e-04,\n",
       "        1.69909913e-02,  1.47217168e-02, -2.72688381e-02,  3.49998325e-02,\n",
       "       -2.79970355e-02, -2.30269432e-02,  6.81521837e-03,  1.07255308e-02,\n",
       "        2.64356770e-02, -2.46221591e-02, -5.49391843e-03,  4.68503730e-03,\n",
       "        7.57045373e-02,  1.17236516e-02,  1.71793569e-02,  1.96663830e-02,\n",
       "       -1.50633203e-02, -1.59227718e-02,  2.44089384e-02, -1.55817419e-02,\n",
       "        1.41169792e-02,  2.44718026e-02,  9.98627301e-03,  7.57831056e-03,\n",
       "       -2.15096138e-02,  5.22398483e-03, -1.93064194e-02, -4.13006991e-02,\n",
       "       -1.74904764e-02, -2.95764790e-03, -3.09121311e-02, -1.53064439e-02,\n",
       "       -8.90582241e-03,  1.09893852e-03,  2.33924557e-02,  4.99219215e-03,\n",
       "       -2.43737157e-02, -3.77360056e-03, -1.68679599e-02,  2.12552361e-02,\n",
       "        1.94403734e-02, -4.70054662e-03,  2.98908148e-02, -4.28001732e-02,\n",
       "       -1.83814764e-02,  4.74543497e-03,  5.71506377e-03,  1.84439830e-02,\n",
       "       -6.84530735e-02, -2.34049209e-03, -1.51403807e-02, -1.04895262e-02,\n",
       "        9.27867740e-03,  1.65671166e-02,  1.70908291e-02,  7.10566267e-02,\n",
       "        1.99781116e-02, -3.08750384e-02, -1.78278715e-03, -5.59272245e-04,\n",
       "       -8.84918217e-03,  1.01267956e-02, -1.38782058e-02, -2.90088356e-02,\n",
       "        2.35477537e-02,  2.60839257e-02,  2.47309487e-02,  9.77589190e-03,\n",
       "       -9.56410635e-03, -1.65076531e-03, -8.34830222e-04,  6.40469603e-03,\n",
       "       -2.53506452e-02, -1.75946262e-02,  2.26758812e-02,  3.61940935e-02,\n",
       "       -3.59312035e-02, -7.70356553e-03, -2.84671187e-02,  4.84634712e-02,\n",
       "        2.10346133e-02, -3.23310308e-02, -1.27178896e-02, -5.19992900e-04,\n",
       "       -1.41247845e-04, -1.78588554e-02, -6.84731230e-02,  2.36928891e-02,\n",
       "        1.91725791e-02,  5.33133708e-02,  2.04287516e-03, -3.47804166e-02,\n",
       "       -6.99583068e-03, -4.04073447e-02,  3.67892087e-02,  1.43842138e-02,\n",
       "        2.59990003e-02,  7.94267841e-03, -5.40669374e-02,  1.03786495e-02,\n",
       "        2.36541145e-02, -1.90526154e-02, -1.28593193e-02,  1.82358809e-02,\n",
       "       -2.97183549e-04, -5.97139774e-03, -1.21052768e-02, -3.52575183e-02,\n",
       "       -3.86791420e-03,  1.08609570e-03, -1.73395849e-03, -1.26787880e-02,\n",
       "       -3.72289494e-02, -7.83733055e-02,  3.45043689e-02,  1.10134948e-02,\n",
       "       -1.40757188e-02,  3.52854049e-03,  5.08325989e-04, -4.17232290e-02,\n",
       "       -3.40029709e-02,  2.11869348e-02, -1.75232850e-02,  9.85914189e-03,\n",
       "       -9.83843394e-03,  3.40695307e-02,  1.47458247e-03, -9.26269591e-03,\n",
       "        2.86038797e-02,  4.04792419e-03, -1.36614479e-02,  7.39747239e-03,\n",
       "       -2.37526316e-02, -3.05353273e-02, -5.12769911e-03, -7.10998243e-03,\n",
       "       -4.99919653e-02, -2.18104012e-02, -2.46075056e-02,  2.84169279e-02,\n",
       "        5.55893928e-02, -4.58682738e-02,  3.45848268e-03, -2.11152551e-03,\n",
       "       -1.95533019e-02, -4.67568114e-02, -1.34490347e-02,  3.31305340e-02,\n",
       "       -8.44294764e-03,  2.42880397e-02,  1.36016514e-02,  3.04629616e-02,\n",
       "       -5.38890138e-02,  6.54229952e-04,  7.52160372e-03, -4.76917289e-02,\n",
       "       -1.08191129e-02, -4.85225059e-02, -1.18433516e-02,  1.23881912e-02,\n",
       "        2.60402579e-02, -1.70100443e-02, -2.03511002e-03, -1.62460450e-02,\n",
       "        2.41539180e-02, -1.76296923e-02,  2.58749407e-02,  6.76360503e-02,\n",
       "       -8.60985927e-03,  8.07725638e-03, -2.72128806e-02, -3.09665408e-03,\n",
       "       -1.01545895e-03, -1.39239253e-02,  1.54783679e-02,  2.56590080e-02,\n",
       "       -6.58056641e-04, -3.92792234e-03,  1.02415252e-02,  1.10746492e-02,\n",
       "       -1.63529087e-02, -1.03099477e-02, -4.88504656e-02,  3.26070338e-02,\n",
       "       -1.19473962e-02,  2.10235268e-03, -2.03301162e-02,  2.00394238e-03,\n",
       "        4.89487778e-04, -6.66153943e-03, -4.66628820e-02, -3.18990275e-02,\n",
       "       -1.84014719e-02,  7.37752672e-03, -4.97336686e-02, -1.37162041e-02,\n",
       "        2.35395581e-02,  2.52476968e-02, -5.51043116e-02, -8.52459017e-03,\n",
       "        2.97602154e-02, -1.92106310e-02,  1.96696930e-02,  6.57825731e-03,\n",
       "        4.83386703e-02,  2.27394351e-03,  4.36200351e-02, -1.89914508e-03,\n",
       "        4.20447327e-02,  2.37044860e-02,  1.35911880e-02,  1.59835059e-03,\n",
       "       -1.71011835e-02, -9.29094944e-03,  6.96467757e-02, -4.70461696e-02,\n",
       "        1.63303968e-02, -6.37380593e-03, -2.04686988e-02,  1.88500341e-03,\n",
       "        4.53653093e-03, -6.90863878e-02, -1.02397121e-01,  1.71823129e-02],\n",
       "      dtype=float32)"
      ]
     },
     "execution_count": 28,
     "metadata": {},
     "output_type": "execute_result"
    }
   ],
   "source": [
    "sample_query = 'Eyeshadow Powder'\n",
    "query_embedding = get_text_query_embedding(sample_query)\n",
    "# sample_query = products[1]['Image']\n",
    "# sample_query_embedding = generate_text_embeddings(sample_query)\n",
    "# sample_query_embedding = generate_image_embeddings(sample_query)\n",
    "# sample_query_embedding\n",
    "# len(embedding) == len(title_v_embedding)\n",
    "query_embedding"
   ]
  },
  {
   "cell_type": "code",
   "execution_count": 29,
   "metadata": {},
   "outputs": [],
   "source": [
    "results = products_collection.search(\n",
    "    data=[query_embedding], \n",
    "    anns_field=\"title_vector\", \n",
    "    # the sum of `offset` in `param` and `limit` \n",
    "    # should be less than 16384.\n",
    "    param=search_params,\n",
    "    limit=10,\n",
    "    expr=None,\n",
    "    # set the names of the fields you want to \n",
    "    # retrieve from the search result.\n",
    "    output_fields=['title','price'],\n",
    "    consistency_level=\"Strong\"\n",
    ")"
   ]
  },
  {
   "cell_type": "code",
   "execution_count": 30,
   "metadata": {},
   "outputs": [
    {
     "name": "stdout",
     "output_type": "stream",
     "text": [
      "id: 451413128074150986, distance: 0.8763506412506104, entity: {'title': 'Color On Professional Eye Shadow Smokey Classics', 'price': 0.0}\n",
      "id: 451412599882129925, distance: 0.8670003414154053, entity: {'title': 'cosmetic', 'price': 0.0}\n",
      "id: 451413128074130806, distance: 0.8618062734603882, entity: {'title': 'Foundation Makeup', 'price': 0.0}\n",
      "id: 451413128074138397, distance: 0.8314498662948608, entity: {'title': 'Gel Eyeliner', 'price': 6.489999771118164}\n",
      "id: 451413128074158552, distance: 0.8233270645141602, entity: {'title': 'Dirty Little Secret DLS Eyeshadow -Bikini', 'price': 6.900000095367432}\n",
      "id: 451413128074136722, distance: 0.8155425190925598, entity: {'title': 'NEW Color Eye Shadow Makeup Cosmetic Shimmer Eyeshadow Palette NEON Set', 'price': 0.0}\n",
      "id: 451413128074136024, distance: 0.7919713258743286, entity: {'title': 'Exotic Eyes Complete Eye Makeup Kit Reusable - Isis', 'price': 0.0}\n",
      "id: 451412599882123932, distance: 0.7884990572929382, entity: {'title': 'Beauty 21 Cosmetics Clipc32 Beauty 21 Cosmetics', 'price': 0.0}\n",
      "id: 451413128074140209, distance: 0.7854674458503723, entity: {'title': 'Eyelash and Eyebrow Enhancer for Men and Women', 'price': 0.0}\n",
      "id: 451412599882143414, distance: 0.784408688545227, entity: {'title': 'Adds a hint of color to all skin tones', 'price': 0.0}\n"
     ]
    }
   ],
   "source": [
    "for result in results[0]:\n",
    "    # print(result[0].entity.get('title'),'\\n')\n",
    "    print(result.entity)"
   ]
  },
  {
   "cell_type": "code",
   "execution_count": 31,
   "metadata": {},
   "outputs": [],
   "source": [
    "results_images = images_collection.search(\n",
    "    data=[query_embedding], \n",
    "    anns_field=\"image_vector\", \n",
    "    # the sum of `offset` in `param` and `limit` \n",
    "    # should be less than 16384.\n",
    "    param=search_params,\n",
    "    limit=100,\n",
    "    expr=None,\n",
    "    # set the names of the fields you want to \n",
    "    # retrieve from the search result.\n",
    "    output_fields=['p_id','image_url'],\n",
    "    consistency_level=\"Strong\"\n",
    ")"
   ]
  },
  {
   "cell_type": "code",
   "execution_count": 32,
   "metadata": {},
   "outputs": [
    {
     "name": "stdout",
     "output_type": "stream",
     "text": [
      "[451413128074154437, 451412599882129153, 451413128074132189, 451413128074137784, 451413128074145676, 451412599882127098, 451413128074154035, 451413128074145727, 451413128074135008, 451413128074122750, 451413128074160361, 451412599882139242, 451412599882135356, 451413128074150631, 451412599882139242, 451413128074135372, 451413128074127982, 451413128074133968, 451412599882124608, 451412599882141317, 451413128074143262, 451413128074146096, 451413128074141226, 451413128074161006, 451413128074132841, 451413128074136389, 451413128074150631, 451413128074137415, 451413128074134604, 451412599882138209, 451413128074158573, 451413128074142559, 451413128074155094, 451412599882129153, 451412599882129153, 451413128074138097, 451412599882124588, 451412599882140952, 451412599882123914, 451412599882137438, 451413128074154029, 451412599882140230, 451413128074141892, 451413128074137780, 451413128074135693, 451412599882128777, 451412599882143135, 451412599882130855, 451413128074146096, 451413128074141226, 451412599882140230, 451413128074161452, 451412599882143468, 451413128074123453, 451412599882140301, 451412599882140301, 451413128074140503, 451413128074141220, 451412599882122463, 451413128074147109, 451412599882129477, 451412599882124588, 451412599882134040, 451412599882122899, 451412599882131888, 451413128074160729, 451412599882129206, 451412599882123541, 451413128074161037, 451413128074131795, 451413128074133892, 451412599882132640, 451412599882128862, 451412599882127073, 451413128074142197, 451413128074158598, 451413128074151683, 451412599882131546, 451413128074156124, 451413128074162769, 451413128074135966, 451412599882143744, 451413128074137756, 451413128074137756, 451413128074142293, 451413128074137056, 451412599882140591, 451413128074162769, 451413128074157917, 451413128074146432, 451412599882132234, 451413128074136732, 451413128074135278, 451413128074162069, 451413128074124144, 451413128074128285, 451413128074149243, 451413128074159688, 451412599882126751, 451412599882135356]\n"
     ]
    }
   ],
   "source": [
    "# Assuming results_images is the variable holding your search results\n",
    "p_id_list = []\n",
    "\n",
    "for result in results_images[0]:\n",
    "    p_id = result.entity.get('p_id')\n",
    "    p_id_list.append(p_id)\n",
    "\n",
    "print(p_id_list)\n"
   ]
  },
  {
   "cell_type": "code",
   "execution_count": 66,
   "metadata": {},
   "outputs": [
    {
     "name": "stdout",
     "output_type": "stream",
     "text": [
      "id: 451413128074154653, distance: 0.27994802594184875, entity: {'p_id': 451413128074154437, 'image_url': 'https://m.media-amazon.com/images/I/71-ekhsaXSL._SL1500_.jpg'}\n",
      "id: 451412599882129297, distance: 0.2792852520942688, entity: {'p_id': 451412599882129153, 'image_url': 'https://m.media-amazon.com/images/I/91QfwpCtBQL._SL1500_.jpg'}\n",
      "id: 451413128074132374, distance: 0.2773583233356476, entity: {'p_id': 451413128074132189, 'image_url': 'https://m.media-amazon.com/images/I/71bxW7PRNaL._SL1500_.jpg'}\n",
      "id: 451413128074137998, distance: 0.2770081162452698, entity: {'p_id': 451413128074137784, 'image_url': 'https://m.media-amazon.com/images/I/91CAdjH3I1L._SL1500_.jpg'}\n",
      "id: 451413128074145783, distance: 0.27623647451400757, entity: {'p_id': 451413128074145676, 'image_url': 'https://m.media-amazon.com/images/I/51XeGNInTZL.jpg'}\n",
      "id: 451412599882127318, distance: 0.27580058574676514, entity: {'p_id': 451412599882127098, 'image_url': 'https://m.media-amazon.com/images/I/41QvkwiGE6L.jpg'}\n",
      "id: 451413128074154176, distance: 0.27437156438827515, entity: {'p_id': 451413128074154035, 'image_url': 'https://m.media-amazon.com/images/I/41DHtW0qA+L.jpg'}\n",
      "id: 451413128074145915, distance: 0.272786021232605, entity: {'p_id': 451413128074145727, 'image_url': 'https://m.media-amazon.com/images/I/61rB8CwcfgL.jpg'}\n",
      "id: 451413128074135224, distance: 0.2727647125720978, entity: {'p_id': 451413128074135008, 'image_url': 'https://m.media-amazon.com/images/I/71mNXU+JnxL._SL1024_.jpg'}\n",
      "id: 451413128074122896, distance: 0.27262091636657715, entity: {'p_id': 451413128074122750, 'image_url': 'https://m.media-amazon.com/images/I/41AEI7uYFlL.jpg'}\n",
      "id: 451413128074160539, distance: 0.27168527245521545, entity: {'p_id': 451413128074160361, 'image_url': 'https://m.media-amazon.com/images/I/61uV6CwA1bL._SL1200_.jpg'}\n",
      "id: 451412599882139442, distance: 0.27158159017562866, entity: {'p_id': 451412599882139242, 'image_url': 'https://m.media-amazon.com/images/I/71+m7ZwjIPL._SL1100_.jpg'}\n",
      "id: 451412599882135488, distance: 0.27104100584983826, entity: {'p_id': 451412599882135356, 'image_url': 'https://m.media-amazon.com/images/I/81GjLPqv9hL._SL1500_.jpg'}\n",
      "id: 451413128074150834, distance: 0.2701776623725891, entity: {'p_id': 451413128074150631, 'image_url': 'https://m.media-amazon.com/images/I/81h8BLg4PfL._SL1500_.jpg'}\n",
      "id: 451412599882139440, distance: 0.2696460783481598, entity: {'p_id': 451412599882139242, 'image_url': 'https://m.media-amazon.com/images/I/71E0lRtuFEL._SL1200_.jpg'}\n",
      "id: 451413128074135618, distance: 0.2687970697879791, entity: {'p_id': 451413128074135372, 'image_url': 'https://m.media-amazon.com/images/I/21C331tpeML.jpg'}\n",
      "id: 451413128074128186, distance: 0.2679643929004669, entity: {'p_id': 451413128074127982, 'image_url': 'https://m.media-amazon.com/images/I/61yNgwHZPVL._SL1000_.jpg'}\n",
      "id: 451413128074134218, distance: 0.26785722374916077, entity: {'p_id': 451413128074133968, 'image_url': 'https://m.media-amazon.com/images/I/71NoQIfWKKL._SL1080_.jpg'}\n",
      "id: 451412599882124764, distance: 0.267831414937973, entity: {'p_id': 451412599882124608, 'image_url': 'https://m.media-amazon.com/images/I/7182bdmRuoL._SL1000_.jpg'}\n",
      "id: 451412599882141483, distance: 0.26722806692123413, entity: {'p_id': 451412599882141317, 'image_url': 'https://m.media-amazon.com/images/I/91JZuEr-ajL._SL1500_.jpg'}\n",
      "id: 451413128074143414, distance: 0.26649224758148193, entity: {'p_id': 451413128074143262, 'image_url': 'https://m.media-amazon.com/images/I/41tSBnzQDtS.jpg'}\n",
      "id: 451413128074146331, distance: 0.266225129365921, entity: {'p_id': 451413128074146096, 'image_url': 'https://m.media-amazon.com/images/I/81e-W2Cw1VS._SL1500_.jpg'}\n",
      "id: 451413128074141410, distance: 0.266225129365921, entity: {'p_id': 451413128074141226, 'image_url': 'https://m.media-amazon.com/images/I/81e-W2Cw1VS._SL1500_.jpg'}\n",
      "id: 451413128074161109, distance: 0.26620835065841675, entity: {'p_id': 451413128074161006, 'image_url': 'https://m.media-amazon.com/images/I/51yrtp9kmkL.jpg'}\n",
      "id: 451413128074132970, distance: 0.26556792855262756, entity: {'p_id': 451413128074132841, 'image_url': 'https://m.media-amazon.com/images/I/21UYs9ghQFL.jpg'}\n",
      "id: 451413128074136614, distance: 0.26555564999580383, entity: {'p_id': 451413128074136389, 'image_url': 'https://m.media-amazon.com/images/I/21u4ZejzlpL.jpg'}\n",
      "id: 451413128074150835, distance: 0.26554933190345764, entity: {'p_id': 451413128074150631, 'image_url': 'https://m.media-amazon.com/images/I/718Pmv7UPhL._SL1500_.jpg'}\n",
      "id: 451413128074137608, distance: 0.2646278440952301, entity: {'p_id': 451413128074137415, 'image_url': 'https://m.media-amazon.com/images/I/41fbxVxXJNL.jpg'}\n",
      "id: 451413128074134725, distance: 0.2642213702201843, entity: {'p_id': 451413128074134604, 'image_url': 'https://m.media-amazon.com/images/I/31d+t-0TIDL.jpg'}\n",
      "id: 451412599882138450, distance: 0.2639421224594116, entity: {'p_id': 451412599882138209, 'image_url': 'https://m.media-amazon.com/images/I/614uNL6LgBL._SL1000_.jpg'}\n",
      "id: 451413128074158706, distance: 0.2634214758872986, entity: {'p_id': 451413128074158573, 'image_url': 'https://m.media-amazon.com/images/I/91fKUdtcDFL._SL1500_.jpg'}\n",
      "id: 451413128074142686, distance: 0.26313480734825134, entity: {'p_id': 451413128074142559, 'image_url': 'https://m.media-amazon.com/images/I/71cud1dRqtL._SL1500_.jpg'}\n",
      "id: 451413128074155248, distance: 0.26308614015579224, entity: {'p_id': 451413128074155094, 'image_url': 'https://m.media-amazon.com/images/I/51QhkOHZU2L._SL1200_.jpg'}\n",
      "id: 451412599882129295, distance: 0.26284554600715637, entity: {'p_id': 451412599882129153, 'image_url': 'https://m.media-amazon.com/images/I/81LKXgGo6YL._SL1500_.jpg'}\n",
      "id: 451412599882129296, distance: 0.26255813241004944, entity: {'p_id': 451412599882129153, 'image_url': 'https://m.media-amazon.com/images/I/71Qh+rruYzL._SL1500_.jpg'}\n",
      "id: 451413128074138264, distance: 0.2623801827430725, entity: {'p_id': 451413128074138097, 'image_url': 'https://m.media-amazon.com/images/I/81j2eXAyXQL._SL1500_.jpg'}\n",
      "id: 451412599882124710, distance: 0.26236939430236816, entity: {'p_id': 451412599882124588, 'image_url': 'https://m.media-amazon.com/images/I/8127TKQx7oL._SL1200_.jpg'}\n",
      "id: 451412599882141110, distance: 0.2623266279697418, entity: {'p_id': 451412599882140952, 'image_url': 'https://m.media-amazon.com/images/I/51T7EoDDJoL.jpg'}\n",
      "id: 451412599882124057, distance: 0.2620392143726349, entity: {'p_id': 451412599882123914, 'image_url': 'https://m.media-amazon.com/images/I/513bRJXSHhL.jpg'}\n",
      "id: 451412599882137552, distance: 0.26193633675575256, entity: {'p_id': 451412599882137438, 'image_url': 'https://m.media-amazon.com/images/I/71uAGoFk6ML._SL1000_.jpg'}\n",
      "id: 451413128074154163, distance: 0.2611925005912781, entity: {'p_id': 451413128074154029, 'image_url': 'https://m.media-amazon.com/images/I/31xZF1WN8+L.jpg'}\n",
      "id: 451412599882140331, distance: 0.26086223125457764, entity: {'p_id': 451412599882140230, 'image_url': 'https://m.media-amazon.com/images/I/61MXCNsgdoL._SL1000_.jpg'}\n",
      "id: 451413128074142047, distance: 0.26086026430130005, entity: {'p_id': 451413128074141892, 'image_url': 'https://m.media-amazon.com/images/I/61qU9EPNe7L._SL1000_.jpg'}\n",
      "id: 451413128074137988, distance: 0.26059556007385254, entity: {'p_id': 451413128074137780, 'image_url': 'https://m.media-amazon.com/images/I/71gTx2hTiwL._SL1100_.jpg'}\n",
      "id: 451413128074135882, distance: 0.2605317234992981, entity: {'p_id': 451413128074135693, 'image_url': 'https://m.media-amazon.com/images/I/518oPANBLYL.jpg'}\n",
      "id: 451412599882128884, distance: 0.2605060636997223, entity: {'p_id': 451412599882128777, 'image_url': 'https://m.media-amazon.com/images/I/31ZZ8LqW9WL.jpg'}\n",
      "id: 451412599882143381, distance: 0.26025351881980896, entity: {'p_id': 451412599882143135, 'image_url': 'https://m.media-amazon.com/images/I/715BwOK6RyL._SL1500_.jpg'}\n",
      "id: 451412599882130958, distance: 0.2602526545524597, entity: {'p_id': 451412599882130855, 'image_url': 'https://m.media-amazon.com/images/I/41NqesbC1FL.jpg'}\n",
      "id: 451413128074146332, distance: 0.25987669825553894, entity: {'p_id': 451413128074146096, 'image_url': 'https://m.media-amazon.com/images/I/71inrNbTedS._SL1500_.jpg'}\n",
      "id: 451413128074141411, distance: 0.25987669825553894, entity: {'p_id': 451413128074141226, 'image_url': 'https://m.media-amazon.com/images/I/71inrNbTedS._SL1500_.jpg'}\n",
      "id: 451412599882140333, distance: 0.2596902549266815, entity: {'p_id': 451412599882140230, 'image_url': 'https://m.media-amazon.com/images/I/61kLEw5o+RL._SL1000_.jpg'}\n",
      "id: 451413128074161696, distance: 0.2596622407436371, entity: {'p_id': 451413128074161452, 'image_url': 'https://m.media-amazon.com/images/I/41Qs-FOFyLL.jpg'}\n",
      "id: 451412599882143676, distance: 0.2591591477394104, entity: {'p_id': 451412599882143468, 'image_url': 'https://m.media-amazon.com/images/I/51vXdzqahUL.jpg'}\n",
      "id: 451413128074123591, distance: 0.25915125012397766, entity: {'p_id': 451413128074123453, 'image_url': 'https://m.media-amazon.com/images/I/41meWz-qdCL.jpg'}\n",
      "id: 451412599882140507, distance: 0.25905001163482666, entity: {'p_id': 451412599882140301, 'image_url': 'https://m.media-amazon.com/images/I/41yHdLnaVRL.jpg'}\n",
      "id: 451412599882140506, distance: 0.25905001163482666, entity: {'p_id': 451412599882140301, 'image_url': 'https://m.media-amazon.com/images/I/41yHdLnaVRL.jpg'}\n",
      "id: 451413128074140660, distance: 0.2589476406574249, entity: {'p_id': 451413128074140503, 'image_url': 'https://m.media-amazon.com/images/I/51OyZWNG3QL._SL1010_.jpg'}\n",
      "id: 451413128074141394, distance: 0.2587048411369324, entity: {'p_id': 451413128074141220, 'image_url': 'https://m.media-amazon.com/images/I/41MyFgf9hEL.jpg'}\n",
      "id: 451412599882122586, distance: 0.258248895406723, entity: {'p_id': 451412599882122463, 'image_url': 'https://m.media-amazon.com/images/I/815vHcRYzPL._SL1500_.jpg'}\n",
      "id: 451413128074147276, distance: 0.2582194209098816, entity: {'p_id': 451413128074147109, 'image_url': 'https://m.media-amazon.com/images/I/61ZiNKRFoVL.jpg'}\n",
      "id: 451412599882129586, distance: 0.2580116391181946, entity: {'p_id': 451412599882129477, 'image_url': 'https://m.media-amazon.com/images/I/61SUZ+qZi1L._SL1000_.jpg'}\n",
      "id: 451412599882124709, distance: 0.257556289434433, entity: {'p_id': 451412599882124588, 'image_url': 'https://m.media-amazon.com/images/I/81UsiYagH+L._SL1200_.jpg'}\n",
      "id: 451412599882134257, distance: 0.257528156042099, entity: {'p_id': 451412599882134040, 'image_url': 'https://m.media-amazon.com/images/I/41QtzCAFsfL.jpg'}\n",
      "id: 451412599882123140, distance: 0.25723183155059814, entity: {'p_id': 451412599882122899, 'image_url': 'https://m.media-amazon.com/images/I/5148QXVtf3L.jpg'}\n",
      "id: 451412599882132001, distance: 0.2571055591106415, entity: {'p_id': 451412599882131888, 'image_url': 'https://m.media-amazon.com/images/I/71F+OdNhcCL._SL1500_.jpg'}\n",
      "id: 451413128074160920, distance: 0.2570374011993408, entity: {'p_id': 451413128074160729, 'image_url': 'https://m.media-amazon.com/images/I/71cufqqZ74L._SL1500_.jpg'}\n",
      "id: 451412599882129431, distance: 0.25700560212135315, entity: {'p_id': 451412599882129206, 'image_url': 'https://m.media-amazon.com/images/I/31KV2K1M79L.jpg'}\n",
      "id: 451412599882123642, distance: 0.2569494843482971, entity: {'p_id': 451412599882123541, 'image_url': 'https://m.media-amazon.com/images/I/71-2a4JXR2S._SL1500_.jpg'}\n",
      "id: 451413128074161189, distance: 0.2567996084690094, entity: {'p_id': 451413128074161037, 'image_url': 'https://m.media-amazon.com/images/I/81zLWPCGomL._SL1500_.jpg'}\n",
      "id: 451413128074131912, distance: 0.25679245591163635, entity: {'p_id': 451413128074131795, 'image_url': 'https://m.media-amazon.com/images/I/51P7GnqTRSL.jpg'}\n",
      "id: 451413128074134018, distance: 0.2567428648471832, entity: {'p_id': 451413128074133892, 'image_url': 'https://m.media-amazon.com/images/I/519Z1cwExHL.jpg'}\n",
      "id: 451412599882132823, distance: 0.25671398639678955, entity: {'p_id': 451412599882132640, 'image_url': 'https://m.media-amazon.com/images/I/61uJDT9sCZL._SL1000_.jpg'}\n",
      "id: 451412599882129094, distance: 0.2566736936569214, entity: {'p_id': 451412599882128862, 'image_url': 'https://m.media-amazon.com/images/I/71C5QAsk9eL._SL1050_.jpg'}\n",
      "id: 451412599882127259, distance: 0.25667017698287964, entity: {'p_id': 451412599882127073, 'image_url': 'https://m.media-amazon.com/images/I/61bGgYRE+AL._SL1080_.jpg'}\n",
      "id: 451413128074142302, distance: 0.25661951303482056, entity: {'p_id': 451413128074142197, 'image_url': 'https://m.media-amazon.com/images/I/71AvIGEUWuL._SL1296_.jpg'}\n",
      "id: 451413128074158777, distance: 0.2565435469150543, entity: {'p_id': 451413128074158598, 'image_url': 'https://m.media-amazon.com/images/I/61yFs0l7OML._SL1019_.jpg'}\n",
      "id: 451413128074151925, distance: 0.2564120292663574, entity: {'p_id': 451413128074151683, 'image_url': 'https://m.media-amazon.com/images/I/81K3XFA6v+L._SL1445_.jpg'}\n",
      "id: 451412599882131653, distance: 0.25635507702827454, entity: {'p_id': 451412599882131546, 'image_url': 'https://m.media-amazon.com/images/I/61enZpunzmL._SL1000_.jpg'}\n",
      "id: 451413128074156254, distance: 0.25632011890411377, entity: {'p_id': 451413128074156124, 'image_url': 'https://m.media-amazon.com/images/I/51wHDvNx59L._SL1000_.jpg'}\n",
      "id: 451413128074162904, distance: 0.25620678067207336, entity: {'p_id': 451413128074162769, 'image_url': 'https://m.media-amazon.com/images/I/815Ps-9nfRL._SL1500_.jpg'}\n",
      "id: 451413128074136081, distance: 0.2561549246311188, entity: {'p_id': 451413128074135966, 'image_url': 'https://m.media-amazon.com/images/I/51vC1OHdEIL.jpg'}\n",
      "id: 451412599882143874, distance: 0.25588202476501465, entity: {'p_id': 451412599882143744, 'image_url': 'https://m.media-amazon.com/images/I/81obxFnMYIL._SL1500_.jpg'}\n",
      "id: 451413128074137935, distance: 0.25583988428115845, entity: {'p_id': 451413128074137756, 'image_url': 'https://m.media-amazon.com/images/I/415A01uMcIL.jpg'}\n",
      "id: 451413128074137933, distance: 0.25572314858436584, entity: {'p_id': 451413128074137756, 'image_url': 'https://m.media-amazon.com/images/I/516mG2t7G-L.jpg'}\n",
      "id: 451413128074142535, distance: 0.25566256046295166, entity: {'p_id': 451413128074142293, 'image_url': 'https://m.media-amazon.com/images/I/615WDKZCmzL._SL1000_.jpg'}\n",
      "id: 451413128074137249, distance: 0.2555585503578186, entity: {'p_id': 451413128074137056, 'image_url': 'https://m.media-amazon.com/images/I/61cVwzr+jmL.jpg'}\n",
      "id: 451412599882140721, distance: 0.25554898381233215, entity: {'p_id': 451412599882140591, 'image_url': 'https://m.media-amazon.com/images/I/41Am4srw91L.jpg'}\n",
      "id: 451413128074162905, distance: 0.2553711533546448, entity: {'p_id': 451413128074162769, 'image_url': 'https://m.media-amazon.com/images/I/81RuKmy+J4L._SL1500_.jpg'}\n",
      "id: 451413128074158111, distance: 0.2552357017993927, entity: {'p_id': 451413128074157917, 'image_url': 'https://m.media-amazon.com/images/I/81+sn6Z3GOL._SL1500_.jpg'}\n",
      "id: 451413128074146616, distance: 0.2550504505634308, entity: {'p_id': 451413128074146432, 'image_url': 'https://m.media-amazon.com/images/I/71LH+b97lyL._SL1500_.jpg'}\n",
      "id: 451412599882132335, distance: 0.25499197840690613, entity: {'p_id': 451412599882132234, 'image_url': 'https://m.media-amazon.com/images/I/31IhvAIF48S.jpg'}\n",
      "id: 451413128074136951, distance: 0.254948228597641, entity: {'p_id': 451413128074136732, 'image_url': 'https://m.media-amazon.com/images/I/61efgFdqOYL.jpg'}\n",
      "id: 451413128074135384, distance: 0.25484520196914673, entity: {'p_id': 451413128074135278, 'image_url': 'https://m.media-amazon.com/images/I/711-9YgPvFL._SL1280_.jpg'}\n",
      "id: 451413128074162195, distance: 0.25482481718063354, entity: {'p_id': 451413128074162069, 'image_url': 'https://m.media-amazon.com/images/I/41jT8RY8N3L.jpg'}\n",
      "id: 451413128074124278, distance: 0.25477713346481323, entity: {'p_id': 451413128074124144, 'image_url': 'https://m.media-amazon.com/images/I/41hYGok7AaL.jpg'}\n",
      "id: 451413128074128398, distance: 0.2547444999217987, entity: {'p_id': 451413128074128285, 'image_url': 'https://m.media-amazon.com/images/I/91S-9DYF9oL._SL1500_.jpg'}\n",
      "id: 451413128074149453, distance: 0.25450143218040466, entity: {'p_id': 451413128074149243, 'image_url': 'https://m.media-amazon.com/images/I/61G7E2nrcIL._SL1001_.jpg'}\n",
      "id: 451413128074159899, distance: 0.25439685583114624, entity: {'p_id': 451413128074159688, 'image_url': 'https://m.media-amazon.com/images/I/51YDjOOBE9L.jpg'}\n",
      "id: 451412599882126993, distance: 0.254286527633667, entity: {'p_id': 451412599882126751, 'image_url': 'https://m.media-amazon.com/images/I/51Mr9eS4qIL._SL1001_.jpg'}\n",
      "id: 451412599882135486, distance: 0.2540777325630188, entity: {'p_id': 451412599882135356, 'image_url': 'https://m.media-amazon.com/images/I/716DDPQ9GaL._SL1000_.jpg'}\n",
      "<class 'pymilvus.client.abstract.SearchResult'>\n"
     ]
    }
   ],
   "source": [
    "for result in results_images[0]:\n",
    "    # print(result[0].entity.get('title'),'\\n')\n",
    "    # print(type(result))\n",
    "    print(result)\n",
    "\n",
    "print(type(results_images))"
   ]
  },
  {
   "cell_type": "code",
   "execution_count": 41,
   "metadata": {},
   "outputs": [
    {
     "data": {
      "text/plain": [
       "{'title': 'Autumn Delights Body Mist Spray for Women, Black Cherry, Vanilla & Amber, 8.45 Fluid Oz',\n",
       " 'price': 0.0,\n",
       " 'average_rating': 4.0,\n",
       " 'features': [],\n",
       " 'description': [],\n",
       " 'categories': [],\n",
       " 'store': 'Cosmolive',\n",
       " 'main_category': 'All Beauty',\n",
       " 'product_id': 451412599882132595}"
      ]
     },
     "execution_count": 41,
     "metadata": {},
     "output_type": "execute_result"
    }
   ],
   "source": [
    "matching_results  = products_collection.query(expr=f'product_id in {p_id_list}', output_fields=['title','price', 'average_rating', 'features', 'description', 'categories', 'store', 'main_category'])\n",
    "# title_v_embedding = product_ids[0][\"title_vector\"]\n",
    "matching_results[4]"
   ]
  },
  {
   "cell_type": "markdown",
   "metadata": {},
   "source": [
    "### Query match with title and then get the images"
   ]
  },
  {
   "cell_type": "code",
   "execution_count": 33,
   "metadata": {},
   "outputs": [],
   "source": [
    "sample_query = 'Eyeshadow Powder'\n",
    "query_embedding = get_text_query_embedding(sample_query)\n"
   ]
  },
  {
   "cell_type": "code",
   "execution_count": null,
   "metadata": {},
   "outputs": [],
   "source": []
  }
 ],
 "metadata": {
  "kernelspec": {
   "display_name": "Python 3",
   "language": "python",
   "name": "python3"
  },
  "language_info": {
   "codemirror_mode": {
    "name": "ipython",
    "version": 3
   },
   "file_extension": ".py",
   "mimetype": "text/x-python",
   "name": "python",
   "nbconvert_exporter": "python",
   "pygments_lexer": "ipython3",
   "version": "3.11.5"
  }
 },
 "nbformat": 4,
 "nbformat_minor": 2
}
